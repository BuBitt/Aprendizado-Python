{
 "metadata": {
  "language_info": {
   "codemirror_mode": {
    "name": "ipython",
    "version": 3
   },
   "file_extension": ".py",
   "mimetype": "text/x-python",
   "name": "python",
   "nbconvert_exporter": "python",
   "pygments_lexer": "ipython3",
   "version": "3.9.2"
  },
  "orig_nbformat": 2,
  "kernelspec": {
   "name": "python392jvsc74a57bd0c9c1138eecf26e7a5effbc26cc8cecba633cc36cccd9940ee3aa0316b4b046bd",
   "display_name": "Python 3.9.2 64-bit ('guppe': virtualenvwrapper)"
  }
 },
 "nbformat": 4,
 "nbformat_minor": 2,
 "cells": [
  {
   "cell_type": "code",
   "execution_count": null,
   "metadata": {},
   "outputs": [],
   "source": [
    "\"\"\"\n",
    "Modulo Collection -> Ordered dict\n",
    "\n",
    "OrderedDict -> É um dicionário, que nos garante a ordem de inserção dos elementos.\n",
    "\n",
    "https://docs.python.org/3/library/collections.html#collections.OrderedDict\n",
    "\"\"\""
   ]
  },
  {
   "cell_type": "code",
   "execution_count": null,
   "metadata": {},
   "outputs": [],
   "source": [
    "# Em um dicionário a ordem de inserção não é garantida.\n",
    "dicionario = {'a': 1, 'b': 2, 'c': 3, 'd': 4}\n",
    "\n",
    "for chave, valor in dicionario.items():\n",
    "    print(f'Chave = {chave} e valor = {valor}')\n"
   ]
  },
  {
   "cell_type": "code",
   "execution_count": null,
   "metadata": {},
   "outputs": [],
   "source": [
    "from collections import OrderedDict\n",
    "\n",
    "dicionario = {'a': 1, 'b': 2, 'c': 3, 'd': 4, 'e': 5}\n",
    "\n",
    "for chave, valor in dicionario.items():\n",
    "    print(chave, '=', valor)\n"
   ]
  },
  {
   "cell_type": "code",
   "execution_count": null,
   "metadata": {},
   "outputs": [],
   "source": [
    "# Entendendo a diferença entre dict e OrderedDict\n",
    "\n",
    "# Dicionários comuns\n",
    "\n",
    "dict1 = {'a': 1, 'b': 2}\n",
    "dict2 = {'b': 2, 'a': 1}\n",
    "\n",
    "print(dict1 == dict2)  # True jpa que a ordem dos elementos não importa para o dicionário\n"
   ]
  },
  {
   "cell_type": "code",
   "execution_count": null,
   "metadata": {},
   "outputs": [],
   "source": [
    "# OrderedDict\n",
    "\n",
    "\n",
    "from collections import OrderedDict\n",
    "\n",
    "odict1 = OrderedDict({'a': 1, 'b': 2})\n",
    "odict2 = OrderedDict({'b': 2, 'a': 1})\n",
    "\n",
    "print(odict1 == odict2)  # False já que a ordem dos elementos importa para o OrderedDict\n"
   ]
  }
 ]
}