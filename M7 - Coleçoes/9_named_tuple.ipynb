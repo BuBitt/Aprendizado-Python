{
 "metadata": {
  "language_info": {
   "codemirror_mode": {
    "name": "ipython",
    "version": 3
   },
   "file_extension": ".py",
   "mimetype": "text/x-python",
   "name": "python",
   "nbconvert_exporter": "python",
   "pygments_lexer": "ipython3",
   "version": "3.9.2"
  },
  "orig_nbformat": 2,
  "kernelspec": {
   "name": "python392jvsc74a57bd0c9c1138eecf26e7a5effbc26cc8cecba633cc36cccd9940ee3aa0316b4b046bd",
   "display_name": "Python 3.9.2 64-bit ('guppe': virtualenvwrapper)"
  }
 },
 "nbformat": 4,
 "nbformat_minor": 2,
 "cells": [
  {
   "cell_type": "code",
   "execution_count": null,
   "metadata": {},
   "outputs": [],
   "source": [
    "\"\"\"\n",
    "Modulo Collection - Named Tuple\n",
    "\n",
    "Named Tuple -> São tuplas, diferenciadas onde especifacamos nomes para ela e parâmetros\n",
    "\n",
    "https://docs.python.org/3/library/collections.html#collections.namedtuple\n",
    "\"\"\""
   ]
  },
  {
   "cell_type": "code",
   "execution_count": null,
   "metadata": {},
   "outputs": [],
   "source": [
    "# Recap tupla:\n",
    "\n",
    "tupla = (1, 2, 3)\n",
    "\n",
    "print(tupla)\n"
   ]
  },
  {
   "cell_type": "code",
   "execution_count": null,
   "metadata": {},
   "outputs": [],
   "source": [
    "# Named Tuple\n",
    "from collections import namedtuple\n",
    "\n",
    "# Precisamos definir o nome e parâmetros\n",
    "\n",
    "#Forma 1 - Decalaração Named Tuple\n",
    "\n",
    "cachorro = namedtuple('cachorro', 'idade raca nome')\n",
    "\n",
    "\n",
    "# Forma 2 - Declaração Named Tuple\n",
    "\n",
    "cachorro = namedtuple('cachorro', 'idade, raca, nome')\n",
    "\n",
    "\n",
    "# Forma 3 - Declaração Named Tuple\n",
    "\n",
    "cachorro = namedtuple('cachorro', ['idade', 'raca', 'nome'])\n",
    "\n",
    "\n",
    "# Usando\n",
    "\n",
    "ray = cachorro(idade=2, raca='Chow-Chow', nome='Ray')\n",
    "\n",
    "print(ray)\n",
    "\n",
    "\n",
    "# Acessando os dados forma 1:\n",
    "print(ray[0])     # Idade\n",
    "print(ray[1])     # Raça\n",
    "print(ray[2])     # Nome\n",
    "\n",
    "# Acessando os dados forma 2:\n",
    "print(ray.idade)  # Idade\n",
    "print(ray.raca)   # Raça\n",
    "print(ray.nome)   # Nome\n",
    "\n",
    "print(ray.index('Chow-Chow'))\n",
    "print(ray.count('Chow-Chow'))\n"
   ]
  },
  {
   "cell_type": "code",
   "execution_count": null,
   "metadata": {},
   "outputs": [],
   "source": []
  }
 ]
}