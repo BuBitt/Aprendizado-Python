{
 "metadata": {
  "language_info": {
   "codemirror_mode": {
    "name": "ipython",
    "version": 3
   },
   "file_extension": ".py",
   "mimetype": "text/x-python",
   "name": "python",
   "nbconvert_exporter": "python",
   "pygments_lexer": "ipython3",
   "version": "3.9.4"
  },
  "orig_nbformat": 2,
  "kernelspec": {
   "name": "python394jvsc74a57bd0133218c624c43341a175ab5b1c344240732a52db6e5c4343fe5f8d3a0d5210b2",
   "display_name": "Python 3.9.4 64-bit ('3.9.4')"
  },
  "metadata": {
   "interpreter": {
    "hash": "133218c624c43341a175ab5b1c344240732a52db6e5c4343fe5f8d3a0d5210b2"
   }
  }
 },
 "nbformat": 4,
 "nbformat_minor": 2,
 "cells": [
  {
   "cell_type": "code",
   "execution_count": null,
   "metadata": {},
   "outputs": [],
   "source": [
    "\"\"\"\n",
    "Tuplas (tuple):\n",
    "--------------------------------------------------------------------------------------------------\n",
    "Tuplas são bastante parecidas com listas.\n",
    "\n",
    "Existem basicamente duas diferenças básicas:\n",
    "1 - As tuplas são representadas por parenteses ();\n",
    "2 - As tuplas são imutáveis, isso significa que ao se criar uma tupla ela não muda. Toda\n",
    "    operação em um tupla gera uma nova tupla.\n",
    "--------------------------------------------------------------------------------------------------\n",
    "\"\"\""
   ]
  },
  {
   "cell_type": "code",
   "execution_count": null,
   "metadata": {},
   "outputs": [],
   "source": [
    "# CUIDADO 1: As Tuplas são representadas por (), mas veja:\n",
    "tupla1 = (1, 2, 3, 4, 5, 6)\n",
    "print(tupla1, type(tupla1))\n",
    "\n",
    "tupla2 = 1, 2, 3, 4, 5, 6\n",
    "print(tupla2, type(tupla2))\n",
    "\n",
    "# Cuidado 2: Tuplas com 1 elemento\n",
    "tupla3 = (4)                    # Não é uma tupla.\n",
    "print(tupla3, type(tupla3))\n",
    "\n",
    "tupla4 = (4,)                   # Isso é uma tupla.\n",
    "print(tupla4, type(tupla4))\n",
    "\n",
    "tupla5 = 4,\n",
    "print(tupla5, type(tupla5))\n",
    "# CONCLUSÃO: Podemos concluir que tuplas são definidas pela vírgula e não pelo uso do parenteses\n",
    "\n",
    "# (4) -> Não é tupla.\n",
    "# (4,)-> É tupla.\n",
    "#  4, -> É tupla.\n"
   ]
  },
  {
   "cell_type": "code",
   "execution_count": null,
   "metadata": {},
   "outputs": [],
   "source": [
    "# Podemos gerar uma tupla dinamicamente com range(inicio, fim, passo)\n",
    "tupla = tuple(range(11))\n",
    "print(tupla, type(tupla))\n"
   ]
  },
  {
   "cell_type": "code",
   "execution_count": null,
   "metadata": {},
   "outputs": [],
   "source": [
    "# Desempacotamento de tupla\n",
    "tupla = ('Escola Técnica Estadual', 'Programação em Python: Essencial')\n",
    "escola, curso = tupla\n",
    "\n",
    "print(escola)\n",
    "print(curso)\n",
    "# Gera ValueError se colocarmos um número diferente de elementos para desempacotar\n"
   ]
  },
  {
   "cell_type": "code",
   "execution_count": null,
   "metadata": {},
   "outputs": [],
   "source": [
    "# Métodos para adição e remoção de elementos nas tuplas não existem, dado o fato\n",
    "# das tuplas serem imutáveis\n",
    "\n",
    "# Soma*, Valor máximo*, Valor Mínimo*, e Tamanho\n",
    "# * Se os valores forem todos inteiros ou reais\n",
    "tupla = (1, 2, 3, 4, 5, 6)\n",
    "\n",
    "print(sum(tupla))  # Soma\n",
    "print(max(tupla))  # Maior Número\n",
    "print(min(tupla))  # Menor Número\n",
    "print(len(tupla))  # Tamanho da tupla\n"
   ]
  },
  {
   "cell_type": "code",
   "execution_count": null,
   "metadata": {},
   "outputs": [],
   "source": [
    "# Concatenação de tuplas:\n",
    "tupla1 = (1, 2, 3,)\n",
    "print(tupla1)\n",
    "\n",
    "tupla2 = (4, 5, 6,)\n",
    "print(tupla2)\n",
    "\n",
    "print(tupla1 + tupla2)  # Tuplas são imutáveis\n",
    "\n",
    "print(tupla1)\n",
    "print(tupla2)\n",
    "\n",
    "tupla3 = tupla1 + tupla2\n",
    "print(tupla3)\n",
    "print(tupla1)\n",
    "print(tupla2)\n",
    "\n",
    "\n",
    "tupla1 += tupla2  # Tuplas são imutáveis, mas podemos reescrever seus valores.\n",
    "print(tupla1)\n"
   ]
  },
  {
   "cell_type": "code",
   "execution_count": null,
   "metadata": {},
   "outputs": [],
   "source": [
    "# Verificar se determinado elemento está contido na tupla\n",
    "tupla1 = (1, 2, 3)\n",
    "print(1 in tupla1)\n"
   ]
  },
  {
   "cell_type": "code",
   "execution_count": null,
   "metadata": {},
   "outputs": [],
   "source": [
    "# Iterando sobre uma tupla\n",
    "tupla1 = (1, 2, 3)\n",
    "\n",
    "for n in tupla1:\n",
    "    print(n)\n",
    "\n",
    "for indice, valor in enumerate(tupla1):\n",
    "    print(indice, valor)\n"
   ]
  },
  {
   "cell_type": "code",
   "execution_count": null,
   "metadata": {},
   "outputs": [],
   "source": [
    "# Contando elementos dentro de uma tupla:\n",
    "tupla = ('a', 'b', 'c', 'd', 'e', 'a', 'b')\n",
    "print(tupla.count('a'))\n",
    "\n",
    "escola = tuple('Escola Técnica')\n",
    "print(escola)\n",
    "print(escola.count('a'))\n"
   ]
  },
  {
   "cell_type": "code",
   "execution_count": null,
   "metadata": {},
   "outputs": [],
   "source": [
    "# Dicas na utilização de tuplas:\n",
    "\n",
    "# Devemos utilizar tuplas sempre que não precisarmos modificar os dados contidos em uma coleção\n",
    "\n",
    "# Exemplo 1:\n",
    "meses = ('Janeiro', 'Fevereiro', 'Março', 'Abril', 'Maio', 'Junho', 'Julho', 'Agosto', 'Setembro', 'Outubro', 'Novembro', 'Dezembro')\n",
    "print(meses)\n",
    "\n",
    "# O acesso a elementos de uma tupla também é semelhante as listas\n",
    "print(meses[5])\n",
    "\n",
    "# Iterar com while\n",
    "i = 0\n",
    "\n",
    "while i < len(meses):\n",
    "    print(meses[i])\n",
    "    i += 1\n"
   ]
  },
  {
   "cell_type": "code",
   "execution_count": null,
   "metadata": {},
   "outputs": [],
   "source": [
    "meses = ('Janeiro', 'Fevereiro', 'Março', 'Abril', 'Maio', 'Junho', 'Junho', 'Agosto', 'Setembro', 'Outubro', 'Novembro', 'Dezembro')\n",
    "print(meses)\n",
    "\n",
    "# Identificamos em qual índice está na tupla\n",
    "\n",
    "print(meses.index('Junho'))     # Identifica o primeiro;\n",
    "print(meses.index('Junho', 6))  # A partir de um certo index.\n",
    "\n",
    "# OBS: Caso o elemento não exista, será gerado erro ValueError.\n"
   ]
  },
  {
   "cell_type": "code",
   "execution_count": null,
   "metadata": {},
   "outputs": [],
   "source": [
    "meses = ('Janeiro', 'Fevereiro', 'Março', 'Abril', 'Maio', 'Junho', 'Junho', 'Agosto', 'Setembro', 'Outubro', 'Novembro', 'Dezembro')\n",
    "print(meses)\n",
    "\n",
    "# Slicing\n",
    "\n",
    "# tupla[inicio:fim:passo]\n",
    "\n",
    "print(meses[::])\n",
    "print(meses[5::])\n",
    "print(meses[5:8:])\n",
    "print(meses[5::-1])\n"
   ]
  },
  {
   "cell_type": "code",
   "execution_count": null,
   "metadata": {},
   "outputs": [],
   "source": [
    "\"\"\"\n",
    "--------------------------------------------------------------------------------------------------\n",
    "# Por que utilizar tuplas?\n",
    "\n",
    "# - tuplas são mais rápidas do que listas\n",
    "# - tuplas deixam seu código mais seguro\n",
    "\n",
    "# - Isso por que trabalhar com elementos imutáveis traz segurança para o código\n",
    "\n",
    "--------------------------------------------------------------------------------------------------\n",
    "\"\"\"\n"
   ]
  },
  {
   "cell_type": "code",
   "execution_count": null,
   "metadata": {},
   "outputs": [],
   "source": [
    "# Copiando uma tupla para outra\n",
    "\n",
    "tupla = (1, 2, 3)\n",
    "print(tupla)\n",
    "\n",
    "nova = tupla  # Na tupla não temos o prblema de shallow copy\n",
    "\n",
    "print(nova)\n",
    "print(tupla)\n",
    "\n",
    "outra = (4, 5, 6)\n",
    "\n",
    "nova += outra\n",
    "print(nova)\n",
    "print(tupla)\n"
   ]
  }
 ]
}