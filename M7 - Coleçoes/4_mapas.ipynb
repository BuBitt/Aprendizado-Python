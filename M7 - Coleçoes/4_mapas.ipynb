{
 "metadata": {
  "language_info": {
   "codemirror_mode": {
    "name": "ipython",
    "version": 3
   },
   "file_extension": ".py",
   "mimetype": "text/x-python",
   "name": "python",
   "nbconvert_exporter": "python",
   "pygments_lexer": "ipython3",
   "version": "3.9.2"
  },
  "orig_nbformat": 2,
  "kernelspec": {
   "name": "python392jvsc74a57bd0c9c1138eecf26e7a5effbc26cc8cecba633cc36cccd9940ee3aa0316b4b046bd",
   "display_name": "Python 3.9.2 64-bit ('guppe': virtualenvwrapper)"
  }
 },
 "nbformat": 4,
 "nbformat_minor": 2,
 "cells": [
  {
   "cell_type": "code",
   "execution_count": null,
   "metadata": {},
   "outputs": [],
   "source": [
    "\"\"\"\n",
    "------------------------------------------------------------------------------------\n",
    "\n",
    "Mapas -> Conhecidos em Python como dicionários.\n",
    "\n",
    "Dicionários em python são representados por chaves {}\n",
    "\n",
    "------------------------------------------------------------------------------------\n",
    "\"\"\""
   ]
  },
  {
   "cell_type": "code",
   "execution_count": null,
   "metadata": {},
   "outputs": [],
   "source": [
    "receita = {'jan': 100, 'fev': 250, 'mar': 400}\n",
    "\n",
    "print(receita)\n",
    "\n",
    "\n",
    "# Iterar sobre dicionários:\n",
    "for chave in receita:\n",
    "    print(chave)\n",
    "\n",
    "for chave in receita:\n",
    "    print(receita[chave])\n",
    "\n",
    "for chave in receita:\n",
    "    print(f'Em {chave} recebi R$ {receita[chave]}')\n"
   ]
  },
  {
   "cell_type": "code",
   "execution_count": null,
   "metadata": {},
   "outputs": [],
   "source": [
    "# Acessando Valores:\n",
    "\n",
    "receita = {'jan': 100, 'fev': 250, 'mar': 400}\n",
    "\n",
    "print(receita)\n",
    "\n",
    "print(receita.keys())\n",
    "\n",
    "for chave in receita.keys():\n",
    "    print(receita[chave])\n",
    "\n",
    "\n",
    "print(receita.values())\n",
    "\n",
    "for valor in receita.values():\n",
    "    print(valor)\n",
    "\n"
   ]
  },
  {
   "cell_type": "code",
   "execution_count": null,
   "metadata": {},
   "outputs": [],
   "source": [
    "# Desempacotamento de dicionários:  # tuplas\n",
    "\n",
    "receita = {'jan': 100, 'fev': 250, 'mar': 400}\n",
    "\n",
    "print(receita.items())\n",
    "\n",
    "for chave, valor in receita.items():\n",
    "    print(f'chave={chave} e valor={valor}')\n"
   ]
  },
  {
   "cell_type": "code",
   "execution_count": null,
   "metadata": {},
   "outputs": [],
   "source": [
    "# Soma*, Valor Máximo*, Valor Mínimo*, Tamanho:\n",
    "# * Se os valores forem todos inteiros ou reais\n",
    "\n",
    "receita = {'jan': 100, 'fev': 250, 'mar': 400}\n",
    "\n",
    "print(sum(receita.values()))\n",
    "print(max(receita.values()))\n",
    "print(min(receita.values()))\n",
    "print(len(receita.values()))\n"
   ]
  }
 ]
}