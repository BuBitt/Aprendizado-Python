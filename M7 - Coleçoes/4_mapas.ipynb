{
 "metadata": {
  "language_info": {
   "codemirror_mode": {
    "name": "ipython",
    "version": 3
   },
   "file_extension": ".py",
   "mimetype": "text/x-python",
   "name": "python",
   "nbconvert_exporter": "python",
   "pygments_lexer": "ipython3",
   "version": "3.9.4"
  },
  "orig_nbformat": 2,
  "kernelspec": {
   "name": "python394jvsc74a57bd0133218c624c43341a175ab5b1c344240732a52db6e5c4343fe5f8d3a0d5210b2",
   "display_name": "Python 3.9.4 64-bit ('3.9.4')"
  },
  "metadata": {
   "interpreter": {
    "hash": "133218c624c43341a175ab5b1c344240732a52db6e5c4343fe5f8d3a0d5210b2"
   }
  }
 },
 "nbformat": 4,
 "nbformat_minor": 2,
 "cells": [
  {
   "cell_type": "code",
   "execution_count": null,
   "metadata": {},
   "outputs": [],
   "source": [
    "\"\"\"\n",
    "------------------------------------------------------------------------------------\n",
    "\n",
    "Mapas -> Conhecidos em Python como dicionários.\n",
    "\n",
    "Dicionários em python são representados por chaves {}\n",
    "\n",
    "------------------------------------------------------------------------------------\n",
    "\"\"\""
   ]
  },
  {
   "cell_type": "code",
   "execution_count": null,
   "metadata": {},
   "outputs": [],
   "source": [
    "receita = {'jan': 100, 'fev': 250, 'mar': 400}\n",
    "\n",
    "print(receita)\n",
    "\n",
    "\n",
    "# Iterar sobre dicionários:\n",
    "for chave in receita:\n",
    "    print(chave)\n",
    "\n",
    "for chave in receita:\n",
    "    print(receita[chave])\n",
    "\n",
    "for chave in receita:\n",
    "    print(f'Em {chave} recebi R$ {receita[chave]}')\n"
   ]
  },
  {
   "source": [
    "# Acessando Valores:\n",
    "\n",
    "receita = {'jan': 100, 'fev': 250, 'mar': 400}\n",
    "\n",
    "print(receita)\n",
    "\n",
    "print(receita.keys())\n",
    "\n",
    "for chave in receita.keys():\n",
    "    print(receita[chave])\n",
    "\n",
    "\n",
    "print(receita.values())\n",
    "\n",
    "for valor in receita.values():\n",
    "    print(valor)\n",
    "\n"
   ],
   "cell_type": "code",
   "metadata": {},
   "execution_count": null,
   "outputs": []
  },
  {
   "cell_type": "code",
   "execution_count": null,
   "metadata": {},
   "outputs": [],
   "source": [
    "# Desempacotamento de dicionários:  # tuplas\n",
    "\n",
    "receita = {'jan': 100, 'fev': 250, 'mar': 400}\n",
    "\n",
    "print(receita.items())\n",
    "\n",
    "for chave, valor in receita.items():\n",
    "    print(f'chave={chave} e valor={valor}')\n"
   ]
  },
  {
   "cell_type": "code",
   "execution_count": null,
   "metadata": {},
   "outputs": [],
   "source": [
    "# Soma*, Valor Máximo*, Valor Mínimo*, Tamanho:\n",
    "# * Se os valores forem todos inteiros ou reais\n",
    "\n",
    "receita = {'jan': 100, 'fev': 250, 'mar': 400}\n",
    "\n",
    "print(sum(receita.values()))\n",
    "print(max(receita.values()))\n",
    "print(min(receita.values()))\n",
    "print(len(receita.values()))\n"
   ]
  },
  {
   "cell_type": "code",
   "execution_count": null,
   "metadata": {},
   "outputs": [],
   "source": []
  }
 ]
}