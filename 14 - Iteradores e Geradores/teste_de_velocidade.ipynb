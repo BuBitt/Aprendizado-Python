{
 "cells": [
  {
   "cell_type": "markdown",
   "source": [
    "# Test de velocidade com expressões garadoras\n"
   ],
   "metadata": {}
  },
  {
   "cell_type": "code",
   "execution_count": null,
   "source": [
    "# Generators\n",
    "\n",
    "def nums():\n",
    "    for num in range(1,10):\n",
    "        yield num\n",
    "\n",
    "ge_1 = nums()\n",
    "\n",
    "print(ge_1)        # Generator\n",
    "print(next(ge_1))\n",
    "print(next(ge_1))\n",
    "print(next(ge_1))\n",
    "print(next(ge_1))\n",
    "print(next(ge_1))"
   ],
   "outputs": [],
   "metadata": {}
  },
  {
   "cell_type": "code",
   "execution_count": null,
   "source": [
    "# Generator Expression\n",
    "\n",
    "ge_2 = (num for num in range(1, 10))\n",
    "\n",
    "print(ge_2)\n",
    "print(next(ge_2))\n",
    "print(next(ge_2))\n",
    "print(next(ge_2))"
   ],
   "outputs": [],
   "metadata": {}
  },
  {
   "cell_type": "code",
   "execution_count": null,
   "source": [
    "# Junto a funções integradas\n",
    "\n",
    "print(sum(num for num in range(1, 10)))"
   ],
   "outputs": [],
   "metadata": {}
  },
  {
   "cell_type": "markdown",
   "source": [
    "# Realizando teste de velocidade\n"
   ],
   "metadata": {}
  },
  {
   "cell_type": "code",
   "execution_count": null,
   "source": [
    "import time\n",
    "\n",
    "# Generator expression\n",
    "\n",
    "gen_inicio = time.time()\n",
    "print(sum(num for num in range(100_000_000)))\n",
    "gen_tempo = time.time() - gen_inicio"
   ],
   "outputs": [],
   "metadata": {}
  },
  {
   "cell_type": "code",
   "execution_count": null,
   "source": [
    "# List Comprehension\n",
    "\n",
    "list_inicio = time.time()\n",
    "print(sum([num for num in range(100_000_000)]))\n",
    "list_tempo = time.time() - gen_inicio\n",
    "\n",
    "print(f'Generator: {gen_tempo}')\n",
    "print(f'List: {list_tempo}')"
   ],
   "outputs": [],
   "metadata": {}
  }
 ],
 "metadata": {
  "orig_nbformat": 4,
  "language_info": {
   "name": "python",
   "version": "3.9.6",
   "mimetype": "text/x-python",
   "codemirror_mode": {
    "name": "ipython",
    "version": 3
   },
   "pygments_lexer": "ipython3",
   "nbconvert_exporter": "python",
   "file_extension": ".py"
  },
  "kernelspec": {
   "name": "python3",
   "display_name": "Python 3.9.6 64-bit"
  },
  "interpreter": {
   "hash": "da8713e953e5816d4ea986c651efa3a17939087c0876f0b6df41c80b4ea63db3"
  }
 },
 "nbformat": 4,
 "nbformat_minor": 2
}