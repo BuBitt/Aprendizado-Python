{
 "cells": [
  {
   "cell_type": "markdown",
   "source": [
    "# Teste de memória com generator\n",
    "\n",
    "## Sequencia de Fibonacci\n",
    "1, 2, 3, 5, 8, 13..."
   ],
   "metadata": {}
  },
  {
   "cell_type": "code",
   "execution_count": 8,
   "source": [
    "def fib(max):\n",
    "    nums = []\n",
    "    a, b = 0, 1\n",
    "    while len(nums) < max:\n",
    "        nums.append(b)\n",
    "        a, b = b, a + b\n",
    "    return nums\n",
    "\n",
    "\n",
    "print(fib(20000))\n"
   ],
   "outputs": [
    {
     "output_type": "stream",
     "name": "stdout",
     "text": [
      "[1, 1, 2, 3, 5, 8, 13, 21, 34, 55, 89, 144, 233, 377, 610, 987, 1597, 2584, 4181, 6765]\n"
     ]
    }
   ],
   "metadata": {}
  },
  {
   "cell_type": "code",
   "execution_count": null,
   "source": [
    "def fib_gen(max):\n",
    "    a, b, contador = 0, 1, 0\n",
    "    while contador < max:\n",
    "        a, b = b, a + b\n",
    "        yield a\n",
    "        contador += 1\n",
    "\n",
    "\n",
    "for n in fib_gen(20000):\n",
    "    print(n)\n"
   ],
   "outputs": [],
   "metadata": {}
  }
 ],
 "metadata": {
  "orig_nbformat": 4,
  "language_info": {
   "name": "python",
   "version": "3.9.6",
   "mimetype": "text/x-python",
   "codemirror_mode": {
    "name": "ipython",
    "version": 3
   },
   "pygments_lexer": "ipython3",
   "nbconvert_exporter": "python",
   "file_extension": ".py"
  },
  "kernelspec": {
   "name": "python3",
   "display_name": "Python 3.9.6 64-bit"
  },
  "interpreter": {
   "hash": "da8713e953e5816d4ea986c651efa3a17939087c0876f0b6df41c80b4ea63db3"
  }
 },
 "nbformat": 4,
 "nbformat_minor": 2
}