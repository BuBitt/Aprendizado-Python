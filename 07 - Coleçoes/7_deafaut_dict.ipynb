{
 "metadata": {
  "language_info": {
   "codemirror_mode": {
    "name": "ipython",
    "version": 3
   },
   "file_extension": ".py",
   "mimetype": "text/x-python",
   "name": "python",
   "nbconvert_exporter": "python",
   "pygments_lexer": "ipython3",
   "version": "3.9.2"
  },
  "orig_nbformat": 2,
  "kernelspec": {
   "name": "python392jvsc74a57bd0c9c1138eecf26e7a5effbc26cc8cecba633cc36cccd9940ee3aa0316b4b046bd",
   "display_name": "Python 3.9.2 64-bit ('guppe': virtualenvwrapper)"
  }
 },
 "nbformat": 4,
 "nbformat_minor": 2,
 "cells": [
  {
   "cell_type": "code",
   "execution_count": null,
   "metadata": {},
   "outputs": [],
   "source": [
    "\"\"\"\n",
    "Modulo Collections - Default Dict\n",
    "\n",
    "https://docs.python.org/3/library/collections.html#collections.defaultdict\n",
    "\n",
    "\n",
    "Recap dicionário:\n",
    "\n",
    "dicionario = {'curso': 'Programação em Python'}\n",
    "\n",
    "print(dicionario['curso'])\n",
    "\n",
    "print(dicionario['outro'])  # Erro\n",
    "\n",
    "\n",
    "Default Dict -> Ao criar um dicionário utilizando-o, nós informamos um valor default,\n",
    "podendo utilizar um lmbda para isso. Este valor será utiliado sempre que não houver\n",
    "um valor definido. Caso tentemos acessar uma chave que não existe, essa chave será\n",
    "criada e o alor default será atribuído.\n",
    "\n",
    "OBS: lambdas são funções sem nome que podem ou não receber parâmetros de entrada e retornar valores.\n",
    "\"\"\""
   ]
  },
  {
   "cell_type": "code",
   "execution_count": null,
   "metadata": {},
   "outputs": [],
   "source": [
    "from collections import defaultdict\n",
    "\n",
    "dicionario = defaultdict(lambda: 0)\n",
    "\n",
    "print(dicionario)\n",
    "\n",
    "\n",
    "dicionario['curso'] = 'Programação em Python'\n",
    "print(dicionario)\n",
    "\n",
    "print(dicionario['outro'])  # KeyError no dicionário comum, mas aqui não.\n",
    "\n",
    "print(dicionario)\n"
   ]
  }
 ]
}