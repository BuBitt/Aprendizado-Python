{
 "cells": [
  {
   "cell_type": "code",
   "execution_count": null,
   "metadata": {},
   "outputs": [],
   "source": [
    "\"\"\"\n",
    "https://docs.python.org/3/library/collections.html#collections.Counter\n",
    "\"\"\"\n",
    "# Utilizando o Counter\n",
    "\n",
    "from collections import Counter\n",
    "\n",
    "# Utilizando Counter\n",
    "\n",
    "# Exemplo 1:\n",
    "lista = [1, 1, 2, 2, 2, 3, 3, 3, 1, 1, 1, 1, 4, 4, 5, 5, 5, 5, 44, 66, 88, 99, 120, 120, 110]\n",
    "\n",
    "res = Counter(lista)\n",
    "\n",
    "print(res)\n",
    "\n",
    "print(type(res))\n",
    "\n",
    "# Counter({1: 6, 5: 4, 2: 3, 3: 3, 4: 2, 120: 2, 44: 1, 66: 1, 88: 1, 99: 1, 110: 1})\n",
    "\n",
    "# Veja que para cada elemento da lista o counter criou uma chave e colocou como valor\n",
    "# a quantidade de ocorrências."
   ]
  },
  {
   "cell_type": "code",
   "execution_count": null,
   "metadata": {},
   "outputs": [],
   "source": [
    "from collections import Counter\n",
    "\n",
    "# Exemplo 2:\n",
    "print(Counter('Sorvete de morando e chocolate'))\n",
    "#Counter({'o': 5, 'e': 5, ' ': 4, 'r': 2, 't': 2, 'd': 2, 'a': 2, 'c': 2, 'S': 1, 'v': 1, 'm': 1, 'n': 1, 'h': 1, 'l': 1})\n"
   ]
  },
  {
   "cell_type": "code",
   "execution_count": null,
   "metadata": {},
   "outputs": [],
   "source": [
    "from collections import Counter\n",
    "\n",
    "\n",
    "# Exemplo 3:\n",
    "\n",
    "texto = \"\"\"Sonic the Hedgehog 2 é um jogo eletrônico de plataforma desenvolvido pela Sega Technical\n",
    "Institute e publicado pela Sega para o Mega Drive. É o segundo jogo da série Sonic the Hedgehog,\n",
    "e introduziu o amigo do protagonista, Miles \"Tails\" Prower, controlável por um segundo jogador.\n",
    "Na história, Sonic e Tails devem parar o antagonista da série, o Dr. Ivo Robotnik, de roubar as\n",
    "Esmeraldas do Caos para alimentar sua estação espacial, o Death Egg.\n",
    "\n",
    "O desenvolvimento começou em novembro de 1991. Sua equipe foi composta por japoneses e americanos,\n",
    "diferentemente do primeiro jogo da franquia, que foi produzida apenas por japoneses. O jogo foi\n",
    "dirigido por Masaharu Yoshii e produzido por Shinobu Toyoda. O design do jogo foi liderado por\n",
    "Hirokazu Yasuhara e a música foi composta por Masato Nakamura. \"\"\"\n",
    "\n",
    "palavras = texto.split()\n",
    "\n",
    "res = Counter(palavras)\n",
    "print(res)\n",
    "\n",
    "\n",
    "# Encontando as 5 palacas com mais ocorrências no texto\n",
    "print('\\n', res.most_common(5))\n"
   ]
  }
 ],
 "metadata": {
  "kernelspec": {
   "display_name": "Python 3",
   "language": "python",
   "name": "python3"
  },
  "language_info": {
   "codemirror_mode": {
    "name": "ipython",
    "version": 3
   },
   "file_extension": ".py",
   "mimetype": "text/x-python",
   "name": "python",
   "nbconvert_exporter": "python",
   "pygments_lexer": "ipython3",
   "version": "3.9.4"
  }
 },
 "nbformat": 4,
 "nbformat_minor": 2
}
