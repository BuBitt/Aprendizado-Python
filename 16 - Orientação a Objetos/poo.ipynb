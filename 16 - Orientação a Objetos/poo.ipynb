{
 "cells": [
  {
   "cell_type": "markdown",
   "source": [
    "# Programação orientada a objetos\n",
    "\n",
    "- POO é um paradigma de programação que utiliza o mapeamento de objetos do mundo real para modelos computacionais.\n",
    "  \n",
    "- Paradigma de programação é a forma/metodologia utilizada para pensar/desenvolver sistemas.\n",
    "\n",
    "## Principais elementos da programação orientada a objetos\n",
    "\n",
    "- Classe        : Modelo de objeto do mundo real sendo representado computacionalmente;\n",
    "- Atributo      : Caracteristica do objeto;\n",
    "- Método        : Comportamento do objeto (funções);\n",
    "- Construtor    : Método especial utilizado para criar objetos.\n",
    "- Objeto        : Instâcia da classe"
   ],
   "metadata": {}
  },
  {
   "cell_type": "code",
   "execution_count": 2,
   "source": [
    "numero = 10\n",
    "\n",
    "nome ='Geek'\n",
    "\n",
    "class Produto():\n",
    "    pass\n",
    "\n",
    "ps4 = Produto()\n",
    "\n",
    "print(type(numero))\n",
    "print(type(nome))\n",
    "print(type(Produto()))\n",
    "print(ps4)\n"
   ],
   "outputs": [
    {
     "output_type": "error",
     "ename": "SyntaxError",
     "evalue": "invalid syntax (380157464.py, line 13)",
     "traceback": [
      "\u001b[0;36m  File \u001b[0;32m\"/tmp/ipykernel_40193/380157464.py\"\u001b[0;36m, line \u001b[0;32m13\u001b[0m\n\u001b[0;31m    print()print()\u001b[0m\n\u001b[0m           ^\u001b[0m\n\u001b[0;31mSyntaxError\u001b[0m\u001b[0;31m:\u001b[0m invalid syntax\n"
     ]
    }
   ],
   "metadata": {}
  }
 ],
 "metadata": {
  "orig_nbformat": 4,
  "language_info": {
   "name": "python",
   "version": "3.9.6",
   "mimetype": "text/x-python",
   "codemirror_mode": {
    "name": "ipython",
    "version": 3
   },
   "pygments_lexer": "ipython3",
   "nbconvert_exporter": "python",
   "file_extension": ".py"
  },
  "kernelspec": {
   "name": "python3",
   "display_name": "Python 3.9.6 64-bit"
  },
  "interpreter": {
   "hash": "da8713e953e5816d4ea986c651efa3a17939087c0876f0b6df41c80b4ea63db3"
  }
 },
 "nbformat": 4,
 "nbformat_minor": 2
}