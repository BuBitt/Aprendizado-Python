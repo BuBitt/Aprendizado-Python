{
 "cells": [
  {
   "cell_type": "markdown",
   "source": [
    "# POO - Atributos\n",
    "\n",
    "## Atributos: Representam as características do objeto. Ou seja, pelos atributos nós conseguimos representar computacionalmente os estados de um objeto.\n",
    "\n",
    "## Em Python, dividimos os atributos em 3 grupos:\n",
    "\n",
    "- Atributos de Instância;\n",
    "- Atributos de classe;\n",
    "- Atributos dinâmicos;\n",
    "\n",
    "## Atributos de instância: São atributos declarados dentro do método construtor.\n",
    "\n",
    "### Método construtor é um método especial utilizado para a cpnstrução do objeto."
   ],
   "metadata": {}
  },
  {
   "cell_type": "code",
   "execution_count": 3,
   "source": [
    "# Classes com Atributo de instância Público\n",
    "class Lampada:\n",
    "    \n",
    "    def __init__(self, voltagem, cor):\n",
    "        self.voltagem = voltagem\n",
    "        self.cor = cor\n",
    "        self.ligada = False\n",
    "        \n",
    "class ContaCorrente:\n",
    "    \n",
    "    def __init__(self, numero, limite, saldo):\n",
    "        self.numero = numero\n",
    "        self.limite = limite\n",
    "        self.saldo = saldo\n",
    "\n",
    "class Usuario:\n",
    "\n",
    "    def __init__(self, nome, email, senha):\n",
    "        self.nome = nome\n",
    "        self.email = email\n",
    "        self.senha = senha"
   ],
   "outputs": [],
   "metadata": {}
  },
  {
   "cell_type": "markdown",
   "source": [
    "# Atributos públicos e atributos privados\n",
    "\n",
    "## Em Python, por convenção, ficou estabelecido que, todo atributo d  uma classe é público. Ou seja, que deve ser acessad/utilizado somente dentro da própria classe onde está declarado, utiliza-se __ duplo underscore no início do seu nome. Isso é conhecido como Name Mangling"
   ],
   "metadata": {}
  },
  {
   "cell_type": "code",
   "execution_count": 4,
   "source": [
    "# Classe com Atributo de instância Privado\n",
    "class Acesso:\n",
    "    \n",
    "    def __init__(self, email, senha):\n",
    "        self.email = email\n",
    "        self.__senha = senha\n",
    "\n",
    "    def mostra_senha(self):\n",
    "        print(self.__senha)\n",
    "    \n",
    "    def mostra_email(self):\n",
    "        print(self.email)\n"
   ],
   "outputs": [],
   "metadata": {}
  },
  {
   "cell_type": "markdown",
   "source": [
    "## OBS: Lembre-se que isso é apenas uma convenção, ou seja, a linguagem Python não vai impedir que façamos acesso aos atributos sinalizados como privados fora da classe."
   ],
   "metadata": {}
  },
  {
   "cell_type": "code",
   "execution_count": 5,
   "source": [
    "# Exemplo\n",
    "user = Acesso('user@email.com', '123456')\n",
    "\n",
    "print(user.email)\n",
    "# print(user.__senha)  # AttributeError\n",
    "print(user._Acesso__senha)  # Temos acesso. Mas não deveríamos fazer ete acesso.\n",
    "\n",
    "user.mostra_senha()\n",
    "user.mostra_email()\n"
   ],
   "outputs": [
    {
     "output_type": "stream",
     "name": "stdout",
     "text": [
      "user@email.com\n",
      "123456\n",
      "123456\n",
      "user@email.com\n"
     ]
    }
   ],
   "metadata": {}
  },
  {
   "cell_type": "markdown",
   "source": [
    "# Atributos de Instância\n",
    "\n",
    "## Siginifica que ao criarmos instâncias/objetos de uma classe todas as instâncias terão estes atributos."
   ],
   "metadata": {}
  },
  {
   "cell_type": "code",
   "execution_count": 6,
   "source": [
    "user_1 = Acesso('user_1@email.com', 'user_1')\n",
    "user_2 = Acesso('user_2@email.com', 'user_2')\n",
    "\n",
    "user_1.mostra_email()\n",
    "user_2.mostra_email()\n"
   ],
   "outputs": [
    {
     "output_type": "stream",
     "name": "stdout",
     "text": [
      "user_1@email.com\n",
      "user_2@email.com\n"
     ]
    }
   ],
   "metadata": {}
  },
  {
   "cell_type": "markdown",
   "source": [
    "# Atributos de Classe\n",
    "\n",
    "## São atributos, claro, que são declarados diretamente na classe, ou seja, fora do costrutor. Geralmente já inicializamos um valor, e este valor é compartilhado entre toda as instâncias da classe. Ou seja, ao invés de cada instância, com os atributos de classe todas as instâncias terão o mesmo valor para este atributo.\n",
    "\n",
    "### OBS: Não precisamos criar uma instância de uma classe para fazer acesso a um atributo de classe\n",
    "\n",
    "### OBS: Em linguagens como Java, os Atributos de classe são chamados de Atributos estáticos"
   ],
   "metadata": {}
  },
  {
   "cell_type": "code",
   "execution_count": 7,
   "source": [
    "class Produto:\n",
    "    \n",
    "    # Atributo de classe\n",
    "    imposto = 1.45  # 0.05% de imposto\n",
    "    contador = 0\n",
    "    \n",
    "    def __init__(self, nome, descricao, valor):\n",
    "        self.id = Produto.contador + 1\n",
    "        self.nome = nome\n",
    "        self.des = descricao\n",
    "        self.valor = (valor * Produto.imposto)\n",
    "        Produto.contador = self.id\n",
    "\n",
    "\n",
    "p_1 = Produto('PlayStation 5', 'Video Game', 2300)\n",
    "p_2 = Produto('Xbox Sereies X', 'Video Game', 4500)\n",
    "\n",
    "print(p_1.id, p_1.nome, p_1.valor, p_1.imposto)\n",
    "print(p_2.id, p_2.nome, p_2.valor, p_2.imposto)"
   ],
   "outputs": [
    {
     "output_type": "stream",
     "name": "stdout",
     "text": [
      "1 PlayStation 5 3335.0 1.45\n",
      "2 Xbox Sereies X 6525.0 1.45\n"
     ]
    }
   ],
   "metadata": {}
  },
  {
   "cell_type": "markdown",
   "source": [
    "# Atributos Dinâmicos\n",
    "\n",
    "## Um Atributo de Inatância que pode ser criado em tempo de execução.\n",
    "\n",
    "### OBS: O Atributo dinâmico será exclusivo da instância que o criou"
   ],
   "metadata": {}
  },
  {
   "cell_type": "code",
   "execution_count": 9,
   "source": [
    "p_1 = Produto('PlayStation 5', 'Video Game', 2300)\n",
    "p_2 = Produto('Arroz', 'Grão', 5.99)\n",
    "\n",
    "# Criando atributo dinâmico em execução\n",
    "p_2.peso = '5kg'  # Note que na classe Produto não existe o atributo peso\n",
    "\n",
    "print(f'Produto: {p_2.nome}, Descrição: {p_2.des}, Preço: {p_2.valor}, Peso: {p_2.peso}.')\n"
   ],
   "outputs": [
    {
     "output_type": "stream",
     "name": "stdout",
     "text": [
      "Produto: Arroz, Descrição: Grão, Preço: 8.6855, Peso: 5kg.\n"
     ]
    }
   ],
   "metadata": {}
  },
  {
   "cell_type": "code",
   "execution_count": 10,
   "source": [
    "# Deletando Atributos\n",
    "print(p_2.__dict__)\n",
    "print(p_1.__dict__)\n",
    "\n",
    "# print(Produto.__dict__)\n",
    "\n",
    "print()\n",
    "del p_2.peso\n",
    "\n",
    "print(p_2.__dict__)\n",
    "print(p_1.__dict__)\n",
    "\n",
    "\n"
   ],
   "outputs": [
    {
     "output_type": "stream",
     "name": "stdout",
     "text": [
      "{'id': 4, 'nome': 'Arroz', 'des': 'Grão', 'valor': 8.6855, 'peso': '5kg'}\n",
      "{'id': 3, 'nome': 'PlayStation 5', 'des': 'Video Game', 'valor': 3335.0}\n",
      "{'id': 4, 'nome': 'Arroz', 'des': 'Grão', 'valor': 8.6855}\n",
      "{'id': 3, 'nome': 'PlayStation 5', 'des': 'Video Game', 'valor': 3335.0}\n"
     ]
    }
   ],
   "metadata": {}
  }
 ],
 "metadata": {
  "orig_nbformat": 4,
  "language_info": {
   "name": "python",
   "version": "3.9.6",
   "mimetype": "text/x-python",
   "codemirror_mode": {
    "name": "ipython",
    "version": 3
   },
   "pygments_lexer": "ipython3",
   "nbconvert_exporter": "python",
   "file_extension": ".py"
  },
  "kernelspec": {
   "name": "python3",
   "display_name": "Python 3.9.6 64-bit"
  },
  "interpreter": {
   "hash": "da8713e953e5816d4ea986c651efa3a17939087c0876f0b6df41c80b4ea63db3"
  }
 },
 "nbformat": 4,
 "nbformat_minor": 2
}