{
 "cells": [
  {
   "cell_type": "markdown",
   "source": [
    "# POO - Métdos\n",
    "\n",
    "## Representam os comportamentos do objeto. Ou seja, as ações que este objeto pode realizar no seu sistema.\n",
    "\n",
    "## Em Python, dividimos os métodos, assim como os atributo, em 2 grupos: `Métodos de instância` e `Métodos de Classe`"
   ],
   "metadata": {}
  },
  {
   "cell_type": "markdown",
   "source": [
    "# Métodos de Instância\n",
    "\n",
    "## O Método Dunder init `(__init__)`  é um método especial chamado construtor e sua função é construir o objeto a partir da classe.\n",
    "\n",
    "### OBS: Os métodos/funções dunder em Python são chamados de métodos mágicos.\n",
    "\n",
    "### ATENÇÃO! Por mais que possamos criar nossas próprias funções utilizando dunder no início e no fim, não é aconselhado. Python possui vários métodos com esta forma de nomenclatura e pode ser que mudemos o comportamento dessa função mágicas internas da linguagem, então evite ao máximo. De preferência nunca o faça."
   ],
   "metadata": {}
  },
  {
   "cell_type": "code",
   "execution_count": 1,
   "source": [
    "class Lampada:\n",
    "    \n",
    "    def __init__(self, cor, voltagem, luminosidade):\n",
    "        self.__cor = cor\n",
    "        self.__volt = voltagem\n",
    "        self.__lumi = luminosidade\n",
    "        self.__ligada = False\n",
    "\n",
    "\n",
    "class ContaCorrente:\n",
    "    \n",
    "    contador = 4999\n",
    "    \n",
    "    def __init__(self, limite, saldo):\n",
    "        self.__numero = ContaCorrente.contador + 1\n",
    "        self.__limite = limite\n",
    "        self.__saldo = saldo\n",
    "        ContaCorrente.contador = self.__numero\n",
    "\n",
    "\n",
    "class Produto:\n",
    "    \n",
    "    contador = 0\n",
    "    \n",
    "    def __init__(self, nome, descricao, valor):\n",
    "        self.__id = ContaCorrente.contador + 1\n",
    "        self.__nome = nome\n",
    "        self.__descricao = descricao\n",
    "        self.__valor = valor\n",
    "        contador = self.__id\n",
    "        \n",
    "    def desconto(self, porcentagem):\n",
    "        \"\"\"Retorna o valor do produto com desconto aplicado\"\"\"\n",
    "        return (self.__valor * (100 - porcentagem)) / 100\n",
    "\n",
    "\n",
    "from passlib.hash import pbkdf2_sha256 as cryp\n",
    "\n",
    "\n",
    "class Usuario:\n",
    "    \n",
    "    contador = 0\n",
    "    \n",
    "    @classmethod\n",
    "    def conta_usuarios(cls):\n",
    "        print(f'Temos {cls.contador} usuários no sistema.')\n",
    "    \n",
    "    @staticmethod\n",
    "    def definicao():\n",
    "        return 'seila mano'\n",
    "    \n",
    "    def __init__(self, nome, sobrenome, email, senha):\n",
    "        self.__id = Usuario.contador + 1\n",
    "        self.__nome = nome\n",
    "        self.__sobrenome = sobrenome\n",
    "        self.__email = email\n",
    "        self.__senha = cryp.hash(senha, rounds=200000, salt_size=16)  \n",
    "        Usuario.contador = self.__id\n",
    "        print(f'Usuário criado: {self.gera_usuario()}')\n",
    "    \n",
    "    def nome_completo(self):\n",
    "        return f'{self.__nome} {self.__sobrenome}'\n",
    "    \n",
    "    def checa_senha(self):\n",
    "        if cryp.verify(senha, self.__senha):\n",
    "            return True\n",
    "        return False\n",
    "    \n",
    "    def gera_usuario(self):\n",
    "        return self.__email.split('@')[0]\n",
    "            \n"
   ],
   "outputs": [],
   "metadata": {}
  },
  {
   "cell_type": "code",
   "execution_count": null,
   "source": [
    "p1 = Produto('PS5', 'Video Games', 2500)\n",
    "print(p1.desconto(30))\n",
    "\n",
    "\n",
    "us1 = Usuario('Bruno', 'Nitu', 'email@email.com', '123456')\n",
    "us2 = Usuario('Jaca', 'Amassada', 'email@email.com', '123456')\n",
    "\n",
    "print(us1.nome_completo())\n",
    "print(us2.nome_completo())\n",
    "\n",
    "print(f'Senha US_1: {us1._Usuario__senha}')\n",
    "print(f'Senha US_2: {us2._Usuario__senha}')\n"
   ],
   "outputs": [],
   "metadata": {}
  },
  {
   "cell_type": "code",
   "execution_count": null,
   "source": [
    "nome = input('Informe o nome: ')\n",
    "sobrenome = input('Informe o Sobrenome: ')\n",
    "email = input('Digite o email: ')\n",
    "senha = input('informe a senha: ')\n",
    "confirma_senha = input('Confirme a senha: ')\n",
    "\n",
    "if senha == confirma_senha:\n",
    "    user = Usuario(nome, sobrenome, email, senha)\n",
    "else:\n",
    "    print('Senha não confere.')\n",
    "    exit(1)\n",
    "\n",
    "print('Usuário criado com Sucesso')\n",
    "\n",
    "senha = input('Informe a senha para o acesso: ')\n",
    "\n",
    "if user.checa_senha():\n",
    "    print('Acessor permitido')\n",
    "else:\n",
    "    print('Acesso Negado')\n",
    "\n",
    "print(f'Senha de {user.nome_completo()}: {us1._Usuario__senha}')\n"
   ],
   "outputs": [],
   "metadata": {}
  },
  {
   "cell_type": "markdown",
   "source": [
    "# Métodos de classe\n",
    "\n",
    "## São conhecidos como métodos estáticos em outras linguagens"
   ],
   "metadata": {}
  },
  {
   "cell_type": "code",
   "execution_count": null,
   "source": [
    "user = Usuario('Bruno', 'Lopes', 'bruno@email.com', '123456')\n",
    "\n",
    "Usuario.conta_usuarios()   # Forma correta\n",
    "user.conta_usuarios()      # possível, mas incorreta"
   ],
   "outputs": [],
   "metadata": {}
  },
  {
   "cell_type": "markdown",
   "source": [
    "# Métodos Privados\n",
    "\n",
    "## por conversão com `__<método>`"
   ],
   "metadata": {}
  },
  {
   "cell_type": "code",
   "execution_count": null,
   "source": [
    "print(user.gera_usuario())"
   ],
   "outputs": [],
   "metadata": {}
  },
  {
   "cell_type": "markdown",
   "source": [
    "# Método Estático (Python)\n",
    "\n",
    "## "
   ],
   "metadata": {}
  },
  {
   "cell_type": "code",
   "execution_count": 2,
   "source": [
    "print(Usuario.contador)\n",
    "print(Usuario.definicao())\n"
   ],
   "outputs": [
    {
     "output_type": "stream",
     "name": "stdout",
     "text": [
      "0\n",
      "seila mano\n"
     ]
    }
   ],
   "metadata": {}
  }
 ],
 "metadata": {
  "orig_nbformat": 4,
  "language_info": {
   "name": "python",
   "version": "3.9.6",
   "mimetype": "text/x-python",
   "codemirror_mode": {
    "name": "ipython",
    "version": 3
   },
   "pygments_lexer": "ipython3",
   "nbconvert_exporter": "python",
   "file_extension": ".py"
  },
  "kernelspec": {
   "name": "python3",
   "display_name": "Python 3.9.6 64-bit"
  },
  "interpreter": {
   "hash": "da8713e953e5816d4ea986c651efa3a17939087c0876f0b6df41c80b4ea63db3"
  }
 },
 "nbformat": 4,
 "nbformat_minor": 2
}