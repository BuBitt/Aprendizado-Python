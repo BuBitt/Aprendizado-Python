{
 "cells": [
  {
   "cell_type": "markdown",
   "source": [
    "# POO - Abstração e Encapsulamento\n",
    "\n",
    "## O grando objetivo da pogramação orientada a objetos é encapsular noss ocódigo dentro de um grupo lógico e hierarquico utilizando `classes`\n",
    "\n",
    "### Encapsular: Capsula\n",
    "\n",
    "### Imageine que temos uma classe chamada Pessoa, contendo um atributo privado chamado __nome e um método privado chamado __falar()\n",
    "\n",
    "### Esses elementos privados só devem/deveriam ser acessados dentro da classe. Mas Python não bloqueia este acesso fora da classe. Com o Python, acontecer um fenômeno chamado `Name Nangling`, que faz uma alteração na forma de se acessar os elementos privados, conforme:\n",
    "\n",
    "### _classe_elemento\n",
    "\n",
    "## Exemplo acessando elementos privados fora da classe\n",
    "```python\n",
    "instancia._Pessoa__nome\n",
    "instancia._Pessoa__falar()\n",
    "```"
   ],
   "metadata": {}
  },
  {
   "cell_type": "code",
   "execution_count": 48,
   "source": [
    "class Conta:\n",
    "    \n",
    "    contador = 400\n",
    "    taxa = 1\n",
    "    \n",
    "    def __init__(self, titular, saldo, limite):\n",
    "        self.__numero = Conta.contador\n",
    "        self.__titular = titular\n",
    "        self.__saldo = saldo\n",
    "        self.__limite = limite\n",
    "        Conta.contador += 1\n",
    "    \n",
    "    def extrato(self):\n",
    "        print(f'Saldo de {self.__saldo} do titular {self.__titular} com limite de {self.__limite}')    \n",
    "    \n",
    "    def depositar(self, valor):\n",
    "        if valor > 0:\n",
    "            self.__saldo += valor\n",
    "        else:\n",
    "            print('O Valor precisa ser positivo')\n",
    "    \n",
    "    def sacar(self, valor):\n",
    "        if valor > 0:\n",
    "            if valor <= self.__saldo:\n",
    "                self.__saldo -= valor\n",
    "            else:\n",
    "                print('saldo insuficiente')\n",
    "    \n",
    "    def transferir(self, valor, conta_destino):\n",
    "        if valor > 0:\n",
    "            if self.__saldo > 0:\n",
    "                self.__saldo -= valor\n",
    "                self.__saldo -= valor * (Conta.taxa/100)\n",
    "                conta_destino.__saldo += valor\n",
    "                print(f'Transferido R$ {valor} de {self.__titular} para {conta_destino.__titular} com uma taxa de R$ {Conta.taxa/100}.')\n",
    "            else:\n",
    "                print(f'Saldo insuficiente, você tem o saldo de {self.__saldo}')\n",
    "        else:\n",
    "            print(f'O valor de transferência precisa ser positivo.')"
   ],
   "outputs": [],
   "metadata": {}
  },
  {
   "cell_type": "code",
   "execution_count": 47,
   "source": [
    "conta1 = Conta('bruno', 150.00, 1000)\n",
    "conta1.extrato()\n",
    "\n",
    "conta2 = Conta('pedro', 0, 1000)\n",
    "conta2.extrato()\n",
    "\n",
    "conta1.transferir(100, conta2)\n",
    "conta1.extrato()\n",
    "conta2.extrato()"
   ],
   "outputs": [
    {
     "output_type": "stream",
     "name": "stdout",
     "text": [
      "Saldo de 150.0 do titular bruno com limite de 1000\n",
      "Saldo de 0 do titular pedro com limite de 1000\n",
      "Transferido R$ 100 de bruno para pedro com uma taca de R$ 0.01.\n",
      "Saldo de -49.0 do titular bruno com limite de 1000\n",
      "Saldo de 100 do titular pedro com limite de 1000\n"
     ]
    }
   ],
   "metadata": {}
  }
 ],
 "metadata": {
  "orig_nbformat": 4,
  "language_info": {
   "name": "python",
   "version": "3.9.6",
   "mimetype": "text/x-python",
   "codemirror_mode": {
    "name": "ipython",
    "version": 3
   },
   "pygments_lexer": "ipython3",
   "nbconvert_exporter": "python",
   "file_extension": ".py"
  },
  "kernelspec": {
   "name": "python3",
   "display_name": "Python 3.9.6 64-bit"
  },
  "interpreter": {
   "hash": "da8713e953e5816d4ea986c651efa3a17939087c0876f0b6df41c80b4ea63db3"
  }
 },
 "nbformat": 4,
 "nbformat_minor": 2
}