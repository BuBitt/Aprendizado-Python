{
 "cells": [
  {
   "cell_type": "markdown",
   "source": [
    "# POO - Objetos\n",
    "\n",
    "## Objetos são instâncias da classe. Ou seja, após o mapeamento do objeto do mundo real para sua representação computacional, devemos poder criar quantos objetos forem necessários. Podemos pensar nos objeteos/instância, como variáveis do tipo difinido na classe."
   ],
   "metadata": {}
  },
  {
   "cell_type": "code",
   "execution_count": 46,
   "source": [
    "class Lampada:\n",
    "    \n",
    "    def __init__(self, cor, voltagem, luminosidade):\n",
    "        self.__cor = cor\n",
    "        self.__volt = voltagem\n",
    "        self.__lum = luminosidade\n",
    "        self.__ligada = False\n",
    "    \n",
    "    def checa_lampada(self):\n",
    "        return self.__ligada\n",
    "    \n",
    "    def ligar_desligar(self):\n",
    "        if self.__ligada:\n",
    "            self.__ligada = False\n",
    "        else:\n",
    "            self.__ligada = True\n",
    "        \n",
    "\n",
    "class ContaCorrente:\n",
    "    \n",
    "    contador = 0\n",
    "    \n",
    "    def __init__(self, limite, saldo, cliente):\n",
    "        self.__numero = ContaCorrente.contador + 1\n",
    "        self.__limite = limite\n",
    "        self.__saldo = saldo\n",
    "        self.__cliente = cliente\n",
    "        ContaCorrente.contador = self.__numero\n",
    "    \n",
    "    def mostra_cliente(self):\n",
    "        print(f'O cliente é {self.__cliente._Cliente__nome}')\n",
    "\n",
    "\n",
    "class Usuario:\n",
    "    \n",
    "    def __init__(self, nome, sobrenome, email, senha):\n",
    "        self.__nome = nome\n",
    "        self.__sobrenome = sobrenome\n",
    "        self.__email = email\n",
    "        self.__senha = senha\n",
    "\n",
    "\n",
    "class Cliente:\n",
    "    \n",
    "    def __init__(self, nome, cpf):\n",
    "        self.__nome = nome\n",
    "        self.__cpf = cpf"
   ],
   "outputs": [],
   "metadata": {}
  },
  {
   "cell_type": "markdown",
   "source": [
    "# Instâncias/Objetos"
   ],
   "metadata": {}
  },
  {
   "cell_type": "code",
   "execution_count": 47,
   "source": [
    "lamp1 = Lampada('branca', 110, 60)\n",
    "\n",
    "# cc1 = ContaCorrente(5000, 2000)\n",
    "\n",
    "us1 = Usuario('Bruno', 'Lopes', 'bruno@email.com', '123456')\n",
    "\n",
    "\n",
    "print(f'A lâmpada está ligada? {lamp1.checa_lampada()}')\n",
    "lamp1.ligar_desligar()\n",
    "print(f'A lâmpada está ligada? {lamp1.checa_lampada()}')\n",
    "\n",
    "print()\n",
    "\n",
    "cli1 = Cliente('Bruno', '12748346443')\n",
    "cc = ContaCorrente(5000, 10000, cli1)\n",
    "\n",
    "print(cc.mostra_cliente())"
   ],
   "outputs": [
    {
     "output_type": "stream",
     "name": "stdout",
     "text": [
      "A lâmpada está ligada? False\n",
      "A lâmpada está ligada? True\n",
      "\n"
     ]
    },
    {
     "output_type": "error",
     "ename": "AttributeError",
     "evalue": "'Cliente' object has no attribute '_ContaCorrente__nome'",
     "traceback": [
      "\u001b[0;31m---------------------------------------------------------------------------\u001b[0m",
      "\u001b[0;31mAttributeError\u001b[0m                            Traceback (most recent call last)",
      "\u001b[0;32m/tmp/ipykernel_7782/1119529383.py\u001b[0m in \u001b[0;36m<module>\u001b[0;34m\u001b[0m\n\u001b[1;32m     15\u001b[0m \u001b[0mcc\u001b[0m \u001b[0;34m=\u001b[0m \u001b[0mContaCorrente\u001b[0m\u001b[0;34m(\u001b[0m\u001b[0;36m5000\u001b[0m\u001b[0;34m,\u001b[0m \u001b[0;36m10000\u001b[0m\u001b[0;34m,\u001b[0m \u001b[0mcli1\u001b[0m\u001b[0;34m)\u001b[0m\u001b[0;34m\u001b[0m\u001b[0;34m\u001b[0m\u001b[0m\n\u001b[1;32m     16\u001b[0m \u001b[0;34m\u001b[0m\u001b[0m\n\u001b[0;32m---> 17\u001b[0;31m \u001b[0mprint\u001b[0m\u001b[0;34m(\u001b[0m\u001b[0mcc\u001b[0m\u001b[0;34m.\u001b[0m\u001b[0mmostra_cliente\u001b[0m\u001b[0;34m(\u001b[0m\u001b[0;34m)\u001b[0m\u001b[0;34m)\u001b[0m\u001b[0;34m\u001b[0m\u001b[0;34m\u001b[0m\u001b[0m\n\u001b[0m",
      "\u001b[0;32m/tmp/ipykernel_7782/1071777655.py\u001b[0m in \u001b[0;36mmostra_cliente\u001b[0;34m(self)\u001b[0m\n\u001b[1;32m     29\u001b[0m \u001b[0;34m\u001b[0m\u001b[0m\n\u001b[1;32m     30\u001b[0m     \u001b[0;32mdef\u001b[0m \u001b[0mmostra_cliente\u001b[0m\u001b[0;34m(\u001b[0m\u001b[0mself\u001b[0m\u001b[0;34m)\u001b[0m\u001b[0;34m:\u001b[0m\u001b[0;34m\u001b[0m\u001b[0;34m\u001b[0m\u001b[0m\n\u001b[0;32m---> 31\u001b[0;31m         \u001b[0mprint\u001b[0m\u001b[0;34m(\u001b[0m\u001b[0;34mf'O cliente é {self.__cliente.__nome}'\u001b[0m\u001b[0;34m)\u001b[0m\u001b[0;34m\u001b[0m\u001b[0;34m\u001b[0m\u001b[0m\n\u001b[0m\u001b[1;32m     32\u001b[0m \u001b[0;34m\u001b[0m\u001b[0m\n\u001b[1;32m     33\u001b[0m \u001b[0;34m\u001b[0m\u001b[0m\n",
      "\u001b[0;31mAttributeError\u001b[0m: 'Cliente' object has no attribute '_ContaCorrente__nome'"
     ]
    }
   ],
   "metadata": {}
  }
 ],
 "metadata": {
  "orig_nbformat": 4,
  "language_info": {
   "name": "python",
   "version": "3.9.6",
   "mimetype": "text/x-python",
   "codemirror_mode": {
    "name": "ipython",
    "version": 3
   },
   "pygments_lexer": "ipython3",
   "nbconvert_exporter": "python",
   "file_extension": ".py"
  },
  "kernelspec": {
   "name": "python3",
   "display_name": "Python 3.9.6 64-bit"
  },
  "interpreter": {
   "hash": "da8713e953e5816d4ea986c651efa3a17939087c0876f0b6df41c80b4ea63db3"
  }
 },
 "nbformat": 4,
 "nbformat_minor": 2
}