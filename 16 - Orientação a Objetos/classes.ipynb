{
 "cells": [
  {
   "cell_type": "markdown",
   "source": [
    "# POO - Classes\n",
    "\n",
    "## Em POO, classes nada mais são do que modelos de objetos do mundo real sendo representados computacionalmente\n",
    "\n",
    "Imagine que você queira fazer um sistema para automatizar o controle das lâmpadas da sua casa."
   ],
   "metadata": {}
  },
  {
   "cell_type": "code",
   "execution_count": null,
   "source": [
    "class Lampada():\n",
    "    pass"
   ],
   "outputs": [],
   "metadata": {}
  },
  {
   "cell_type": "markdown",
   "source": [
    "## Classes podem conter:\n",
    "\n",
    "- Atributos: Representam as caracteristicas do objeto. Ou seja, pelos atributos conseguimos representar computacionalmente os estados de um objeto. No caso da lâmpada, possivelmente iríamos querer saber se a lâmpada é 110 ou 220 volts, se ela é branca ou amarela, vermelha ou outra cor, qual é a luminosidade, etc.\n",
    "- Representam os comportamentos do objeto. Ou seja, as ações que este objeto pode realizar no seu sistema. No caso da lâmpada, por exmplo, um comportamento comum que muito porvavelmente iriamos querer representar no nosso sistema éo de ligar e desligar a mesma.\n",
    "\n",
    "## Em python, para definirmos uma classe utilizamos a palavra reservada class.\n",
    "\n",
    "- Utilizamos a palavra pass em Python quando temos um bloco de código que ainda não está implementado.\n",
    "- Quando nomeamos nossas classes em Python utilizamos, por convenção, a inicial do nome em maiúsculo, se o nome for ocmposto, ambas as iniciais em maiúsculo, ambas juntas.\n",
    "\n",
    "OBS: Em computação não utilizamos: Acentuação, caracteres especiais, espaços ou similares para nomes de classes, atributos, arquivos, diretórios e etc."
   ],
   "metadata": {}
  },
  {
   "cell_type": "code",
   "execution_count": null,
   "source": [
    "class ContaCorrente():\n",
    "    pass\n",
    "\n",
    "class Produto():\n",
    "    pass\n",
    "\n",
    "class Usuario():\n",
    "    pass"
   ],
   "outputs": [],
   "metadata": {}
  },
  {
   "cell_type": "markdown",
   "source": [
    "# OBS: Quando estamos planejando um software e definimos quais classes teremos que ter no sistema, chamamos estes objetos que serão mapeados para classes de entidade."
   ],
   "metadata": {}
  }
 ],
 "metadata": {
  "orig_nbformat": 4,
  "language_info": {
   "name": "python",
   "version": "3.9.6",
   "mimetype": "text/x-python",
   "codemirror_mode": {
    "name": "ipython",
    "version": 3
   },
   "pygments_lexer": "ipython3",
   "nbconvert_exporter": "python",
   "file_extension": ".py"
  },
  "kernelspec": {
   "name": "python3",
   "display_name": "Python 3.9.6 64-bit"
  },
  "interpreter": {
   "hash": "da8713e953e5816d4ea986c651efa3a17939087c0876f0b6df41c80b4ea63db3"
  }
 },
 "nbformat": 4,
 "nbformat_minor": 2
}