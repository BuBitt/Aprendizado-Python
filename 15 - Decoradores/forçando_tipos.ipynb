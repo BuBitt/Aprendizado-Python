{
 "cells": [
  {
   "cell_type": "markdown",
   "source": [
    "# Forçando tipos de dados com decorators\n",
    "\n",
    "## "
   ],
   "metadata": {}
  },
  {
   "cell_type": "code",
   "execution_count": 2,
   "source": [
    "def froca_tipo(*tipos):\n",
    "    def decorador(funcao):\n",
    "        def converte(*args, **kwargs):\n",
    "            novo_args = []\n",
    "            for(valor, tipo) in zip(args, tipos):\n",
    "                novo_args.append(tipo(valor))\n",
    "            return funcao(*novo_args, **kwargs)\n",
    "        return converte\n",
    "    return decorador\n",
    "\n",
    "\n",
    "@froca_tipo(str, int)\n",
    "def repete_msg(msg, vezes):\n",
    "    for vez in range(vezes):\n",
    "        print(msg)\n",
    "\n",
    "\n",
    "repete_msg('tututuututu', 10)\n"
   ],
   "outputs": [
    {
     "output_type": "stream",
     "name": "stdout",
     "text": [
      "tututuututu\n",
      "tututuututu\n",
      "tututuututu\n",
      "tututuututu\n",
      "tututuututu\n",
      "tututuututu\n",
      "tututuututu\n",
      "tututuututu\n",
      "tututuututu\n",
      "tututuututu\n"
     ]
    }
   ],
   "metadata": {}
  }
 ],
 "metadata": {
  "orig_nbformat": 4,
  "language_info": {
   "name": "python",
   "version": "3.9.6",
   "mimetype": "text/x-python",
   "codemirror_mode": {
    "name": "ipython",
    "version": 3
   },
   "pygments_lexer": "ipython3",
   "nbconvert_exporter": "python",
   "file_extension": ".py"
  },
  "kernelspec": {
   "name": "python3",
   "display_name": "Python 3.9.6 64-bit"
  },
  "interpreter": {
   "hash": "da8713e953e5816d4ea986c651efa3a17939087c0876f0b6df41c80b4ea63db3"
  }
 },
 "nbformat": 4,
 "nbformat_minor": 2
}