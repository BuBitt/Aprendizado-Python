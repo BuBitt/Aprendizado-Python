{
 "cells": [
  {
   "cell_type": "markdown",
   "source": [
    "# Preservando Metadatas com Wraps\n",
    "\n",
    "## Metadatas\n",
    "\n",
    "- São dados sobre dados, no caso dados intrísecos dos arquivos.\n",
    "\n",
    "## Wraps\n",
    "\n",
    "- São funções que envolvem elementos com diversas finalidades\n",
    "\n",
    "    ### Por que preservar is metadados?\n",
    "\n",
    "    "
   ],
   "metadata": {}
  },
  {
   "cell_type": "code",
   "execution_count": 3,
   "source": [
    "# Problema\n",
    "\n",
    "\n",
    "def ver_log(funcao):\n",
    "    def logar(*args, **kwargs):\n",
    "        \"\"\"Eu sou uma função (logar) dentro de outra\"\"\"\n",
    "        print(f'Você está chamando: {funcao.__name__}')\n",
    "        print(f'Aqui a documentação: {funcao.__doc__}')\n",
    "        return funcao(*args, **kwargs)\n",
    "    return logar\n",
    "\n",
    "\n",
    "@ver_log\n",
    "def soma(a, b):\n",
    "    \"\"\"soma doi números\"\"\"\n",
    "    return a + b\n",
    "\n",
    "\n",
    "#print(soma(10, 30))\n",
    "print(soma.__name__)\n",
    "print(soma.__doc__)"
   ],
   "outputs": [
    {
     "output_type": "stream",
     "name": "stdout",
     "text": [
      "logar\n",
      "Eu sou uma função (logar) dentro de outra\n"
     ]
    }
   ],
   "metadata": {}
  },
  {
   "cell_type": "code",
   "execution_count": 1,
   "source": [
    "# Resolvendo Problema\n",
    "from functools import wraps\n",
    "\n",
    "\n",
    "def ver_log(funcao):\n",
    "    @wraps(funcao)\n",
    "    def logar(*args, **kwargs):\n",
    "        \"\"\"Eu sou uma função (logar) dentro de outra\"\"\"\n",
    "        print(f'Você está chamando: {funcao.__name__}')\n",
    "        print(f'Aqui a documentação: {funcao.__doc__}')\n",
    "        return funcao(*args, **kwargs)\n",
    "    return logar\n",
    "\n",
    "\n",
    "@ver_log\n",
    "def soma(a, b):\n",
    "    \"\"\"soma doi números\"\"\"\n",
    "    return a + b\n",
    "\n",
    "\n",
    "#print(soma(10, 30))\n",
    "print(soma.__name__)\n",
    "print(soma.__doc__)\n",
    "\n",
    "\n",
    "print(help(soma))"
   ],
   "outputs": [
    {
     "output_type": "stream",
     "name": "stdout",
     "text": [
      "soma\n",
      "soma doi números\n"
     ]
    }
   ],
   "metadata": {}
  }
 ],
 "metadata": {
  "orig_nbformat": 4,
  "language_info": {
   "name": "python",
   "version": "3.9.6",
   "mimetype": "text/x-python",
   "codemirror_mode": {
    "name": "ipython",
    "version": 3
   },
   "pygments_lexer": "ipython3",
   "nbconvert_exporter": "python",
   "file_extension": ".py"
  },
  "kernelspec": {
   "name": "python3",
   "display_name": "Python 3.9.6 64-bit"
  },
  "interpreter": {
   "hash": "da8713e953e5816d4ea986c651efa3a17939087c0876f0b6df41c80b4ea63db3"
  }
 },
 "nbformat": 4,
 "nbformat_minor": 2
}