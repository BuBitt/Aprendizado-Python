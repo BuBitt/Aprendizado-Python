{
 "cells": [
  {
   "cell_type": "markdown",
   "source": [
    "# Funções de Maior grandeza\n",
    "\n",
    "## O que isso significa?\n",
    "\n",
    "- Quando uma linguagem de programação suporta HOF, indica que podemos ter funções que retonam outras funções como resultado ou mesmo que podemos passar funções como argumentos para outras funções, e até mesmo criar variáveis do ipo de funções nos nossos programas.\n",
    "\n",
    "OBS: Na seção funções, nós utilizamos isso\n",
    "\n",
    "Em Python, as funções são cidadões de primeira classe (first class citzen)"
   ],
   "metadata": {}
  },
  {
   "cell_type": "code",
   "execution_count": 27,
   "source": [
    "# Exemplo - Definindo funções\n",
    "\n",
    "def somar(a, b):\n",
    "    return a + b\n",
    "\n",
    "\n",
    "def diminuir(a, b):\n",
    "    return a - b\n",
    "\n",
    "\n",
    "def multiplicar(a, b):\n",
    "    return a * b\n",
    "\n",
    "\n",
    "def dividir(a, b):\n",
    "    return a / b\n",
    "\n",
    "\n",
    "def calcular(num1, num2, funcao):\n",
    "    return funcao(num1, num2)\n",
    "\n",
    "\n",
    "# Testando funções\n",
    "\n",
    "print(calcular(4, 3, somar))\n",
    "\n",
    "print(calcular(4, 3, diminuir))\n",
    "\n",
    "print(calcular(4, 3, multiplicar))\n",
    "\n",
    "print(calcular(4, 3, dividir))"
   ],
   "outputs": [
    {
     "output_type": "stream",
     "name": "stdout",
     "text": [
      "7\n",
      "1\n",
      "12\n",
      "1.3333333333333333\n"
     ]
    }
   ],
   "metadata": {}
  },
  {
   "cell_type": "markdown",
   "source": [
    "# Nasted Functions (Funções Annhadas)\n",
    "\n",
    "Em Python também podemos ter funções dentro de outras funções, que são conhecidas por listed functions, ou também \"Inner Functions\""
   ],
   "metadata": {}
  },
  {
   "cell_type": "code",
   "execution_count": 28,
   "source": [
    "from random import choice\n",
    "\n",
    "\n",
    "def cumprimento(pessoa):\n",
    "    def humor():\n",
    "        return choice(('E ai ', 'Suma daqui ', 'Gosto muito de você '))\n",
    "    return humor() + pessoa\n",
    "\n",
    "\n",
    "# Testando\n",
    "print(cumprimento('Bruno'))\n",
    "\n",
    "print(cumprimento('Kedas'))"
   ],
   "outputs": [
    {
     "output_type": "stream",
     "name": "stdout",
     "text": [
      "E ai Bruno\n",
      "E ai Kedas\n"
     ]
    }
   ],
   "metadata": {}
  },
  {
   "cell_type": "markdown",
   "source": [
    "# Retornando Funções de outras funções"
   ],
   "metadata": {}
  },
  {
   "cell_type": "code",
   "execution_count": 29,
   "source": [
    "from random import choice\n",
    "\n",
    "\n",
    "def faz_me_rir():\n",
    "    def rir():\n",
    "        return choice(('hahahahaha', 'kkkkkkkkkkkkkkkkkkkk', 'yayayayayayayayayaayaya'))\n",
    "    return rir\n",
    "\n",
    "\n",
    "# Testando\n",
    "\n",
    "rindo = faz_me_rir()\n",
    "print(rindo())"
   ],
   "outputs": [
    {
     "output_type": "stream",
     "name": "stdout",
     "text": [
      "yayayayayayayayayaayaya\n"
     ]
    }
   ],
   "metadata": {}
  },
  {
   "cell_type": "markdown",
   "source": [
    "# Inner functions (funções internas) podem acessar o escopo de funlçoes mais externas\n"
   ],
   "metadata": {}
  },
  {
   "cell_type": "code",
   "execution_count": 30,
   "source": [
    "from random import choice\n",
    "\n",
    "\n",
    "def faz_me_rir_dnv(pessoa):\n",
    "    def dando_risada():\n",
    "        risada = choice(('hahahahha', 'lol', 'kkkkkkkkkkkkkkkkkk'))\n",
    "        return f'{risada} {pessoa}'\n",
    "    return dando_risada()\n",
    "\n",
    "\n",
    "# Testando\n",
    "rindo = faz_me_rir_dnv('Bruno')\n",
    "\n",
    "print(rindo)\n",
    "print(rindo)\n",
    "print(rindo)\n",
    "print(rindo)"
   ],
   "outputs": [
    {
     "output_type": "stream",
     "name": "stdout",
     "text": [
      "lol Bruno\n",
      "lol Bruno\n",
      "lol Bruno\n",
      "lol Bruno\n"
     ]
    }
   ],
   "metadata": {}
  }
 ],
 "metadata": {
  "orig_nbformat": 4,
  "language_info": {
   "name": "python",
   "version": "3.9.6",
   "mimetype": "text/x-python",
   "codemirror_mode": {
    "name": "ipython",
    "version": 3
   },
   "pygments_lexer": "ipython3",
   "nbconvert_exporter": "python",
   "file_extension": ".py"
  },
  "kernelspec": {
   "name": "python3",
   "display_name": "Python 3.9.6 64-bit"
  },
  "interpreter": {
   "hash": "da8713e953e5816d4ea986c651efa3a17939087c0876f0b6df41c80b4ea63db3"
  }
 },
 "nbformat": 4,
 "nbformat_minor": 2
}