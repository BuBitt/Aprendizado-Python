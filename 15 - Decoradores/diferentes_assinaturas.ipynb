{
 "cells": [
  {
   "cell_type": "markdown",
   "source": [
    "# Decorators com diferentes assinaturas"
   ],
   "metadata": {}
  },
  {
   "cell_type": "code",
   "execution_count": 4,
   "source": [
    "# Relembrando decorators\n",
    "\n",
    "\n",
    "def gritar(funcao):\n",
    "    def aumentar(nome):\n",
    "        return funcao(nome).upper()\n",
    "    return aumentar\n",
    "\n",
    "\n",
    "@gritar\n",
    "def saudacao(nome):\n",
    "    return f'Olá eu sou o(a) {nome}'\n",
    "\n",
    "\n",
    "# Testando\n",
    "print(saudacao('Bruno'))"
   ],
   "outputs": [
    {
     "output_type": "stream",
     "name": "stdout",
     "text": [
      "OLÁ EU SOU O(A) BRUNO\n"
     ]
    }
   ],
   "metadata": {}
  },
  {
   "cell_type": "markdown",
   "source": [
    "# TypeError"
   ],
   "metadata": {}
  },
  {
   "cell_type": "code",
   "execution_count": 1,
   "source": [
    "@gritar\n",
    "def ordenar_pedido(principal, acompanhamento):\n",
    "    return f'Olá, eu gostaia de {principal}, acompanhado de {acompanhamento}, por favor.'\n",
    "\n",
    "\n",
    "# Testando\n",
    "print(ordenar_pedido('Macarrao', 'Fogo'))"
   ],
   "outputs": [
    {
     "output_type": "error",
     "ename": "NameError",
     "evalue": "name 'gritar' is not defined",
     "traceback": [
      "\u001b[0;31m---------------------------------------------------------------------------\u001b[0m",
      "\u001b[0;31mNameError\u001b[0m                                 Traceback (most recent call last)",
      "\u001b[0;32m/tmp/ipykernel_12794/2176938218.py\u001b[0m in \u001b[0;36m<module>\u001b[0;34m\u001b[0m\n\u001b[0;32m----> 1\u001b[0;31m \u001b[0;34m@\u001b[0m\u001b[0mgritar\u001b[0m\u001b[0;34m\u001b[0m\u001b[0;34m\u001b[0m\u001b[0m\n\u001b[0m\u001b[1;32m      2\u001b[0m \u001b[0;32mdef\u001b[0m \u001b[0mordenar_pedido\u001b[0m\u001b[0;34m(\u001b[0m\u001b[0mprincipal\u001b[0m\u001b[0;34m,\u001b[0m \u001b[0macompanhamento\u001b[0m\u001b[0;34m)\u001b[0m\u001b[0;34m:\u001b[0m\u001b[0;34m\u001b[0m\u001b[0;34m\u001b[0m\u001b[0m\n\u001b[1;32m      3\u001b[0m     \u001b[0;32mreturn\u001b[0m \u001b[0;34mf'Olá, eu gostaia de {principal}, acompanhado de {acompanhamento}, por favor.'\u001b[0m\u001b[0;34m\u001b[0m\u001b[0;34m\u001b[0m\u001b[0m\n\u001b[1;32m      4\u001b[0m \u001b[0;34m\u001b[0m\u001b[0m\n\u001b[1;32m      5\u001b[0m \u001b[0;34m\u001b[0m\u001b[0m\n",
      "\u001b[0;31mNameError\u001b[0m: name 'gritar' is not defined"
     ]
    }
   ],
   "metadata": {}
  },
  {
   "cell_type": "markdown",
   "source": [
    "# Para resolver, utilizaremos um padrão de pojeto chamado Decorator Pattern"
   ],
   "metadata": {}
  },
  {
   "cell_type": "code",
   "execution_count": 2,
   "source": [
    "def gritar(funcao):\n",
    "    def aumentar(*args, **kwargs):\n",
    "        return funcao(*args, **kwargs).upper()\n",
    "    return aumentar\n",
    "\n",
    "\n",
    "@gritar\n",
    "def saudacao(nome):\n",
    "    return f'Olá eu sou o(a) {nome}'\n",
    "\n",
    "\n",
    "# Testando saudacao\n",
    "print(saudacao('Bruno'))\n",
    "\n",
    "\n",
    "@gritar\n",
    "def ordenar(principal, acompanhamento):\n",
    "    return f'Olá, eu gostaria de {principal} acompanhado de {acompanhamento}, por favor.'\n",
    "\n",
    "# Testando ordenar\n",
    "print(ordenar('Macarrão', 'Frango'))"
   ],
   "outputs": [
    {
     "output_type": "stream",
     "name": "stdout",
     "text": [
      "OLÁ EU SOU O(A) BRUNO\n",
      "OLÁ, EU GOSTARIA DE MACARRÃO ACOMPANHADO DE FRANGO, POR FAVOR.\n"
     ]
    }
   ],
   "metadata": {}
  },
  {
   "cell_type": "markdown",
   "source": [
    "## A assinatura de uma função é representada pelo seu retorno, nome e parâmetros de entrada"
   ],
   "metadata": {}
  },
  {
   "cell_type": "code",
   "execution_count": 3,
   "source": [
    "@gritar\n",
    "def lol():\n",
    "    return 'lol'\n",
    "\n",
    "\n",
    "print(lol())"
   ],
   "outputs": [
    {
     "output_type": "stream",
     "name": "stdout",
     "text": [
      "LOL\n"
     ]
    }
   ],
   "metadata": {}
  },
  {
   "cell_type": "markdown",
   "source": [
    "## Também podemos usar parâmetros nomeados"
   ],
   "metadata": {}
  },
  {
   "cell_type": "code",
   "execution_count": 4,
   "source": [
    "print(ordenar(acompanhamento='Batata Frita', principal='Picanha'))"
   ],
   "outputs": [
    {
     "output_type": "stream",
     "name": "stdout",
     "text": [
      "OLÁ, EU GOSTARIA DE PICANHA ACOMPANHADO DE BATATA FRITA, POR FAVOR.\n"
     ]
    }
   ],
   "metadata": {}
  },
  {
   "cell_type": "markdown",
   "source": [
    "# Decorator com argumentos"
   ],
   "metadata": {}
  },
  {
   "cell_type": "code",
   "execution_count": 5,
   "source": [
    "def verifica_primeiro_argumento(valor):\n",
    "    def interna(funcao):\n",
    "        def outra(*args, **kwargs):\n",
    "            if args and args[0] != valor:\n",
    "                return f'Valor Incorreto! Primeiro argumento precisa ser {valor}'\n",
    "            return funcao(*args, **kwargs)\n",
    "        return outra\n",
    "    return interna\n",
    "\n",
    "\n",
    "@verifica_primeiro_argumento('pizza')\n",
    "def comida_favorita(*args):\n",
    "    print(args)\n",
    "\n",
    "\n",
    "@verifica_primeiro_argumento(10)\n",
    "def soma_dez(num1, num2):\n",
    "    return num1 + num2\n",
    "\n",
    "\n",
    "# Testando\n",
    "print(soma_dez(10, 12))  # 22\n",
    "\n",
    "print(soma_dez(1, 21))"
   ],
   "outputs": [
    {
     "output_type": "error",
     "ename": "TypeError",
     "evalue": "interna() takes 1 positional argument but 2 were given",
     "traceback": [
      "\u001b[0;31m---------------------------------------------------------------------------\u001b[0m",
      "\u001b[0;31mTypeError\u001b[0m                                 Traceback (most recent call last)",
      "\u001b[0;32m/tmp/ipykernel_12794/1562000501.py\u001b[0m in \u001b[0;36m<module>\u001b[0;34m\u001b[0m\n\u001b[1;32m     20\u001b[0m \u001b[0;34m\u001b[0m\u001b[0m\n\u001b[1;32m     21\u001b[0m \u001b[0;31m# Testando\u001b[0m\u001b[0;34m\u001b[0m\u001b[0;34m\u001b[0m\u001b[0;34m\u001b[0m\u001b[0m\n\u001b[0;32m---> 22\u001b[0;31m \u001b[0mprint\u001b[0m\u001b[0;34m(\u001b[0m\u001b[0msoma_dez\u001b[0m\u001b[0;34m(\u001b[0m\u001b[0;36m10\u001b[0m\u001b[0;34m,\u001b[0m \u001b[0;36m12\u001b[0m\u001b[0;34m)\u001b[0m\u001b[0;34m)\u001b[0m  \u001b[0;31m# 22\u001b[0m\u001b[0;34m\u001b[0m\u001b[0;34m\u001b[0m\u001b[0m\n\u001b[0m\u001b[1;32m     23\u001b[0m \u001b[0;34m\u001b[0m\u001b[0m\n\u001b[1;32m     24\u001b[0m \u001b[0mprint\u001b[0m\u001b[0;34m(\u001b[0m\u001b[0msoma_dez\u001b[0m\u001b[0;34m(\u001b[0m\u001b[0;36m1\u001b[0m\u001b[0;34m,\u001b[0m \u001b[0;36m21\u001b[0m\u001b[0;34m)\u001b[0m\u001b[0;34m)\u001b[0m\u001b[0;34m\u001b[0m\u001b[0;34m\u001b[0m\u001b[0m\n",
      "\u001b[0;31mTypeError\u001b[0m: interna() takes 1 positional argument but 2 were given"
     ]
    }
   ],
   "metadata": {}
  }
 ],
 "metadata": {
  "orig_nbformat": 4,
  "language_info": {
   "name": "python",
   "version": "3.9.6",
   "mimetype": "text/x-python",
   "codemirror_mode": {
    "name": "ipython",
    "version": 3
   },
   "pygments_lexer": "ipython3",
   "nbconvert_exporter": "python",
   "file_extension": ".py"
  },
  "kernelspec": {
   "name": "python3",
   "display_name": "Python 3.9.6 64-bit"
  },
  "interpreter": {
   "hash": "da8713e953e5816d4ea986c651efa3a17939087c0876f0b6df41c80b4ea63db3"
  }
 },
 "nbformat": 4,
 "nbformat_minor": 2
}