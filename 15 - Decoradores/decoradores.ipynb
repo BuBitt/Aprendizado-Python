{
 "cells": [
  {
   "cell_type": "markdown",
   "source": [
    "# Decorators\n",
    "\n",
    "## O que são decorators?\n",
    "\n",
    "- Decorators são funções;\n",
    "\n",
    "- Decorators envolvem outras funções e aprimoram seus compotamentos;\n",
    "\n",
    "| Function Decorator |\n",
    "| ------------------ |\n",
    "\n",
    "| Função decorada |\n",
    "| :-------------: |\n",
    "|                 |\n"
   ],
   "metadata": {}
  },
  {
   "cell_type": "code",
   "execution_count": 3,
   "source": [
    "# Decorators como funções (sintaxe não recomendada / sem açucar sintático)\n",
    "\n",
    "def seja_educado(funcao):\n",
    "    def sendo():\n",
    "        print('Foi um pazer te conhecer!')\n",
    "        funcao()\n",
    "        print('Tenha um ótimo dia!')\n",
    "    return sendo\n",
    "\n",
    "\n",
    "def saudacao():\n",
    "    print('seja bem-vindo à nossa casa!')\n",
    "\n",
    "\n",
    "# Testando 1\n",
    "\n",
    "teste = seja_educado(saudacao)\n",
    "\n",
    "teste()"
   ],
   "outputs": [
    {
     "output_type": "stream",
     "name": "stdout",
     "text": [
      "Foi um pazer te conhecer!\n",
      "seja bem-vindo à nossa casa!\n",
      "Tenha um ótimo dia!\n"
     ]
    }
   ],
   "metadata": {}
  },
  {
   "cell_type": "code",
   "execution_count": 4,
   "source": [
    "# Testando 2\n",
    "\n",
    "def raiva():\n",
    "    print('EU TE ODEIO!')\n",
    "\n",
    "\n",
    "raiva_educada = seja_educado(raiva)\n",
    "\n",
    "raiva_educada()"
   ],
   "outputs": [
    {
     "output_type": "stream",
     "name": "stdout",
     "text": [
      "Foi um pazer te conhecer!\n",
      "EU TE ODEIO!\n",
      "Tenha um ótimo dia!\n"
     ]
    }
   ],
   "metadata": {}
  },
  {
   "cell_type": "markdown",
   "source": [
    "# Decorators com Syntax Sugar"
   ],
   "metadata": {}
  },
  {
   "cell_type": "code",
   "execution_count": 5,
   "source": [
    "def seja_educado_mesmo(funcao):\n",
    "    def sendo_mesmo():\n",
    "        print('Foi um prazer conhecer você!')\n",
    "        funcao()\n",
    "        print('Tenha um excelente dia!')\n",
    "    return sendo_mesmo\n",
    "\n",
    "\n",
    "@seja_educado_mesmo\n",
    "def apresentndo():\n",
    "    print('Meu nome é Pedro!')\n",
    "\n",
    "\n",
    "# Testando\n",
    "apresentndo()"
   ],
   "outputs": [
    {
     "output_type": "stream",
     "name": "stdout",
     "text": [
      "Foi um prazer conhecer você!\n",
      "Meu nome é Pedro!\n",
      "Tenha um excelente dia!\n"
     ]
    }
   ],
   "metadata": {}
  },
  {
   "cell_type": "code",
   "execution_count": 6,
   "source": [
    "@seja_educado_mesmo\n",
    "def dormir():\n",
    "    print('Quero Dormir...')\n",
    "\n",
    "\n",
    "dormir()"
   ],
   "outputs": [
    {
     "output_type": "stream",
     "name": "stdout",
     "text": [
      "Foi um prazer conhecer você!\n",
      "Quero Dormir...\n",
      "Tenha um excelente dia!\n"
     ]
    }
   ],
   "metadata": {}
  },
  {
   "cell_type": "markdown",
   "source": [
    "# Não confunda decorator com decorator function\n",
    "- @decorator\n",
    "- def decorator_function()"
   ],
   "metadata": {}
  }
 ],
 "metadata": {
  "orig_nbformat": 4,
  "language_info": {
   "name": "python",
   "version": "3.9.6",
   "mimetype": "text/x-python",
   "codemirror_mode": {
    "name": "ipython",
    "version": 3
   },
   "pygments_lexer": "ipython3",
   "nbconvert_exporter": "python",
   "file_extension": ".py"
  },
  "kernelspec": {
   "name": "python3",
   "display_name": "Python 3.9.6 64-bit"
  },
  "interpreter": {
   "hash": "da8713e953e5816d4ea986c651efa3a17939087c0876f0b6df41c80b4ea63db3"
  }
 },
 "nbformat": 4,
 "nbformat_minor": 2
}