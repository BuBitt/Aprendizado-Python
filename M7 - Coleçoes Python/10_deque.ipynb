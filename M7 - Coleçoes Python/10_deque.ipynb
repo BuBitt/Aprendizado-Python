{
 "metadata": {
  "language_info": {
   "codemirror_mode": {
    "name": "ipython",
    "version": 3
   },
   "file_extension": ".py",
   "mimetype": "text/x-python",
   "name": "python",
   "nbconvert_exporter": "python",
   "pygments_lexer": "ipython3",
   "version": "3.9.2"
  },
  "orig_nbformat": 2,
  "kernelspec": {
   "name": "python392jvsc74a57bd0c9c1138eecf26e7a5effbc26cc8cecba633cc36cccd9940ee3aa0316b4b046bd",
   "display_name": "Python 3.9.2 64-bit ('guppe': virtualenvwrapper)"
  }
 },
 "nbformat": 4,
 "nbformat_minor": 2,
 "cells": [
  {
   "cell_type": "code",
   "execution_count": null,
   "metadata": {},
   "outputs": [],
   "source": [
    "\"\"\"\n",
    "Modulo Collections - Deque\n",
    "\n",
    "Podemos dizer que o deque é um lista de alta perfeormance.\n",
    "\n",
    "https://docs.python.org/3/library/collections.html#collections.deque\n",
    "\"\"\""
   ]
  },
  {
   "cell_type": "code",
   "execution_count": 1,
   "metadata": {},
   "outputs": [
    {
     "output_type": "stream",
     "name": "stdout",
     "text": [
      "deque(['G', 'e', 'e', 'k'])\n"
     ]
    }
   ],
   "source": [
    "from collections import deque\n",
    "\n",
    "# Criando dques\n",
    "\n",
    "deq = deque('Geek')\n",
    "print(deq)\n"
   ]
  },
  {
   "cell_type": "code",
   "execution_count": 2,
   "metadata": {},
   "outputs": [
    {
     "output_type": "stream",
     "name": "stdout",
     "text": [
      "deque(['G', 'e', 'e', 'k', 'y'])\n"
     ]
    }
   ],
   "source": [
    "# Adicionando elementos no deque\n",
    "\n",
    "deq.append('y')  # Adiciona no final\n",
    "print(deq)\n"
   ]
  },
  {
   "cell_type": "code",
   "execution_count": 10,
   "metadata": {},
   "outputs": [
    {
     "output_type": "stream",
     "name": "stdout",
     "text": [
      "deque(['k', 'k', 'G', 'e', 'e', 'k', 'y'])\n"
     ]
    }
   ],
   "source": [
    "# Adiciona no começo\n",
    "deq.appendleft('k')\n",
    "print(deq)\n"
   ]
  },
  {
   "cell_type": "code",
   "execution_count": 12,
   "metadata": {},
   "outputs": [
    {
     "output_type": "stream",
     "name": "stdout",
     "text": [
      "deque(['G', 'e', 'e', 'k', 'y'])\n"
     ]
    }
   ],
   "source": [
    "# Remove do começo\n",
    "deq.popleft() # Remove e retorna o primeiro elemento\n",
    "print(deq)\n"
   ]
  },
  {
   "cell_type": "code",
   "execution_count": null,
   "metadata": {},
   "outputs": [],
   "source": []
  }
 ]
}