{
 "cells": [
  {
   "cell_type": "code",
   "execution_count": 2,
   "metadata": {},
   "outputs": [],
   "source": [
    "\"\"\"\n",
    "List comprehension P1\n",
    "\n",
    "- Utilizando List Comprehension nós podemos gerar novas listas com dados processados a partir de outro\n",
    "iterável.\n",
    "\n",
    "# Sintaxe da List Comprehension\n",
    "\n",
    "[para cada dado in iteravel]\n",
    "\"\"\""
   ]
  },
  {
   "cell_type": "code",
   "execution_count": null,
   "metadata": {},
   "outputs": [],
   "source": [
    "# Exemplos\n",
    "\n",
    "numeros = [1, 2, 3, 4, 5]\n",
    "\n",
    "res = [numero * 10 for numero in numeros]\n",
    "print(res)\n",
    "\n",
    "\n",
    "def funcao(valor):\n",
    "    return valor * valor\n",
    "\n",
    "res = [funcao(numero) for numero in numeros]\n",
    "print(res)\n"
   ]
  },
  {
   "cell_type": "code",
   "execution_count": null,
   "metadata": {},
   "outputs": [],
   "source": [
    "# python comprehension vs loop\n",
    "\n",
    "numeros = [1, 2, 3, 4, 5, 6]\n",
    "numeros_dobrados = []\n",
    "\n",
    "for numero in numeros:\n",
    "    numero_dobrado = numero * 2\n",
    "    numeros_dobrados.append(numero_dobrado)\n",
    "\n",
    "n2 = [numero * 2 for numero in numeros]\n",
    "print(n2)\n"
   ]
  },
  {
   "cell_type": "code",
   "execution_count": null,
   "metadata": {},
   "outputs": [],
   "source": [
    "# Outros exemplos\n",
    "\n",
    "# 1\n",
    "nome = 'Bruno Jaca'\n",
    "print([letra.upper() for letra in nome])\n",
    "\n",
    "\n",
    "# 2\n",
    "nomes = ['marília', 'pedro', 'joca', 'jão', 'ana', 'thaís']\n",
    "print([nome.title() for nome in nomes])\n",
    "\n",
    "\n",
    "# 3\n",
    "print([numero * 3 for numero in range(20)])\n",
    "\n",
    "\n",
    "#4\n",
    "print([bool(valor) for valor in [0, [], True, False, 3.14, 1]])\n",
    "\n",
    "\n",
    "# 5\n",
    "print([str(numero) for numero in range(5)])\n"
   ]
  }
 ],
 "metadata": {
  "interpreter": {
   "hash": "94f7338fe62096d5845eef336fc76bd04a70a447c66e81b53d110ad8395bd13c"
  },
  "kernelspec": {
   "display_name": "Python 3.9.5 64-bit",
   "language": "python",
   "name": "python395jvsc74a57bd0da8713e953e5816d4ea986c651efa3a17939087c0876f0b6df41c80b4ea63db3"
  },
  "language_info": {
   "codemirror_mode": {
    "name": "ipython",
    "version": 3
   },
   "file_extension": ".py",
   "mimetype": "text/x-python",
   "name": "python",
   "nbconvert_exporter": "python",
   "pygments_lexer": "ipython3",
   "version": "3.9.6"
  }
 },
 "nbformat": 4,
 "nbformat_minor": 2
}
