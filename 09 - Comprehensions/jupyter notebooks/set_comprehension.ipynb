{
 "cells": [
  {
   "cell_type": "code",
   "execution_count": null,
   "metadata": {},
   "outputs": [],
   "source": [
    "\"\"\"\n",
    "Set Comprehension\n",
    "\n",
    "Lista = [1, 2, 3, 4 , 5]\n",
    "set = {1, 2, 3, 4, 5}\n",
    "\"\"\""
   ]
  },
  {
   "cell_type": "code",
   "execution_count": 1,
   "metadata": {},
   "outputs": [
    {
     "name": "stdout",
     "output_type": "stream",
     "text": [
      "{0, 1, 2, 3, 4, 5, 6, 7, 8, 9}\n",
      "{0, 2, 4, 6, 8, 10, 12, 14, 16, 18}\n",
      "{'a': 0, 'b': 2, 'c': 4, 'd': 6, 'e': 8, 'f': 10, 'g': 12, 'h': 14, 'i': 16, 'j': 18}\n"
     ]
    }
   ],
   "source": [
    "# Exemplos:\n",
    "set = {numero for numero in range(10)}\n",
    "print(set)\n",
    "\n",
    "\n",
    "# Outro exemplo\n",
    "numeros = {x*2 for x in range(10)}\n",
    "print(numeros)\n",
    "\n",
    "# Desafio: Faça uma alteração na estrutura acima para gerar um dicionário ao invés de set:\n",
    "letras = 'abcdefghij'\n",
    "numeros = {letras[x]: x*2 for x in range(10)}\n",
    "print(numeros)\n"
   ]
  },
  {
   "cell_type": "code",
   "execution_count": null,
   "metadata": {},
   "outputs": [],
   "source": [
    "# Exemplo string\n",
    "letras = {letras for letras in 'jujuba'}\n",
    "print(letras)\n"
   ]
  }
 ],
 "metadata": {
  "interpreter": {
   "hash": "f5310287377959dd263704eae479e17bf8f9acf8e877e9e0ad4e0016078dcd4e"
  },
  "kernelspec": {
   "display_name": "Python 3",
   "language": "python",
   "name": "python3"
  },
  "language_info": {
   "codemirror_mode": {
    "name": "ipython",
    "version": 3
   },
   "file_extension": ".py",
   "mimetype": "text/x-python",
   "name": "python",
   "nbconvert_exporter": "python",
   "pygments_lexer": "ipython3",
   "version": "3.9.5"
  }
 },
 "nbformat": 4,
 "nbformat_minor": 2
}
