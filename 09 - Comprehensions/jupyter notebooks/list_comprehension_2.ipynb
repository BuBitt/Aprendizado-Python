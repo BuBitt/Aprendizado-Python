{
 "cells": [
  {
   "cell_type": "code",
   "execution_count": null,
   "metadata": {},
   "outputs": [],
   "source": [
    "\"\"\"\n",
    "list comprehension\n",
    "\n",
    "\n",
    "Nós podemos adicionar estruturas condicionais lógias as nossas list comprehension\n",
    "\"\"\""
   ]
  },
  {
   "cell_type": "code",
   "execution_count": null,
   "metadata": {},
   "outputs": [],
   "source": [
    "# Exemplos\n",
    "# 1\n",
    "numeros = [1, 2, 3, 4, 5, 6, 7, 8, 9, 10]\n",
    "\n",
    "pares = [numero for numero in numeros if numero % 2 == 0]\n",
    "impares = [numero for numero in numeros if numero % 2 == 1]\n",
    "\n",
    "print(pares) \n",
    "print(impares)\n",
    "\n",
    "\n",
    "# Refatorar\n",
    "pares = [numero for numero in numeros if not numero % 2]\n",
    "impares = [numero for numero in numeros if numero % 2]\n",
    "\n",
    "print(pares)\n",
    "print(impares)\n",
    "\n",
    "# 2\n",
    "res = [numero * 2 if numero % 2 == 0 else numero / 2 for numero in numeros]\n",
    "print(res)\n"
   ]
  }
 ],
 "metadata": {
  "interpreter": {
   "hash": "f5310287377959dd263704eae479e17bf8f9acf8e877e9e0ad4e0016078dcd4e"
  },
  "kernelspec": {
   "display_name": "Python 3",
   "language": "python",
   "name": "python3"
  },
  "language_info": {
   "codemirror_mode": {
    "name": "ipython",
    "version": 3
   },
   "file_extension": ".py",
   "mimetype": "text/x-python",
   "name": "python",
   "nbconvert_exporter": "python",
   "pygments_lexer": "ipython3",
   "version": "3.9.5"
  }
 },
 "nbformat": 4,
 "nbformat_minor": 2
}
