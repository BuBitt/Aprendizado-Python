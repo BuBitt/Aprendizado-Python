{
 "cells": [
  {
   "cell_type": "code",
   "execution_count": null,
   "metadata": {},
   "outputs": [],
   "source": [
    "\"\"\"\n",
    "Listas aninhadas\n",
    "\n",
    "- Linguagens de programação possuem uma estrutura de dados chamadas de arrays:\n",
    "    - Unidimensionais;\n",
    "    - Multidimensionais;\n",
    "\n",
    "Em Python temos listas:\n",
    "\n",
    "numeros = [1, 'b', 3.23, 34, True]\n",
    "\"\"\""
   ]
  },
  {
   "cell_type": "code",
   "execution_count": null,
   "metadata": {},
   "outputs": [],
   "source": [
    "# Exemplos\n",
    "\n",
    "listas = [[1, 2, 3], [4, 5, 6], [7, 8, 9]]\n",
    "\n",
    "print(listas)\n",
    "print(type(listas))\n",
    "\n",
    "\n",
    "# como fazemos para acessar os dados?\n",
    "print(listas[0][1])  # 2\n",
    "print(listas[2][1])  # 8\n",
    "\n",
    "\n",
    "# iterando com loops em uma lista aninhada\n",
    "print()\n",
    "for lista in listas:\n",
    "    for num in lista:\n",
    "        print(num, end=\" \")\n",
    "print()\n",
    "\n",
    "# LIst Comprehension\n",
    "[[print(valor, end=\" \") for valor in lista] for lista in listas]\n"
   ]
  },
  {
   "cell_type": "code",
   "execution_count": null,
   "metadata": {},
   "outputs": [],
   "source": [
    "# Outros exemplos\n",
    "# Gerando um tabuleiro 3x3\n",
    "\n",
    "tabuleiro = [[numero for numero in range(1, 4)] for valor in range(1, 4)]\n",
    "print(tabuleiro)\n",
    "\n",
    "est = [print(tabuleiro[i], end=\"\\n\") for i in range(3)]\n",
    "print(est)\n"
   ]
  }
 ],
 "metadata": {
  "interpreter": {
   "hash": "f5310287377959dd263704eae479e17bf8f9acf8e877e9e0ad4e0016078dcd4e"
  },
  "kernelspec": {
   "display_name": "Python 3",
   "language": "python",
   "name": "python3"
  },
  "language_info": {
   "codemirror_mode": {
    "name": "ipython",
    "version": 3
   },
   "file_extension": ".py",
   "mimetype": "text/x-python",
   "name": "python",
   "nbconvert_exporter": "python",
   "pygments_lexer": "ipython3",
   "version": "3.9.5"
  }
 },
 "nbformat": 4,
 "nbformat_minor": 2
}
