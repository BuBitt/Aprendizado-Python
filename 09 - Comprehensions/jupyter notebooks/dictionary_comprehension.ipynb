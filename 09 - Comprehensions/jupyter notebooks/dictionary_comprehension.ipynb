{
 "cells": [
  {
   "cell_type": "code",
   "execution_count": null,
   "metadata": {},
   "outputs": [],
   "source": [
    "\"\"\"\n",
    "Dictionary comprehension\n",
    "\n",
    "\n",
    "Pense o seguinte:\n",
    "\n",
    "Se quisermos criar uma lista fazemos:\n",
    "lista = []\n",
    "\n",
    "Se quisermos criar uma tupla:\n",
    "tupla = ()\n",
    "\n",
    "Se quisermos criar um conjunto:\n",
    "conjunto = {}\n",
    "\n",
    "Se quisermos criar um dicionário:\n",
    "dicionário = {'a': 1, 'b': 2, 'c': 3}\n",
    "\n",
    "\n",
    "Sintaxy\n",
    "\n",
    "{chave: valor for in interavel}\n",
    "[valor for valor in iteravel]\n",
    "\"\"\""
   ]
  },
  {
   "cell_type": "code",
   "execution_count": null,
   "metadata": {},
   "outputs": [],
   "source": [
    "# Exemplos\n",
    "numeros = {'a': 1, 'b': 2, 'c': 3, 'd': 4, 'e': 5}\n",
    "\n",
    "quadrado = {chave:valor ** 2 for chave, valor in numeros.items()}\n",
    "print(quadrado)\n"
   ]
  },
  {
   "cell_type": "code",
   "execution_count": null,
   "metadata": {},
   "outputs": [],
   "source": [
    "numeros = [1, 2, 3, 4 , 5]\n",
    "\n",
    "quadrado = {valor: valor ** 2 for valor in numeros}\n",
    "print(quadrado)\n"
   ]
  },
  {
   "cell_type": "code",
   "execution_count": 20,
   "metadata": {},
   "outputs": [
    {
     "name": "stdout",
     "output_type": "stream",
     "text": [
      "{'a': 1, 'b': 2, 'c': 3, 'd': 4, 'e': 5}\n"
     ]
    }
   ],
   "source": [
    "chaves = 'abcde'\n",
    "valores = [1, 2, 3, 4, 5]\n",
    "\n",
    "mistura = {chaves[i]: valores[i] for i in range(0, len(valores))}\n",
    "print(mistura)\n"
   ]
  },
  {
   "cell_type": "code",
   "execution_count": 25,
   "metadata": {},
   "outputs": [
    {
     "name": "stdout",
     "output_type": "stream",
     "text": [
      "{1: 'impar', 2: 'par', 3: 'impar', 4: 'par', 5: 'impar'}\n"
     ]
    }
   ],
   "source": [
    "# Exemplo com lógica condicional\n",
    "\n",
    "numeros = [1, 2, 3, 4, 5]\n",
    "\n",
    "res = {num: ('par' if num % 2 == 0 else 'impar') for num in numeros}\n",
    "print(res)\n"
   ]
  },
  {
   "cell_type": "code",
   "execution_count": null,
   "metadata": {},
   "outputs": [],
   "source": []
  }
 ],
 "metadata": {
  "interpreter": {
   "hash": "f5310287377959dd263704eae479e17bf8f9acf8e877e9e0ad4e0016078dcd4e"
  },
  "kernelspec": {
   "display_name": "Python 3",
   "language": "python",
   "name": "python3"
  },
  "language_info": {
   "codemirror_mode": {
    "name": "ipython",
    "version": 3
   },
   "file_extension": ".py",
   "mimetype": "text/x-python",
   "name": "python",
   "nbconvert_exporter": "python",
   "pygments_lexer": "ipython3",
   "version": "3.9.5"
  }
 },
 "nbformat": 4,
 "nbformat_minor": 2
}
