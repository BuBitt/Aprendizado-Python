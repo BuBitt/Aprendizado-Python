{
 "metadata": {
  "language_info": {
   "codemirror_mode": {
    "name": "ipython",
    "version": 3
   },
   "file_extension": ".py",
   "mimetype": "text/x-python",
   "name": "python",
   "nbconvert_exporter": "python",
   "pygments_lexer": "ipython3",
   "version": "3.9.6"
  },
  "orig_nbformat": 4,
  "kernelspec": {
   "name": "python3",
   "display_name": "Python 3.9.6 64-bit"
  },
  "interpreter": {
   "hash": "4e1d9a8909477db77738c33245c29c7265277ef753467dede8cf3f814cde494e"
  }
 },
 "nbformat": 4,
 "nbformat_minor": 2,
 "cells": [
  {
   "cell_type": "code",
   "execution_count": null,
   "metadata": {},
   "outputs": [],
   "source": [
    "\"\"\"\n",
    "Dunder Name e Dunder Main\n",
    "\n",
    "Dunder -> Double Under\n",
    "\n",
    "Dunder Name -> __name__\n",
    "\n",
    "Dunder Main -> __main__\n",
    "\n",
    "Em Python, são utilizados dunder para criar funções, atributos, propriedades e etc, utilizando\n",
    "Double Under para não gerar um conflito com os nomes desse elementosna programação.\n",
    "\n",
    "\n",
    "# Na linguagem C, temos um programa da seguinte forma:\n",
    "\n",
    "int main(){\n",
    "\n",
    "    return 0;\n",
    "}\n",
    "\n",
    "\n",
    "# Em Java:\n",
    "\n",
    "public static void main(string[] args){\n",
    "\n",
    "}\n",
    "\n",
    "\n",
    "# Em python, se executarmos um módulo Python diretamente na linha de comando, internamente\n",
    "o Python atribuirá à varialvel __name  valor __main__ indicando que este módulo é o módulo\n",
    "de execução principal.\n",
    "\n",
    "\n",
    "\n",
    "\n",
    "\"\"\""
   ]
  },
  {
   "cell_type": "code",
   "execution_count": 3,
   "metadata": {},
   "outputs": [
    {
     "output_type": "stream",
     "name": "stdout",
     "text": [
      "package1.teste1\n"
     ]
    }
   ],
   "source": [
    "import package1.teste1\n",
    "\n",
    "print(package1.teste1.__name__)"
   ]
  },
  {
   "cell_type": "code",
   "execution_count": null,
   "metadata": {},
   "outputs": [],
   "source": []
  }
 ]
}