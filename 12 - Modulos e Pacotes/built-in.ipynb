{
 "metadata": {
  "language_info": {
   "codemirror_mode": {
    "name": "ipython",
    "version": 3
   },
   "file_extension": ".py",
   "mimetype": "text/x-python",
   "name": "python",
   "nbconvert_exporter": "python",
   "pygments_lexer": "ipython3",
   "version": 3
  },
  "orig_nbformat": 4
 },
 "nbformat": 4,
 "nbformat_minor": 2,
 "cells": [
  {
   "cell_type": "code",
   "execution_count": null,
   "metadata": {},
   "outputs": [],
   "source": [
    "\"\"\"\n",
    "Trabalhando com módulo built-in\n",
    "\n",
    "módulos integrados que ja vem instaçados no python\n",
    "\"\"\""
   ]
  },
  {
   "cell_type": "code",
   "execution_count": null,
   "metadata": {},
   "outputs": [],
   "source": [
    "# usar tuple para importar varios modulos\n",
    "\n",
    "from random import (\n",
    "    random,\n",
    "    randint,\n",
    "    randrange,\n",
    "    shuffle,\n",
    "    choice\n",
    ")\n",
    "\n",
    "# importa todas as funções, variaveis, objetos e metodos que quiser\n"
   ]
  }
 ]
}