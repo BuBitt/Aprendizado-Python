{
 "metadata": {
  "language_info": {
   "codemirror_mode": {
    "name": "ipython",
    "version": 3
   },
   "file_extension": ".py",
   "mimetype": "text/x-python",
   "name": "python",
   "nbconvert_exporter": "python",
   "pygments_lexer": "ipython3",
   "version": "3.9.6"
  },
  "orig_nbformat": 4,
  "kernelspec": {
   "name": "python3",
   "display_name": "Python 3.9.6 64-bit"
  },
  "interpreter": {
   "hash": "4e1d9a8909477db77738c33245c29c7265277ef753467dede8cf3f814cde494e"
  }
 },
 "nbformat": 4,
 "nbformat_minor": 2,
 "cells": [
  {
   "cell_type": "code",
   "execution_count": null,
   "metadata": {},
   "outputs": [],
   "source": [
    "\"\"\"\n",
    "Pacotes\n",
    "\n",
    "Módulo -> é apenas um arquivo python que pode ter diversas funções para utilizarmos;\n",
    "\n",
    "Pacote -> É um diretório contendo uma coleção de módulos;\n",
    "\n",
    "OBS: Nas versões 2.x do Python, um pacote python deveria conter dentro dele um arquivo chamado __init__.py\n",
    "\n",
    "Nas versões do Python 3.x, não é mais obrigratória a utilização deste arquivo, mas\n",
    "normlamente ainda é utilizado para manter compatibilidade.\n",
    "\"\"\""
   ]
  },
  {
   "cell_type": "code",
   "execution_count": null,
   "metadata": {},
   "outputs": [],
   "source": [
    "# Acessando package\n",
    "from package1 import (\n",
    "    teste1 as t1,\n",
    "    teste2 as t2\n",
    ")\n",
    "\n",
    "# Acessando sub package\n",
    "from package1.package2 import (\n",
    "    teste3 as t3,\n",
    "    teste4 as t4\n",
    ")\n",
    "\n",
    "\n",
    "# teste1\n",
    "print(t1.pi)\n",
    "print(t1.funcao_1(1, 2))\n",
    "\n",
    "\n",
    "# teste2\n",
    "print(t2.curso)\n",
    "print(t2.funcao_2())\n",
    "\n",
    "\n",
    "# teste3\n",
    "print(t3.funcao_3())\n",
    "\n",
    "\n",
    "# teste4\n",
    "t4.k\n"
   ]
  },
  {
   "cell_type": "code",
   "execution_count": null,
   "metadata": {},
   "outputs": [],
   "source": []
  }
 ]
}