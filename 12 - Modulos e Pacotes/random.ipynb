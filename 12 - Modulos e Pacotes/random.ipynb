{
 "metadata": {
  "language_info": {
   "codemirror_mode": {
    "name": "ipython",
    "version": 3
   },
   "file_extension": ".py",
   "mimetype": "text/x-python",
   "name": "python",
   "nbconvert_exporter": "python",
   "pygments_lexer": "ipython3",
   "version": "3.9.6"
  },
  "orig_nbformat": 4,
  "kernelspec": {
   "name": "python3",
   "display_name": "Python 3.9.6 64-bit"
  },
  "interpreter": {
   "hash": "4e1d9a8909477db77738c33245c29c7265277ef753467dede8cf3f814cde494e"
  }
 },
 "nbformat": 4,
 "nbformat_minor": 2,
 "cells": [
  {
   "cell_type": "code",
   "execution_count": null,
   "metadata": {},
   "outputs": [],
   "source": [
    "\"\"\"\n",
    "\n",
    "\"\"\""
   ]
  },
  {
   "cell_type": "code",
   "execution_count": null,
   "metadata": {},
   "outputs": [],
   "source": [
    "# Duas formas de usar o módulo\n",
    "# 1 - importando todo o módulo\n",
    "# random() -> gera um número pseudo-aleatório entre 0 e 1.\n",
    "\n",
    "\n",
    "import random\n",
    "\n",
    "\n",
    "# Ao realizar o import de todo módulo, todas as funções, atributos, classes e propriedades que estiverem dentro do módulo ficarão disponíveis (Não recomendado). Caso você saiba quais funções você precisa utilizar deste módulo, então esta não seria a forma ideal de utilização. Nós veremos uma forma melhor na forma 2.\n",
    "\n",
    "print(random.random())\n",
    "\n",
    "# Colocamos o nome do módulo de da função separados por: .(ponto)\n",
    "# Não confunda a função random com o pacote random. Pode paracer confuso mas a função random() é apenas uma função dentro de um módulo.\n"
   ]
  },
  {
   "cell_type": "code",
   "execution_count": null,
   "metadata": {},
   "outputs": [],
   "source": [
    "# 2 - Importando uma função específica do módulo.\n",
    "# --- FORMA RECOMENDADA ---\n",
    "\n",
    "\n",
    "from random import random\n",
    "\n",
    "\n",
    "# No import acima estamos falando: do módulo random importe a função random.\n",
    "\n",
    "for i in range(10):\n",
    "    print(random())\n"
   ]
  },
  {
   "cell_type": "code",
   "execution_count": null,
   "metadata": {},
   "outputs": [],
   "source": [
    "# uniform() -> gerar uma função de números pseudo-aleatórios entre valores estabelecidos\n",
    "\n",
    "\n",
    "from random import uniform\n",
    "\n",
    "\n",
    "for i in range(10):\n",
    "    print(uniform(3, 7))  # 7 não incluído.\n"
   ]
  },
  {
   "cell_type": "code",
   "execution_count": null,
   "metadata": {},
   "outputs": [],
   "source": [
    "# randint() -> Gera valores pseudo-aleatórios entre os valores estabelecidos\n",
    "\n",
    "\n",
    "from random import randint\n",
    "\n",
    "\n",
    "for i in range(6):\n",
    "    print(randint(1, 61), end=\", \")  # Começa em 1 e vai até 60.\n"
   ]
  },
  {
   "cell_type": "code",
   "execution_count": null,
   "metadata": {},
   "outputs": [],
   "source": [
    "# choice() -> mostra um valor aletaŕorio entre um iterável.\n",
    "\n",
    "\n",
    "from random import choice\n",
    "\n",
    "\n",
    "jogadas = ['pedra', 'papel', 'tesoura']\n",
    "print(choice(jogadas))\n",
    "\n",
    "print(choice('Teste'))\n"
   ]
  },
  {
   "cell_type": "code",
   "execution_count": null,
   "metadata": {},
   "outputs": [],
   "source": [
    "# shuffle -> Tema a função de embaralhar dados\n",
    "\n",
    "\n",
    "from random import shuffle\n",
    "\n",
    "\n",
    "cartas = ['K', 'Q', 'J', 'A', 1, 2, 3, 4, 5, 6]\n",
    "print(cartas)\n",
    "\n",
    "shuffle(cartas)\n",
    "print(cartas)\n",
    "\n",
    "shuffle(cartas)\n",
    "print(cartas)\n"
   ]
  },
  {
   "cell_type": "code",
   "execution_count": null,
   "metadata": {},
   "outputs": [],
   "source": []
  }
 ]
}