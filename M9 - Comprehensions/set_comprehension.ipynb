{
 "metadata": {
  "language_info": {
   "codemirror_mode": {
    "name": "ipython",
    "version": 3
   },
   "file_extension": ".py",
   "mimetype": "text/x-python",
   "name": "python",
   "nbconvert_exporter": "python",
   "pygments_lexer": "ipython3",
   "version": "3.9.5"
  },
  "orig_nbformat": 4,
  "kernelspec": {
   "name": "python3",
   "display_name": "Python 3.9.5 64-bit"
  },
  "interpreter": {
   "hash": "f5310287377959dd263704eae479e17bf8f9acf8e877e9e0ad4e0016078dcd4e"
  }
 },
 "nbformat": 4,
 "nbformat_minor": 2,
 "cells": [
  {
   "cell_type": "code",
   "execution_count": null,
   "metadata": {},
   "outputs": [],
   "source": [
    "\"\"\"\n",
    "Set Comprehension\n",
    "\n",
    "Lista = [1, 2, 3, 4 , 5]\n",
    "set = {1, 2, 3, 4, 5}\n",
    "\"\"\""
   ]
  },
  {
   "cell_type": "code",
   "execution_count": null,
   "metadata": {},
   "outputs": [],
   "source": [
    "# Exemplos:\n",
    "set = {numero for numero in range(10)}\n",
    "print(set)\n",
    "\n",
    "\n",
    "# Outro exemplo\n",
    "numeros = {x*2 for x in range(10)}\n",
    "print(numeros)\n",
    "\n",
    "# Desafio: Faça uma alteração na estrutura acima para gerar um dicionário ao invés de set:\n",
    "letras = 'abcdefghij'\n",
    "numeros = {letras[x]: x*2 for x in range(10)}\n",
    "print(numeros)\n"
   ]
  },
  {
   "cell_type": "code",
   "execution_count": null,
   "metadata": {},
   "outputs": [],
   "source": [
    "# Exemplo string\n",
    "letras = {letras for letras in 'jujuba'}\n",
    "print(letras)\n"
   ]
  }
 ]
}