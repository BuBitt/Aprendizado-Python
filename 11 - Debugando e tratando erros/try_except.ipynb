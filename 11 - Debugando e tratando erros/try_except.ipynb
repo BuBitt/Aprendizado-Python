{
 "metadata": {
  "language_info": {
   "codemirror_mode": {
    "name": "ipython",
    "version": 3
   },
   "file_extension": ".py",
   "mimetype": "text/x-python",
   "name": "python",
   "nbconvert_exporter": "python",
   "pygments_lexer": "ipython3",
   "version": "3.9.6"
  },
  "orig_nbformat": 4,
  "kernelspec": {
   "name": "python3",
   "display_name": "Python 3.9.6 64-bit"
  },
  "interpreter": {
   "hash": "4e1d9a8909477db77738c33245c29c7265277ef753467dede8cf3f814cde494e"
  }
 },
 "nbformat": 4,
 "nbformat_minor": 2,
 "cells": [
  {
   "cell_type": "code",
   "execution_count": null,
   "metadata": {},
   "outputs": [],
   "source": [
    "\"\"\"\n",
    "Utilizamos o bloco try/except para tratar erros que podem ocorrer no nosso código, previnindo assim que o programa pare de funcionar e o usuário receba mensagens de erros inesperadas.\n",
    "\n",
    "A forma geral mais simples é:\n",
    "\n",
    "try:\n",
    "    execução problematica\n",
    "except:\n",
    "    o que deve ser feito no caso de problemas.\n",
    "\n",
    "\n",
    "\"\"\""
   ]
  },
  {
   "cell_type": "code",
   "execution_count": null,
   "metadata": {},
   "outputs": [],
   "source": [
    "# Exemplo 1- Tratando um erro genérico.\n",
    "\n",
    "try:\n",
    "    teste()\n",
    "except:\n",
    "    print('Deu algum Erro')\n",
    "\n",
    "# Tente executar a função teste(), caso encontre erros imprima a mensagem de erro.\n"
   ]
  },
  {
   "cell_type": "code",
   "execution_count": null,
   "metadata": {},
   "outputs": [],
   "source": [
    "try:\n",
    "    len(5)\n",
    "except:\n",
    "    print('Deu algum Erro')\n"
   ]
  },
  {
   "cell_type": "code",
   "execution_count": null,
   "metadata": {},
   "outputs": [],
   "source": [
    "# Tratar erro de forma genérica não é a melhor forma de tratamento de erros. O ideal é SEMPRE tratar de forma específica.\n",
    "# Tratando um erro específico:\n",
    "\n",
    "try:\n",
    "    k()\n",
    "except TypeError:\n",
    "    print('Deu algum Erro')\n"
   ]
  },
  {
   "cell_type": "code",
   "execution_count": null,
   "metadata": {},
   "outputs": [],
   "source": [
    "# Trabalhando com detalhes do erro.\n",
    "\n",
    "try:\n",
    "    len(5)\n",
    "except TypeError as err:\n",
    "    print(f'Deu algum Erro: {err}')\n"
   ]
  },
  {
   "cell_type": "code",
   "execution_count": 13,
   "metadata": {},
   "outputs": [
    {
     "output_type": "stream",
     "name": "stdout",
     "text": [
      "Deu um erro diferente.\n"
     ]
    }
   ],
   "source": [
    "# \n",
    "\n",
    "try:\n",
    "    #len(5)\n",
    "    #teste()\n",
    "    print('teste'[9])\n",
    "except TypeError as err:\n",
    "    print(f'Deu TypeError: {err}')\n",
    "except NameError as ne:\n",
    "    print(f'Deu NameError: {ne}')\n",
    "except:\n",
    "    print('Deu um erro diferente.')\n"
   ]
  },
  {
   "cell_type": "code",
   "execution_count": 18,
   "metadata": {},
   "outputs": [
    {
     "output_type": "stream",
     "name": "stdout",
     "text": [
      "valor\nDeu erro: 'erro'\n"
     ]
    }
   ],
   "source": [
    "def pega_valor(dic, chave):\n",
    "    try:\n",
    "        return dic[chave]\n",
    "    except KeyError as err:\n",
    "        return f'Deu erro: {err}'\n",
    "    except TypeError as err:\n",
    "        return f'Deu erro: {err}'\n",
    "\n",
    "\n",
    "dic = {'nome': 'valor'}\n",
    "\n",
    "print(pega_valor(dic, 'nome'))\n",
    "\n",
    "print(pega_valor(dic, 'erro'))\n"
   ]
  },
  {
   "cell_type": "code",
   "execution_count": null,
   "metadata": {},
   "outputs": [],
   "source": []
  }
 ]
}