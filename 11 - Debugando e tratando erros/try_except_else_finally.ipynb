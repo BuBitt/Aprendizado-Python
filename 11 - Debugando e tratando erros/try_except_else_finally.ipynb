{
 "metadata": {
  "language_info": {
   "codemirror_mode": {
    "name": "ipython",
    "version": 3
   },
   "file_extension": ".py",
   "mimetype": "text/x-python",
   "name": "python",
   "nbconvert_exporter": "python",
   "pygments_lexer": "ipython3",
   "version": "3.9.6"
  },
  "orig_nbformat": 4,
  "kernelspec": {
   "name": "python3",
   "display_name": "Python 3.9.6 64-bit"
  },
  "interpreter": {
   "hash": "4e1d9a8909477db77738c33245c29c7265277ef753467dede8cf3f814cde494e"
  }
 },
 "nbformat": 4,
 "nbformat_minor": 2,
 "cells": [
  {
   "cell_type": "code",
   "execution_count": null,
   "metadata": {},
   "outputs": [],
   "source": [
    "\"\"\"\n",
    "Try / Except / Else / Finally\n",
    "\n",
    "Dica de quando e onde tratar código:\n",
    "\n",
    "!!!!!!! TODA ENTRADA DEVE SER TRATADA!\n",
    "!!!!!!! A FUNÇÃO DO USUÁRIO É DESTRUIR SEU SISTEMA\n",
    "\"\"\""
   ]
  },
  {
   "cell_type": "code",
   "execution_count": null,
   "metadata": {},
   "outputs": [],
   "source": [
    "# Exemplo\n",
    "\n",
    "try:\n",
    "    num = int(input('Informe um número: '))\n",
    "    print(f'Você digitou {num}.')\n",
    "except ValueError:\n",
    "    print('Valor Incorretor')\n"
   ]
  },
  {
   "cell_type": "code",
   "execution_count": null,
   "metadata": {},
   "outputs": [],
   "source": [
    "# Else -> É executado somente se não ocorrer o erro\n",
    "\n",
    "try:\n",
    "    num = int(input('Informe um número: '))\n",
    "except ValueError:\n",
    "    print('Valor Incorretor')\n",
    "else:\n",
    "    print(f'Você digitou {num}')\n"
   ]
  },
  {
   "cell_type": "code",
   "execution_count": null,
   "metadata": {},
   "outputs": [],
   "source": [
    "# Finally\n",
    "\n",
    "try:\n",
    "    num = int(input('Informe um número: '))\n",
    "except ValueError:\n",
    "    print('Valor Incorretor')\n",
    "else:\n",
    "    print(f'Você digitou {num}.')\n",
    "finally:\n",
    "    print('Depois do bloco except.')\n",
    "\n",
    "\n",
    "# OBS: O bloco finally é sempre executado. Independente se houve exceção ou não.\n",
    "\n",
    "# O finally geralmente é utilizado para fechar ou desalocar recursos.\n"
   ]
  },
  {
   "cell_type": "code",
   "execution_count": null,
   "metadata": {},
   "outputs": [],
   "source": [
    "# Exemplo mais complexo ERRADO\n",
    "\n",
    "def dividir(a, b):\n",
    "    return a / b\n",
    "\n",
    "num1 = int(input('Informe o primeiro número: '))\n",
    "\n",
    "try:\n",
    "    num2 = int(input('Informe o segundo número: '))\n",
    "except ValueError:\n",
    "    print('O Valor digitado precisa ser inteiro.')\n",
    "\n",
    "dividir(num1, num2)\n"
   ]
  },
  {
   "cell_type": "code",
   "execution_count": null,
   "metadata": {},
   "outputs": [],
   "source": [
    "# Exemplo mais complexo CORRETO\n",
    "# Deve ser tratado dentro da função\n",
    "\n",
    "\n",
    "def dividir(a, b):\n",
    "    try:\n",
    "        return int(a) / int(b)\n",
    "    except ValueError:\n",
    "        print('O valor digitado precisa ser um inteiro.')\n",
    "    except ZeroDivisionError:\n",
    "        print('Não é possível realizar uma divisão por 0.')\n",
    "\n",
    "\n",
    "num1 = input('Informe o primeiro número: ')\n",
    "num2 = input('Informe o segundo número: ')\n",
    "\n",
    "dividir(num1, num2)\n"
   ]
  },
  {
   "cell_type": "code",
   "execution_count": null,
   "metadata": {},
   "outputs": [],
   "source": [
    "# Tratamento semi-genérico\n",
    "\n",
    "\n",
    "def dividir(a, b):\n",
    "    try:\n",
    "        return int(a) / int(b)\n",
    "    except (ValueError, ZeroDivisionError) as err:\n",
    "        print(f'Ocorreu um problema: {err}')\n",
    "\n",
    "\n",
    "num1 = input('Informe o primeiro número: ')\n",
    "num2 = input('Informe o segundo número: ')\n",
    "\n",
    "dividir(num1, num2)\n"
   ]
  },
  {
   "cell_type": "code",
   "execution_count": null,
   "metadata": {},
   "outputs": [],
   "source": []
  }
 ]
}