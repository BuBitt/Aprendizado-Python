{
 "metadata": {
  "language_info": {
   "codemirror_mode": {
    "name": "ipython",
    "version": 3
   },
   "file_extension": ".py",
   "mimetype": "text/x-python",
   "name": "python",
   "nbconvert_exporter": "python",
   "pygments_lexer": "ipython3",
   "version": "3.9.5"
  },
  "orig_nbformat": 2,
  "kernelspec": {
   "name": "python395jvsc74a57bd0f5310287377959dd263704eae479e17bf8f9acf8e877e9e0ad4e0016078dcd4e",
   "display_name": "Python 3.9.5 64-bit"
  },
  "metadata": {
   "interpreter": {
    "hash": "f5310287377959dd263704eae479e17bf8f9acf8e877e9e0ad4e0016078dcd4e"
   }
  }
 },
 "nbformat": 4,
 "nbformat_minor": 2,
 "cells": [
  {
   "cell_type": "code",
   "execution_count": null,
   "metadata": {},
   "outputs": [],
   "source": [
    "\"\"\"\n",
    "Funções com parâmetros padrão (Default Parameters)\n",
    "\n",
    "- Funções onde a passagem de parâmetro seja opcional;\n",
    "\"\"\""
   ]
  },
  {
   "cell_type": "code",
   "execution_count": null,
   "metadata": {},
   "outputs": [],
   "source": [
    "# Exemplo de função on de a passagem de parâmtro seja opcional:\n",
    "print('Lalala')  # Executa com parâmetro;\n",
    "print()          # Executa mesm sem parâmetro;\n",
    "\n",
    "\n",
    "# Exemplo onde a passagem de parâmetro seja obrigatória:\n",
    "def quadrado(numero):\n",
    "    return numero ** 2\n",
    "\n",
    "print(quadrado(2))  # retorna\n",
    "print(quadrado())   # Type Error\n"
   ]
  },
  {
   "cell_type": "code",
   "execution_count": null,
   "metadata": {},
   "outputs": [],
   "source": [
    "# Função sem valores opcionais:\n",
    "def exp(n, p):\n",
    "    return n ** p\n",
    "\n",
    "print(exp(4, 4))  # Precisa dos dois parâmtros para funcionar;\n",
    "\n",
    "\n",
    "# Quando tem o '=' nos parâmetros, ele se torna opcional, e caso não seja posto parâmetros\n",
    "# O valor a ser executado será o depois do =;\n",
    "def exp(n, p=2):\n",
    "    return n ** p\n",
    "\n",
    "print(exp(4))  # Executa com expoente 2;\n"
   ]
  },
  {
   "cell_type": "code",
   "execution_count": null,
   "metadata": {},
   "outputs": [],
   "source": [
    "# Em funções Python, os parâmetros com valores default (padrão) DEVEM sempre estar no final da declaração.\n",
    "\n",
    "# Erro!\n",
    "def teste(num=2, potencia):\n",
    "    return num ** potencia\n",
    "\n",
    "teste(6)  # Erro, 6 não será atribuído a variável 'Potência';\n",
    "\n",
    "\n",
    "# Certo!\n",
    "def teste(potencia, num=2):\n",
    "    retunr num ** potencia\n",
    "\n",
    "teste(6)  # 6 será atribuído a variável potência.\n"
   ]
  },
  {
   "cell_type": "code",
   "execution_count": null,
   "metadata": {},
   "outputs": [],
   "source": [
    "# # # # # # # # # # # # # # # # # # # # # # # # # # # # # # # # # # # # # # # # # #\n",
    "# Por que utilizar parâmetros com valor default?                                  #\n",
    "#                                                                                 #\n",
    "# - Nos permite ser mais flexíveis nas funções;                                   #\n",
    "# - Evita erros com parâmetros incorretos;                                        #\n",
    "# - Nos permite trabalhar com exemplos mais legiveis de código;                   #\n",
    "#                                                                                 #\n",
    "#                                                                                 #\n",
    "# Quais tipos de dados podemos utilizar como valores default para parâmetros?     #\n",
    "# - Quaisquer tipos de dados:                                                     #\n",
    "#   - números, strings, booleanos, listas, tiplasm dicionários, funções, etc...   #\n",
    "# # # # # # # # # # # # # # # # # # # # # # # # # # # # # # # # # # # # # # # # # #\n",
    "\n",
    "# Exemplos:\n",
    "def soma(n1, n2):\n",
    "    return n1 + n2\n",
    "\n",
    "\n",
    "def mat(n1, n2, fun=soma):\n",
    "    return fun(n1, n2)\n",
    "\n",
    "\n",
    "def sub(n1, n2):\n",
    "    return n1 - n2\n",
    "\n",
    "\n",
    "print(mat(2, 3))\n",
    "print(mat(2,2, sub))\n"
   ]
  },
  {
   "cell_type": "code",
   "execution_count": null,
   "metadata": {},
   "outputs": [],
   "source": [
    "# Escopo - Evitar problemas e confuões\n",
    "\n",
    "# Variáveis globais\n",
    "# Variáveis locais\n",
    "\n",
    "inst = 'Instutor'  # variável global\n",
    "\n",
    "\n",
    "def diz_oi():\n",
    "    return f'Oi {inst}!'\n",
    "\n",
    "print(diz_oi())\n",
    "\n",
    "# A variável local se sobrepõe a global;\n",
    "def diz_oi():\n",
    "    inst = 'Python'\n",
    "    return f'Oi {inst}!'\n",
    "\n",
    "print(diz_oi())\n"
   ]
  },
  {
   "cell_type": "code",
   "execution_count": null,
   "metadata": {},
   "outputs": [],
   "source": [
    "# Atenção com variáveis globais (Se puder evitar, evite!)\n",
    "\n",
    "# Errado!\n",
    "total = 0\n",
    "\n",
    "def incrementa():\n",
    "    total = total + 1\n",
    "    return total\n",
    "\n",
    "incrementa()"
   ]
  },
  {
   "cell_type": "code",
   "execution_count": null,
   "metadata": {},
   "outputs": [],
   "source": [
    "# Certo!\n",
    "total = 0\n",
    "\n",
    "def incrementa():\n",
    "    global total\n",
    "    \n",
    "    total = total + 1\n",
    "    return total\n",
    "\n",
    "print(incrementa())\n",
    "print(incrementa())\n",
    "print(incrementa())\n"
   ]
  },
  {
   "cell_type": "code",
   "execution_count": null,
   "metadata": {},
   "outputs": [],
   "source": [
    "# Podemos ter funções que são declaradas dento de funções e também têm uma forma especial de escopo de variável\n",
    "def fora():\n",
    "    contador = 0\n",
    "    \n",
    "    def dentro():\n",
    "        nonlocal contador\n",
    "        contador = contador + 1\n",
    "        return contador\n",
    "    \n",
    "    return dentro()\n",
    "\n",
    "fora()"
   ]
  },
  {
   "cell_type": "code",
   "execution_count": null,
   "metadata": {},
   "outputs": [],
   "source": []
  }
 ]
}