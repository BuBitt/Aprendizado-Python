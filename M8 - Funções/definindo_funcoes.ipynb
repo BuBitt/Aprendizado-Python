{
 "metadata": {
  "language_info": {
   "codemirror_mode": {
    "name": "ipython",
    "version": 3
   },
   "file_extension": ".py",
   "mimetype": "text/x-python",
   "name": "python",
   "nbconvert_exporter": "python",
   "pygments_lexer": "ipython3",
   "version": "3.9.5"
  },
  "orig_nbformat": 2,
  "kernelspec": {
   "name": "python395jvsc74a57bd006582a16ede3f99221a1e5ed0e28cc4eafd5cde3f4a8f96769bd8bcacff734d9",
   "display_name": "Python 3.9.5 64-bit ('3.9.5')"
  },
  "metadata": {
   "interpreter": {
    "hash": "06582a16ede3f99221a1e5ed0e28cc4eafd5cde3f4a8f96769bd8bcacff734d9"
   }
  }
 },
 "nbformat": 4,
 "nbformat_minor": 2,
 "cells": [
  {
   "cell_type": "code",
   "execution_count": null,
   "metadata": {},
   "outputs": [],
   "source": [
    "\"\"\"\n",
    "Definindo funções\n",
    "\n",
    "- Funções são pequenas partes de código que realizam tarefas esécíficas;\n",
    "- Pode ou não receber entradas de dados e retornar uma saída de dados;\n",
    "- Muito úteis para executar procedimentos similares por repetidas vezes;\n",
    "\n",
    "OBS: Se você escrever uma função que realiza várias tarefas dentro dela,\n",
    "     é bom fazer uma verificação para que a função seja simplificada.\n",
    "\n",
    "Já utilizamos várias funções desde que iniciamos este curso:\n",
    "- print()\n",
    "- len()\n",
    "- max()\n",
    "- min()\n",
    "- count()\n",
    "- e muitas outras;\n",
    "\n",
    "\"\"\""
   ]
  },
  {
   "cell_type": "code",
   "execution_count": null,
   "metadata": {},
   "outputs": [],
   "source": [
    "# Exemplo de utilização de funções:\n",
    "\n",
    "cores = ['azul', 'verde', 'vermelho', 'branco']\n",
    "\n",
    "# Utilizando função integrada (built-in) do python print():\n",
    "\n",
    "print(cores)\n",
    "\n",
    "curso = 'programação em python essencial'\n",
    "\n",
    "print(curso)\n",
    "\n",
    "cores.append('roxo')\n",
    "\n",
    "print(cores)\n",
    "\n"
   ]
  },
  {
   "cell_type": "code",
   "execution_count": null,
   "metadata": {},
   "outputs": [],
   "source": [
    "\"\"\"\n",
    "em Python, a forma geral de definir uma função é:\n",
    "\n",
    "def nome_da_função(parametros_de_entrada):\n",
    "    bloco_da_função\n",
    " \n",
    "\n",
    "\n",
    "Onde:\n",
    "\n",
    "nome_da_função -> SEMPRE com letras minusculas, e se for nome composto, separado por underline (snake Case);\n",
    "\n",
    "parametros_de_entrada -> são opcionais, onde tendo mais de 1, separados por virgula, podendno ser opcionais ou não;\n",
    "\n",
    "bloco_da_função -> também chamado de corpo da função ou implementação, é onde o processamento da função acontece\n",
    "                    neste bloco pode ter ou não retorno da função.\n",
    " \n",
    "OBS: veja que para definir uma função, utilizamos a palavra reservada \"def\" informando ao Python que\n",
    "      estamos definindo uma função. Também o bloco de código com o já conhecido dois pontos : que é usado\n",
    "      para definir blocos.\n",
    "\"\"\""
   ]
  },
  {
   "cell_type": "code",
   "execution_count": null,
   "metadata": {},
   "outputs": [],
   "source": [
    "# Definindo a primeira função:\n",
    "def diz_oi():\n",
    "    print('Oi')\n",
    "\n",
    "\"\"\"\n",
    "OBS:\n",
    "\n",
    "1 - Veja que dentro das nossas funções podemos utilizar outras funções;\n",
    "2 - Veja que nossa função só executa 1 tarefa, ou seja, a única coisa que ela faz é dizer oi.\n",
    "3 - Veja que esta função não recebe nenhum parâmetro de entrada;\n",
    "4 - Veja que esta função não retorna nada;\n",
    "\"\"\"\n",
    "\n",
    "# Utilizando funções\n",
    "\n",
    "# Chamada de execução\n",
    "diz_oi()\n",
    "\n",
    "\"\"\"\n",
    "Atenção nunca esqueça de utilizar o parenteses ao executar uma função.\n",
    "\n",
    "Exemplo:\n",
    "\n",
    "diz_oi   -> Errado\n",
    "diz_oi() -> Certo\n",
    "\"\"\""
   ]
  },
  {
   "cell_type": "code",
   "execution_count": null,
   "metadata": {},
   "outputs": [],
   "source": [
    "# Exemplo 2:\n",
    "def canatar_parabnes():\n",
    "    print('Parabéns pra você')\n",
    "    print('Nesta data querida')\n",
    "    print('Muitas felicidades')\n",
    "    print('Muitos anos de vida!')\n",
    "\n",
    "\n",
    "# for i in range(4):\n",
    "#     canatar_parabnes()\n",
    "\n",
    "\n",
    "# Em python, podemos criar inclusive criar variaveis do tipo de uma função e executar essa função através da    variável;\n",
    "\n",
    "canta = canatar_parabnes\n",
    "canta()\n"
   ]
  }
 ]
}