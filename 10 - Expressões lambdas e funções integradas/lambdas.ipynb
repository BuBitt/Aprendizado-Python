{
 "cells": [
  {
   "cell_type": "code",
   "execution_count": null,
   "metadata": {},
   "outputs": [],
   "source": [
    "\"\"\"\n",
    "Utilizando lambdas\n",
    "\n",
    "Conhecidas por  EXpressões Lambdas ou simplesmente Lambdas, são funções sem nome,\n",
    "ouse seja, funções anônimas.\n",
    "\n",
    "\n",
    "\"\"\""
   ]
  },
  {
   "cell_type": "code",
   "execution_count": null,
   "metadata": {},
   "outputs": [],
   "source": [
    "def funcao(x):\n",
    "    return 3 * x + 1\n",
    "\n",
    "\n",
    "print(funcao(4))\n",
    "\n",
    "\n",
    "# EXPRESSÃO LAMBDA\n",
    "calc = lambda x: 3 * x + 1\n",
    "\n",
    "\n",
    "print(calc(4))"
   ]
  },
  {
   "cell_type": "code",
   "execution_count": null,
   "metadata": {},
   "outputs": [],
   "source": [
    "# Podemos ter expressões lambdas com várias entradas\n",
    "\n",
    "nome_completo = lambda nome, sobrenome: nome.strip().title() + ' ' + sobrenome.strip().title()\n",
    "\n",
    "\n",
    "print(nome_completo('jao', 'batista'))\n",
    "print(nome_completo('jao', 'batista'))\n"
   ]
  },
  {
   "cell_type": "code",
   "execution_count": 1,
   "metadata": {},
   "outputs": [
    {
     "name": "stdout",
     "output_type": "stream",
     "text": [
      "<function <lambda> at 0x7ff0183e6b80>\n",
      "19\n",
      "8.94427190999916\n",
      "4.909090909090908\n"
     ]
    }
   ],
   "source": [
    "# Em funções python podemos ter nenhumas ou várias entradas. Em lambdas também.\n",
    "\n",
    "amar = lambda: 'Como não amar python'\n",
    "\n",
    "uma = lambda x: 3 * x + 1\n",
    "\n",
    "duas = lambda x, y: x * y ** 0.5\n",
    "\n",
    "tres = lambda x, y, z: 3 / (1 / x + 1 / y + 1 / z)\n",
    "\n",
    "# n = lambda x1, x2, ... xn: <expressão>\n",
    "\n",
    "print(amar)\n",
    "print(uma(6))\n",
    "print(duas(4, 5))\n",
    "print(tres(3, 6, 9))\n"
   ]
  },
  {
   "cell_type": "code",
   "execution_count": null,
   "metadata": {},
   "outputs": [],
   "source": [
    "# outro exemplo\n",
    "\n",
    "autores = ['Isaac Asimov', 'Ray Bradbury', 'Robert Heinlein', 'Arthur C. Clarke',\n",
    "           'Frank Herbert', 'Orson Scott Card', 'Douglas Adams', 'H. G. Wells', 'Leigh Brackett']\n",
    "\n",
    "print(autores)\n",
    "print()\n",
    "\n",
    "autores.sort(key=lambda sobrenome: sobrenome.split(' ')[-1].lower())\n",
    "\n",
    "print(autores)\n"
   ]
  },
  {
   "cell_type": "code",
   "execution_count": null,
   "metadata": {},
   "outputs": [],
   "source": [
    "# Função quadrática\n",
    "# f(x) = a * x ** 2 + b * x + c\n",
    "\n",
    "# Definindo a função\n",
    "\n",
    "def gera_f_quadratica(a, b, c):\n",
    "    return lambda x: a * x ** 2 + b * x + c\n",
    "\n",
    "teste = gera_f_quadratica(2, 3, -5)\n",
    "\n",
    "print(teste(0))\n",
    "print(teste(1))\n",
    "print(teste(2))\n",
    "\n",
    "print(gera_f_quadratica(40, 90 ,1)(2))\n"
   ]
  }
 ],
 "metadata": {
  "interpreter": {
   "hash": "94f7338fe62096d5845eef336fc76bd04a70a447c66e81b53d110ad8395bd13c"
  },
  "kernelspec": {
   "display_name": "Python 3",
   "language": "python",
   "name": "python3"
  },
  "language_info": {
   "codemirror_mode": {
    "name": "ipython",
    "version": 3
   },
   "file_extension": ".py",
   "mimetype": "text/x-python",
   "name": "python",
   "nbconvert_exporter": "python",
   "pygments_lexer": "ipython3",
   "version": "3.9.5"
  }
 },
 "nbformat": 4,
 "nbformat_minor": 2
}
