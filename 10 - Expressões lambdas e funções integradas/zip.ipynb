{
 "metadata": {
  "language_info": {
   "codemirror_mode": {
    "name": "ipython",
    "version": 3
   },
   "file_extension": ".py",
   "mimetype": "text/x-python",
   "name": "python",
   "nbconvert_exporter": "python",
   "pygments_lexer": "ipython3",
   "version": "3.9.6"
  },
  "orig_nbformat": 4,
  "kernelspec": {
   "name": "python3",
   "display_name": "Python 3.9.6 64-bit"
  },
  "interpreter": {
   "hash": "4e1d9a8909477db77738c33245c29c7265277ef753467dede8cf3f814cde494e"
  }
 },
 "nbformat": 4,
 "nbformat_minor": 2,
 "cells": [
  {
   "cell_type": "code",
   "execution_count": null,
   "metadata": {},
   "outputs": [],
   "source": [
    "\"\"\"\n",
    "Zip\n",
    "\n",
    "zip() -> cria um iteravel (Zip Object) que agrega elemento de cada um dos interáveis passados como entrada em pares.\n",
    "\"\"\""
   ]
  },
  {
   "cell_type": "code",
   "execution_count": null,
   "metadata": {},
   "outputs": [],
   "source": [
    "# Exemplos\n",
    "\n",
    "lista1 = [1, 2, 3]\n",
    "lista2 = [4, 5, 6]\n",
    "\n",
    "zip1 = zip(lista1, lista2, 'abc')\n",
    "print(zip1)\n",
    "print(type(zip1), '\\n')\n",
    "\n",
    "# Sempre podemos gerar uma lista, tupla ou dicionário.\n",
    "\n",
    "print(list(zip1))\n",
    "\n",
    "zip1 = zip(lista1, lista2, 'abc')\n",
    "print(tuple(zip1))\n",
    "\n",
    "zip1 = zip(lista1, lista2, 'abc')\n",
    "print(set(zip1))\n",
    "\n",
    "zip1 = zip(lista1, lista2)\n",
    "print(dict(zip1))\n",
    "\n",
    "\n",
    "lista3 = [7, 8, 9, 10, 11]\n",
    "\n",
    "zip1 = zip(lista1, lista2, lista3)\n",
    "print(list(zip1))\n",
    "\n",
    "# OBS: O zip() usa como iterável como parâmetro o menor tamanho em iterável. isso significa que se estiver trabalhando com iteráveis de tamanhos diferentes, irá parar quando os elementos do menor iterável acabarem.\n"
   ]
  },
  {
   "cell_type": "code",
   "execution_count": null,
   "metadata": {},
   "outputs": [],
   "source": [
    "# Podemos utilizar diferentes iteráveis com zip()\n",
    "\n",
    "tupla = 1, 2, 3, 4, 5\n",
    "lista = [6, 7, 8, 9, 10]\n",
    "dicio = {'a': 11, 'b': 12, 'c': 13, 'd': 14, 'e': 15}\n",
    "\n",
    "zt = zip(tupla, lista, dicio.values())\n",
    "print(list(zt))\n",
    "\n",
    "# Lista de tuplas\n",
    "dados = [(0,1), (2, 3), (4, 5), (6,7)]\n",
    "print(dados)\n",
    "print(list(zip(*dados)))\n"
   ]
  },
  {
   "cell_type": "code",
   "execution_count": null,
   "metadata": {},
   "outputs": [],
   "source": [
    "# Exemplos mais complexos\n",
    "\n",
    "prova1 = [80, 91, 78]\n",
    "prova2 = [98, 89, 53]\n",
    "alunos = ['maria', 'pedro', 'carla']\n",
    "\n",
    "final = {dado[0]:max(dado[1], dado[2]) for dado in zip(alunos, prova1, prova2)}\n",
    "print(final)\n",
    "\n",
    "# Podemos utilizar o map() para fazer isso:\n",
    "\n",
    "final = zip(alunos, map(lambda nota: max(nota), zip(prova1, prova2)))\n",
    "print(dict(final))\n"
   ]
  },
  {
   "cell_type": "code",
   "execution_count": null,
   "metadata": {},
   "outputs": [],
   "source": []
  }
 ]
}