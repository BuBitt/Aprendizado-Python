{
 "metadata": {
  "language_info": {
   "codemirror_mode": {
    "name": "ipython",
    "version": 3
   },
   "file_extension": ".py",
   "mimetype": "text/x-python",
   "name": "python",
   "nbconvert_exporter": "python",
   "pygments_lexer": "ipython3",
   "version": "3.9.5"
  },
  "orig_nbformat": 4,
  "kernelspec": {
   "name": "python3",
   "display_name": "Python 3.9.5 64-bit ('shims')"
  },
  "interpreter": {
   "hash": "f5310287377959dd263704eae479e17bf8f9acf8e877e9e0ad4e0016078dcd4e"
  }
 },
 "nbformat": 4,
 "nbformat_minor": 2,
 "cells": [
  {
   "cell_type": "code",
   "execution_count": null,
   "metadata": {},
   "outputs": [],
   "source": [
    "\"\"\"\n",
    "Sorted\n",
    "\n",
    "não confunda, apesar do nome, com a função sort() que já estudamos em listas. O sort() só funciona em listas.\n",
    "\n",
    "Podemos utilizar sorted() COM QUALQUER ITERÁVEL.\n",
    "\n",
    "Como o próprio nomde diz, sorted() serve para ordenar.\n",
    "\n",
    "o sorted() sempre retorna uma lista com os elementos do iterável ordenados\n",
    "\"\"\""
   ]
  },
  {
   "cell_type": "code",
   "execution_count": null,
   "metadata": {},
   "outputs": [],
   "source": [
    "# EXEMPLO\n",
    "\n",
    "numeros = [6, 1, 8, 2]\n",
    "print(numeros)\n",
    "\n",
    "print(sorted(numeros))  # Sorted gera uma nova lista da coleção desejada, por isso funciona com tuplas.\n",
    "\n",
    "print(numeros)\n"
   ]
  },
  {
   "cell_type": "code",
   "execution_count": null,
   "metadata": {},
   "outputs": [],
   "source": [
    "# Adicoinando parâmetros ao sorted()\n",
    "\n",
    "numeros = [6, 1, 8, 2]\n",
    "\n",
    "\n",
    "print(sorted(numeros))\n",
    "print(sorted(numeros, reverse=True))  # Ordena do maior para o menor.\n",
    "\n",
    "print(set(sorted(numeros)))           # Converte para set.\n"
   ]
  },
  {
   "cell_type": "code",
   "execution_count": null,
   "metadata": {},
   "outputs": [],
   "source": [
    "# Podemos utilizar o sorted() para coisas mais complexas\n",
    "\n",
    "usuarios = [\n",
    "    {'username': \"Samuel\", \"Tweets\": [\"Eu adoro bolos\", \"Eu adoro pizzas\"]},\n",
    "    {'username': \"Marília\", \"Tweets\": [\"Eu amo meu gato\"]},\n",
    "    {'username': \"Kedas\", \"Tweets\": []},\n",
    "    {'username': \"P.H.\", \"Tweets\": [], 'cor': 'Amarelo'},\n",
    "    {'username': \"Joca\", \"Tweets\": [\"Eu gosto de cachorros\", \"Vou sair hoje\"]},\n",
    "    {'username': \"Bruno\", \"Tweets\": [], 'cor': 'preto', 'musica': 'rock'}\n",
    "]\n",
    "\n",
    "print(usuarios, '\\n')\n",
    "\n",
    "# ordenando pelo username - Ordem alfabética\n",
    "print(sorted(usuarios, key=lambda usuario: usuario[\"Tweets\"]))\n",
    "print()\n",
    "\n",
    "# Ordenando pelo número de tweets\n",
    "print(sorted(usuarios, key=lambda usuario: len(usuario[\"Tweets\"])))\n"
   ]
  },
  {
   "cell_type": "code",
   "execution_count": null,
   "metadata": {},
   "outputs": [],
   "source": [
    "# Outro exemplo\n",
    "\n",
    "musicas = [\n",
    "    {\"título\": \"thunderstruck\", 'tocou': 3},\n",
    "    {\"título\": \"lofi\", 'tocou': 2},\n",
    "    {\"título\": \"black in black\", 'tocou': 4},\n",
    "    {\"título\": \"tom jobim\", 'tocou': 32},\n",
    "]\n",
    "\n",
    "# Da menos tocada para a mais tocada\n",
    "print(sorted(musicas, key=lambda musica: musica['tocou']))\n",
    "print()\n",
    "\n",
    "# Da mais tocada para a menos tocada\n",
    "print(sorted(musicas, key=lambda musica: musica['tocou'], reverse=True))\n"
   ]
  },
  {
   "cell_type": "code",
   "execution_count": null,
   "metadata": {},
   "outputs": [],
   "source": []
  }
 ]
}