{
 "metadata": {
  "language_info": {
   "codemirror_mode": {
    "name": "ipython",
    "version": 3
   },
   "file_extension": ".py",
   "mimetype": "text/x-python",
   "name": "python",
   "nbconvert_exporter": "python",
   "pygments_lexer": "ipython3",
   "version": "3.9.5"
  },
  "orig_nbformat": 4,
  "kernelspec": {
   "name": "python395jvsc74a57bd0f5310287377959dd263704eae479e17bf8f9acf8e877e9e0ad4e0016078dcd4e",
   "display_name": "Python 3.9.5 64-bit",
   "language": "python"
  }
 },
 "nbformat": 4,
 "nbformat_minor": 2,
 "cells": [
  {
   "cell_type": "code",
   "execution_count": null,
   "metadata": {},
   "outputs": [],
   "source": [
    "\"\"\"\n",
    "Any e all\n",
    "\n",
    "all() -> retorna True ose todos os elementos do iteravel são verdadeiros ou ainda se o iterável está vazio.\n",
    "\n",
    "any() -> retorna True se qualquer elemento do iterável for verdadeiro, se o iterável estiver vazio retorna false.\n",
    "\"\"\""
   ]
  },
  {
   "cell_type": "code",
   "execution_count": null,
   "metadata": {},
   "outputs": [],
   "source": [
    "# Exemplo all 1\n",
    "\n",
    "print(all([0,1,2,3,4,5,6]))  # Todos os elementos são verdadeiros? False\n",
    "print(all([1,2,3,4,5,6]))    # Todos os elementos são verdadeiros? True\n",
    "print(all([]))               # A coleção está vazia? True\n"
   ]
  },
  {
   "cell_type": "code",
   "execution_count": null,
   "metadata": {},
   "outputs": [],
   "source": [
    "# Exemplo all 2\n",
    "\n",
    "nomes = ['carla', 'camila', 'casiano', 'caio']\n",
    "\n",
    "print(all([nome[0] == 'c'for nome in nomes]))\n",
    "print(all([letra for letra in 'eio' if letra in 'aeiou' ]))\n"
   ]
  },
  {
   "cell_type": "code",
   "execution_count": null,
   "metadata": {},
   "outputs": [],
   "source": [
    "# Exemplo any 1\n",
    "\n",
    "print(any([0,1,2,3,4,5,6]))         # true\n",
    "print(any([0, False, {}, (), []]))  # False\n"
   ]
  },
  {
   "cell_type": "code",
   "execution_count": 11,
   "metadata": {},
   "outputs": [
    {
     "output_type": "stream",
     "name": "stdout",
     "text": [
      "True\nTrue\n"
     ]
    }
   ],
   "source": [
    "# Exemplo any 2\n",
    "\n",
    "nomes = ['carla', 'camila', 'casiano', 'caio']\n",
    "\n",
    "print(any([nomes[0] == 'c' for nomes in nomes]))\n",
    "print(any([num for num in [4, 2, 10, 6, 8] if num % 2 == 0]))\n"
   ]
  },
  {
   "cell_type": "code",
   "execution_count": null,
   "metadata": {},
   "outputs": [],
   "source": []
  }
 ]
}