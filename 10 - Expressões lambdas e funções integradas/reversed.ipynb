{
 "metadata": {
  "language_info": {
   "codemirror_mode": {
    "name": "ipython",
    "version": 3
   },
   "file_extension": ".py",
   "mimetype": "text/x-python",
   "name": "python",
   "nbconvert_exporter": "python",
   "pygments_lexer": "ipython3",
   "version": "3.9.5"
  },
  "orig_nbformat": 4,
  "kernelspec": {
   "name": "python3",
   "display_name": "Python 3.9.5 64-bit"
  },
  "interpreter": {
   "hash": "f5310287377959dd263704eae479e17bf8f9acf8e877e9e0ad4e0016078dcd4e"
  }
 },
 "nbformat": 4,
 "nbformat_minor": 2,
 "cells": [
  {
   "cell_type": "code",
   "execution_count": null,
   "metadata": {},
   "outputs": [],
   "source": [
    "\"\"\"\n",
    "Reversed\n",
    "\n",
    "OBS: Não confunda com a funlçai reverse() que estudamos nas listas.\n",
    "\n",
    "A função reverse() só funciona em listas.\n",
    "\n",
    "Já a função reverserd funciona com qualquer iterável.\n",
    "\n",
    "Sua função é inveter o iterável.\n",
    "\n",
    "A função reversed() retorna um iterável chamado <list_reverseiterator>.\n",
    "\"\"\""
   ]
  },
  {
   "cell_type": "code",
   "execution_count": null,
   "metadata": {},
   "outputs": [],
   "source": [
    "# Exemplos\n",
    "\n",
    "lista = [1, 2, 3, 4, 5]\n",
    "\n",
    "res = reversed(lista)\n",
    "print(res, type(res))\n",
    "\n",
    "# Podemos converter o objeto retornado para uma Lista, Tupla ou Conjunto.\n",
    "\n",
    "# Lista\n",
    "print(list(reversed(lista)))\n",
    "\n",
    "# Tupla\n",
    "print(tuple(reversed(lista)))\n",
    "\n",
    "# Conjunto (set)\n",
    "print(set(reversed(lista)))\n"
   ]
  },
  {
   "cell_type": "code",
   "execution_count": 1,
   "metadata": {},
   "outputs": [
    {
     "output_type": "stream",
     "name": "stdout",
     "text": [
      "ytisrevinU keeG\nytisrevinU keeG\nytisrevinU keeG\n9\n8\n7\n6\n5\n4\n3\n2\n1\n0\n10\n9\n8\n7\n6\n5\n4\n3\n2\n1\n"
     ]
    }
   ],
   "source": [
    "# Podemos iterar sobre o reversed\n",
    "\n",
    "for letra in reversed('Geek University'):\n",
    "    print(letra, end='')\n",
    "print()\n",
    "\n",
    "# podemos fazer o mesmo sem o uso do for\n",
    "\n",
    "print(''.join(list(reversed('Geek University'))))\n",
    "\n",
    "\n",
    "# Ja vismo s como fazer isso mais fácil com slice de strings\n",
    "print('Geek University'[::-1])\n",
    "\n",
    "# Podemos utilizar o reversed() para azer um loop for reserso\n",
    "for n in reversed(range(0, 10)):\n",
    "    print(n)\n",
    "\n",
    "for n in range(10, 0, -1):\n",
    "    print(n)\n"
   ]
  },
  {
   "cell_type": "code",
   "execution_count": null,
   "metadata": {},
   "outputs": [],
   "source": []
  }
 ]
}