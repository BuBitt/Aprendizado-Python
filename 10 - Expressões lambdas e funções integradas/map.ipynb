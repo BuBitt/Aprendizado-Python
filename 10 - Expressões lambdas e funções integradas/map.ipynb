{
 "cells": [
  {
   "cell_type": "code",
   "execution_count": null,
   "metadata": {},
   "outputs": [],
   "source": [
    "\"\"\"\n",
    "Map\n",
    "\n",
    "com map fazemos mapeamento dos valores de uma função\n",
    "\"\"\"     "
   ]
  },
  {
   "cell_type": "code",
   "execution_count": 1,
   "metadata": {},
   "outputs": [
    {
     "name": "stdout",
     "output_type": "stream",
     "text": [
      "50.26548245743669\n",
      "326.85129967948205\n",
      "\n",
      "2 5 7.1 0.3 10 44 \n",
      "\n",
      "\n",
      "<map object at 0x7f5321fe0940> <- Retorna um objeto prórpio.\n",
      "<class 'map'> \n",
      "\n",
      "[12.566370614359172, 78.53981633974483, 158.36768566746147, 0.2827433388230814, 314.1592653589793, 6082.12337734984] <- convertendo pra listas\n",
      "<class 'list'> \n",
      "\n",
      "[12.566370614359172, 78.53981633974483, 158.36768566746147, 0.2827433388230814, 314.1592653589793, 6082.12337734984]\n"
     ]
    }
   ],
   "source": [
    "import math\n",
    "\n",
    "\n",
    "def area(r):\n",
    "    return math.pi * (r ** 2)\n",
    "\n",
    "\n",
    "print(area(4))\n",
    "print(area(10.2))\n",
    "print()\n",
    "\n",
    "# Forma comum\n",
    "raios = [2, 5, 7.1,0.3, 10, 44]\n",
    "\n",
    "for raio in raios:\n",
    "    print(raio, end=\" \")\n",
    "print('\\n'*2)\n",
    "\n",
    "\n",
    "# forma 2 - Map\n",
    "\n",
    "# map() recebe 2 parâmetros: O primeiro a função, o segundo um iterável.Retorna um Map Oject\n",
    "areas = map(area, raios)\n",
    "\n",
    "print(areas, '<- Retorna um objeto prórpio.')\n",
    "print(type(areas), '\\n')\n",
    "\n",
    "\n",
    "print(list(areas),'<- convertendo pra listas')\n",
    "print(type(list(areas)), '\\n')\n",
    "\n",
    "\n",
    "# Forma 3 map() com lambda:\n",
    "print(list(map(lambda r: math.pi * (r ** 2), raios)))\n",
    "\n",
    "# OBS: Após utilizar a função map() depois da primeira utilização do resultado, ele zera."
   ]
  },
  {
   "cell_type": "code",
   "execution_count": null,
   "metadata": {},
   "outputs": [],
   "source": [
    "# Para fixar map()\n",
    "\n",
    "# Temos dados iteráveis:\n",
    "# dados: a1, a2, ..., an\n",
    "\n",
    "# Temos uma função:\n",
    "# função: f(x)\n",
    "\n",
    "# utilizamos a função map(f, dados), em que map() irá 'mapear' cada elemento dos dados e aplicar a função\n",
    "# O Ma Object: f(a1), f(a2), f(...), f(n)"
   ]
  },
  {
   "cell_type": "code",
   "execution_count": 2,
   "metadata": {},
   "outputs": [
    {
     "name": "stdout",
     "output_type": "stream",
     "text": [
      "[('Berlim', 84), ('Cairo', 100), ('Buenos Aires', 66), ('Los Angeles', 79), ('Tokio', 81), ('Nova Iorque', 82), ('Londres', 72)]\n"
     ]
    }
   ],
   "source": [
    "# Mais exemplos\n",
    "\n",
    "cidades = [('Berlim', 29), \n",
    "           ('Cairo', 38), \n",
    "           ('Buenos Aires', 19), \n",
    "           ('Los Angeles', 26), \n",
    "           ('Tokio', 27),            \n",
    "           ('Nova Iorque', 28), \n",
    "           ('Londres', 22)]\n",
    "\n",
    "\n",
    "# lambda + map()             *==========função===============*   *=iteravel=*\n",
    "print(list(map(lambda dado: (dado[0], round(9/5 * dado[1] + 32)), cidades)))\n"
   ]
  },
  {
   "cell_type": "code",
   "execution_count": null,
   "metadata": {},
   "outputs": [],
   "source": []
  }
 ],
 "metadata": {
  "interpreter": {
   "hash": "f5310287377959dd263704eae479e17bf8f9acf8e877e9e0ad4e0016078dcd4e"
  },
  "kernelspec": {
   "display_name": "Python 3",
   "language": "python",
   "name": "python3"
  },
  "language_info": {
   "codemirror_mode": {
    "name": "ipython",
    "version": 3
   },
   "file_extension": ".py",
   "mimetype": "text/x-python",
   "name": "python",
   "nbconvert_exporter": "python",
   "pygments_lexer": "ipython3",
   "version": "3.9.5"
  }
 },
 "nbformat": 4,
 "nbformat_minor": 4
}
