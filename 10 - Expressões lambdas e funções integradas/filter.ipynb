{
 "metadata": {
  "language_info": {
   "codemirror_mode": {
    "name": "ipython",
    "version": 3
   },
   "file_extension": ".py",
   "mimetype": "text/x-python",
   "name": "python",
   "nbconvert_exporter": "python",
   "pygments_lexer": "ipython3",
   "version": "3.9.5"
  },
  "orig_nbformat": 4,
  "kernelspec": {
   "name": "python3",
   "display_name": "Python 3.9.5 64-bit"
  },
  "interpreter": {
   "hash": "f5310287377959dd263704eae479e17bf8f9acf8e877e9e0ad4e0016078dcd4e"
  }
 },
 "nbformat": 4,
 "nbformat_minor": 2,
 "cells": [
  {
   "cell_type": "code",
   "execution_count": null,
   "metadata": {},
   "outputs": [],
   "source": [
    "\"\"\"\n",
    "Filter\n",
    "\n",
    "filter() -> Filtrar dados de uma determinada coleção.\n",
    "\n",
    "\"\"\""
   ]
  },
  {
   "cell_type": "code",
   "execution_count": null,
   "metadata": {},
   "outputs": [],
   "source": [
    "\n",
    "import statistics as st\n",
    "# Biblioteca usada para trabalhar com dados estatísticos\n",
    "dados = [1.3, 2.7, 0.8, 4.1, 4.3, -0.1]\n",
    "\n",
    "# Calculando a média dos dados utilizando a função mean()\n",
    "media = st.mean(dados)\n",
    "\n",
    "\n",
    "# Assim como a função map(), a filter(), recebe 2 parâmetros, sendo uma função e um iteravel:\n",
    "res = filter(lambda valor: valor < media, dados)  # Retorna True or False para colocar oselementos.\n",
    "print(media, list(res))\n",
    "\n",
    "# OBS: Assim como em map(), após o primeiro uso o retorno de filter() também sumirá.\n"
   ]
  },
  {
   "cell_type": "code",
   "execution_count": null,
   "metadata": {},
   "outputs": [],
   "source": [
    "\n",
    "paises = ['', 'Argentina', '', 'Brasil', '', 'Russia']\n",
    "\n",
    "print(paises)\n",
    "\n",
    "res = filter(None, paises)\n",
    "\n",
    "print(list(res))\n"
   ]
  },
  {
   "cell_type": "code",
   "execution_count": null,
   "metadata": {},
   "outputs": [],
   "source": [
    "# A Diferença entre map() e filter()\n",
    "\n",
    "# map() -> Recebe dois parâmetros, uma função e um iterável e retorna um objeto mapeando a função para\n",
    "# cada elemento iterável.\n",
    "\n",
    "# filter() -> Recebe dois parâmetros, uma função e um iterável e retorna um ojeto filtrando apenas\n",
    "# os elementos de acordo com a função.\n"
   ]
  },
  {
   "cell_type": "code",
   "execution_count": null,
   "metadata": {},
   "outputs": [],
   "source": [
    "usuarios = [\n",
    "    {'username': \"Samuel\", \"Tweets\": [\"Eu adoro bolos\", \"Eu adoro pizzas\"]},\n",
    "    {'username': \"Marília\", \"Tweets\": [\"Eu amo meu gato\"]},\n",
    "    {'username': \"Kedas\", \"Tweets\": []},\n",
    "    {'username': \"P.H.\", \"Tweets\": []},\n",
    "    {'username': \"Joca\", \"Tweets\": [\"Eu gosto de cachorros\", \"Vou sair hoje\"]},\n",
    "    {'username': \"Bruno\", \"Tweets\": []}\n",
    "]\n",
    "\n",
    "print(usuarios)\n",
    "print()\n",
    "\n",
    "# Filtrar os usuários que estão inativos no twitter:\n",
    "\n",
    "# Forma 1:\n",
    "inativos = list(filter(lambda u: len(u['Tweets']) == 0, usuarios))\n",
    "print(inativos)\n",
    "print()\n",
    "\n",
    "\n",
    "# Forma 2:\n",
    "inativos = list(filter(lambda u: not u['Tweets'], usuarios))\n",
    "print(inativos)\n",
    "print()\n",
    "\n"
   ]
  },
  {
   "cell_type": "code",
   "execution_count": null,
   "metadata": {},
   "outputs": [],
   "source": [
    "# Combinar filter e map\n",
    "# Devemos criar um lista contendo sua instrutora é + nome da instrutora, desde que cada nome tenha < 5 caracteres.\n",
    "\n",
    "nomes = ['Vanessa', 'Ana', 'Maria','Eva']\n",
    "\n",
    "lista = list(map(lambda nome: f'Sua instrutora é {nome}', filter(lambda nome: len(nome) < 5, nomes)))\n",
    "print(lista)\n"
   ]
  },
  {
   "cell_type": "code",
   "execution_count": null,
   "metadata": {},
   "outputs": [],
   "source": []
  }
 ]
}