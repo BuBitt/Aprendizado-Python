{
 "metadata": {
  "language_info": {
   "codemirror_mode": {
    "name": "ipython",
    "version": 3
   },
   "file_extension": ".py",
   "mimetype": "text/x-python",
   "name": "python",
   "nbconvert_exporter": "python",
   "pygments_lexer": "ipython3",
   "version": "3.9.5"
  },
  "orig_nbformat": 4,
  "kernelspec": {
   "name": "python3",
   "display_name": "Python 3.9.5 64-bit"
  },
  "interpreter": {
   "hash": "f5310287377959dd263704eae479e17bf8f9acf8e877e9e0ad4e0016078dcd4e"
  }
 },
 "nbformat": 4,
 "nbformat_minor": 2,
 "cells": [
  {
   "cell_type": "code",
   "execution_count": null,
   "metadata": {},
   "outputs": [],
   "source": [
    "\"\"\"\n",
    "Len, Abs, Sum, Round\n",
    "\n",
    "len()   -> Ela teorna o tamanaho, ou seja, o número de itens de um iterável.\n",
    "\n",
    "abs()   -> Ela reotorna o valor absoluto de um número inteiro ou real. De forma básica, seria o seu valor real sem o sinal.\n",
    "\n",
    "sum()   -> Recebe como parâmetro um iterável podendo receber um valor inicial e retorna a soma total dos elementos incluindo o valor inicial.\n",
    "OBS: O valor inicial efault é 0.\n",
    "\n",
    "round() -> Retorna um número arredondado para n digito de precisão após a casa decimal. Se a precisão não for informada, retorna o inteiro mais próximo da entrada.\n",
    "\"\"\""
   ]
  },
  {
   "cell_type": "code",
   "execution_count": null,
   "metadata": {},
   "outputs": [],
   "source": [
    "# Revisando len()\n",
    "print(len('Teste'))\n",
    "print(len([1, 2, 3, 4, 5, 6]))\n",
    "print(len((1, 2, 3, 4, 5, 6)))\n",
    "print(len({1, 2, 3, 4, 5, 6}))\n",
    "print(len({'a': 1, 'b': 2, 'c': 3}))\n",
    "print(len(range(0, 10)))\n",
    "\n",
    "\n",
    "# Por debaixo dos panos quando utilizamos a função len o faz o seguindte:\n",
    "print('teste'.__len__())  # Dunder len\n"
   ]
  },
  {
   "cell_type": "code",
   "execution_count": null,
   "metadata": {},
   "outputs": [],
   "source": [
    "# abs()\n",
    "print(abs(-5))\n",
    "print(abs(5))\n",
    "print(abs(3.14))\n",
    "print(abs(-3.14))\n"
   ]
  },
  {
   "cell_type": "code",
   "execution_count": null,
   "metadata": {},
   "outputs": [],
   "source": [
    "# sum()\n",
    "print(sum([1, 2, 3, 4, 5]))\n",
    "print(sum([1, 2, 3, 4, 5], 5))  # somou o total da lista + 5\n",
    "print(sum([3.1415, 10.15]))\n",
    "print(sum((1, 2, 3, 4, 5)))\n",
    "print(sum({1, 2, 3, 4, 5}))\n",
    "print(sum({'a': 1, 'b': 2, 'c': 3}.values()))\n"
   ]
  },
  {
   "cell_type": "code",
   "execution_count": null,
   "metadata": {},
   "outputs": [],
   "source": [
    "# round()\n",
    "print(round(10.2))\n",
    "print(round(10.5))\n",
    "print(round(10.6))\n",
    "print(round(10.21212121, 2))\n",
    "print(round(21.219999999999999999, 2))\n"
   ]
  },
  {
   "cell_type": "code",
   "execution_count": null,
   "metadata": {},
   "outputs": [],
   "source": []
  }
 ]
}