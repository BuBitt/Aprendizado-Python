{
 "metadata": {
  "language_info": {
   "codemirror_mode": {
    "name": "ipython",
    "version": 3
   },
   "file_extension": ".py",
   "mimetype": "text/x-python",
   "name": "python",
   "nbconvert_exporter": "python",
   "pygments_lexer": "ipython3",
   "version": "3.9.5"
  },
  "orig_nbformat": 4,
  "kernelspec": {
   "name": "python3",
   "display_name": "Python 3.9.5 64-bit"
  },
  "interpreter": {
   "hash": "da8713e953e5816d4ea986c651efa3a17939087c0876f0b6df41c80b4ea63db3"
  }
 },
 "nbformat": 4,
 "nbformat_minor": 2,
 "cells": [
  {
   "cell_type": "code",
   "execution_count": null,
   "metadata": {},
   "outputs": [],
   "source": [
    "\"\"\"\n",
    "Min e Max\n",
    "\n",
    "max() -> Retorna o maior valor em um iteravel ou o maior de 2 ou mais elementos.\n",
    "\n",
    "min() -> Retorna o menor valor em um iteravel ou o menor de 2 ou mais elementos.\n",
    "\"\"\""
   ]
  },
  {
   "cell_type": "code",
   "execution_count": null,
   "metadata": {},
   "outputs": [],
   "source": [
    "# Exemplos max()\n",
    "\n",
    "lista = [1 ,2 ,3 ,4 ,5 ,6]\n",
    "print(max(lista))\n",
    "\n",
    "tuple = (1 ,2 ,3 ,4 ,5 ,6)\n",
    "print(max(tuple))\n",
    "\n",
    "set = {1 ,2 ,3 ,4 ,5 ,6}\n",
    "print(max(set))\n",
    "\n",
    "dict = {'a': 1, 'b': 2, 'c': 3, 'd': 4, 'e': 5, 'f': 6}\n",
    "print(max(dict.values()))\n"
   ]
  },
  {
   "cell_type": "code",
   "execution_count": null,
   "metadata": {},
   "outputs": [],
   "source": [
    "# Faça um programa que receba dois valores do usuário e mostre o maior\n",
    "\n",
    "val1 = int(input('Informe o primeiro valor: '))\n",
    "val2 = int(input('Informe o segundo valor: '))\n",
    "\n",
    "print(max(val1, val2))\n"
   ]
  },
  {
   "cell_type": "code",
   "execution_count": null,
   "metadata": {},
   "outputs": [],
   "source": [
    "# Exemplos min()\n",
    "\n",
    "lista = [1 ,2 ,3 ,4 ,5 ,6]\n",
    "print(min(lista))\n",
    "\n",
    "tuple = (1 ,2 ,3 ,4 ,5 ,6)\n",
    "print(min(tuple))\n",
    "\n",
    "set = {1 ,2 ,3 ,4 ,5 ,6}\n",
    "print(min(set))\n",
    "\n",
    "dict = {'a': 1, 'b': 2, 'c': 3, 'd': 4, 'e': 5, 'f': 6}\n",
    "print(min(dict.values()))\n",
    "\n"
   ]
  },
  {
   "cell_type": "code",
   "execution_count": null,
   "metadata": {},
   "outputs": [],
   "source": [
    "# Outros exempos\n",
    "\n",
    "nomes = ['Araya', 'Simom', 'Dora', 'Tim', 'Olivia']\n",
    "\n",
    "print(max(nomes))  # Tim\n",
    "print(min(nomes))  # Arya\n",
    "\n",
    "print(max(nomes, key=lambda nome: len(nome)))  # Olivia\n",
    "print(min(nomes, key=lambda nome: len(nome)))  # Tim\n"
   ]
  },
  {
   "cell_type": "code",
   "execution_count": 10,
   "metadata": {},
   "outputs": [
    {
     "output_type": "error",
     "ename": "TypeError",
     "evalue": "'int' object is not callable",
     "traceback": [
      "\u001b[0;31m---------------------------------------------------------------------------\u001b[0m",
      "\u001b[0;31mTypeError\u001b[0m                                 Traceback (most recent call last)",
      "\u001b[0;32m/tmp/ipykernel_336006/2390483783.py\u001b[0m in \u001b[0;36m<module>\u001b[0;34m\u001b[0m\n\u001b[1;32m      6\u001b[0m ]\n\u001b[1;32m      7\u001b[0m \u001b[0;34m\u001b[0m\u001b[0m\n\u001b[0;32m----> 8\u001b[0;31m \u001b[0mprint\u001b[0m\u001b[0;34m(\u001b[0m\u001b[0mmax\u001b[0m\u001b[0;34m(\u001b[0m\u001b[0mmusicas\u001b[0m\u001b[0;34m,\u001b[0m \u001b[0mkey\u001b[0m\u001b[0;34m=\u001b[0m\u001b[0;32mlambda\u001b[0m \u001b[0mmusica\u001b[0m\u001b[0;34m:\u001b[0m \u001b[0mmusica\u001b[0m\u001b[0;34m[\u001b[0m\u001b[0;34m'tocou'\u001b[0m\u001b[0;34m]\u001b[0m\u001b[0;34m)\u001b[0m\u001b[0;34m)\u001b[0m\u001b[0;34m\u001b[0m\u001b[0;34m\u001b[0m\u001b[0m\n\u001b[0m\u001b[1;32m      9\u001b[0m \u001b[0mprint\u001b[0m\u001b[0;34m(\u001b[0m\u001b[0mmin\u001b[0m\u001b[0;34m(\u001b[0m\u001b[0mmusicas\u001b[0m\u001b[0;34m,\u001b[0m \u001b[0mkey\u001b[0m\u001b[0;34m=\u001b[0m\u001b[0;32mlambda\u001b[0m \u001b[0mmusica\u001b[0m\u001b[0;34m:\u001b[0m \u001b[0mmusica\u001b[0m\u001b[0;34m[\u001b[0m\u001b[0;34m'tocou'\u001b[0m\u001b[0;34m]\u001b[0m\u001b[0;34m)\u001b[0m\u001b[0;34m)\u001b[0m\u001b[0;34m\u001b[0m\u001b[0;34m\u001b[0m\u001b[0m\n\u001b[1;32m     10\u001b[0m \u001b[0;34m\u001b[0m\u001b[0m\n",
      "\u001b[0;31mTypeError\u001b[0m: 'int' object is not callable"
     ]
    }
   ],
   "source": [
    "musicas = [\n",
    "    {\"título\": \"Thunderstruck\", 'tocou': 3},\n",
    "    {\"título\": \"Onde Anda Você\", 'tocou': 2},\n",
    "    {\"título\": \"Black in Black\", 'tocou': 4},\n",
    "    {\"título\": \"Clannad After Story Sound Track\", 'tocou': 32},\n",
    "]\n",
    "\n",
    "print(max(musicas, key=lambda musica: musica['tocou']))\n",
    "print(min(musicas, key=lambda musica: musica['tocou']))\n",
    "\n",
    "# DESAFIO: Imprimia somente o título da musica mais e menos tocada.\n",
    "\n",
    "print(max(musicas, key=lambda musica: musica['tocou'])['título'])\n",
    "print(min(musicas, key=lambda musica: musica['tocou'])['título'])\n",
    "\n",
    "\n"
   ]
  },
  {
   "cell_type": "code",
   "execution_count": null,
   "metadata": {},
   "outputs": [],
   "source": [
    "# DESAFIO\n"
   ]
  }
 ]
}