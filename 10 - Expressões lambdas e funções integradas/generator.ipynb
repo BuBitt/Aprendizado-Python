{
 "metadata": {
  "language_info": {
   "codemirror_mode": {
    "name": "ipython",
    "version": 3
   },
   "file_extension": ".py",
   "mimetype": "text/x-python",
   "name": "python",
   "nbconvert_exporter": "python",
   "pygments_lexer": "ipython3",
   "version": "3.9.6"
  },
  "orig_nbformat": 4,
  "kernelspec": {
   "name": "python3",
   "display_name": "Python 3.9.6 64-bit"
  },
  "interpreter": {
   "hash": "4e1d9a8909477db77738c33245c29c7265277ef753467dede8cf3f814cde494e"
  }
 },
 "nbformat": 4,
 "nbformat_minor": 2,
 "cells": [
  {
   "cell_type": "code",
   "execution_count": null,
   "metadata": {},
   "outputs": [],
   "source": [
    "\"\"\"\n",
    "Generators\n",
    "\n",
    "Em aulas anteriors nós estudamos:\n",
    "  - List Comprehension;\n",
    "  - Dictionary comprehension;\n",
    "  - Set comprehension;\n",
    "\n",
    "não vimos:\n",
    "  - Tuple comprehensio... porque se chamam generators.\n",
    "\n",
    "\n",
    "nomes = ['Carlos', 'Camila', 'Carla', 'Cassiano']\n",
    "print(any([nome[0] == 'c' for nome in nomes]))\n",
    "\"\"\""
   ]
  },
  {
   "cell_type": "code",
   "execution_count": 2,
   "metadata": {},
   "outputs": [
    {
     "output_type": "stream",
     "name": "stdout",
     "text": [
      "False\n"
     ]
    }
   ],
   "source": [
    "# poderiamos te rgeito utilizando generators..\n",
    "\n",
    "nomes = ['Carlos', 'Camila', 'Carla', 'Cassiano']\n",
    "\n",
    "print(any(nome[0] == 'c' for nome in nomes))\n"
   ]
  },
  {
   "cell_type": "code",
   "execution_count": 3,
   "metadata": {},
   "outputs": [
    {
     "output_type": "stream",
     "name": "stdout",
     "text": [
      "[False, False, False, False]\nFalse\n"
     ]
    }
   ],
   "source": [
    "# List comprehension\n",
    "res1 = [nome[0] in 'c' for nome in nomes]\n",
    "print(res1)\n",
    "\n",
    "\n",
    "# Generators\n",
    "res = (nome[0] in 'c' for nome in nomes)\n",
    "print(any(res))\n"
   ]
  },
  {
   "cell_type": "code",
   "execution_count": null,
   "metadata": {},
   "outputs": [],
   "source": [
    "from sys import getsizeof\n",
    "\n",
    "\n",
    "print(getsizeof('geek'))\n",
    "print(getsizeof('abcdefghijklmnopqrstuvwxyz'))\n",
    "print(getsizeof(res1))\n",
    "print(getsizeof(res))\n"
   ]
  },
  {
   "cell_type": "code",
   "execution_count": null,
   "metadata": {},
   "outputs": [],
   "source": [
    "# Iterando no generator expression\n",
    "\n",
    "gen = (x * 10 for x in range(1000))\n",
    "print(gen)\n",
    "print(type(gen))\n",
    "\n",
    "for num in gen:\n",
    "    print(num)\n",
    "    "
   ]
  },
  {
   "cell_type": "code",
   "execution_count": null,
   "metadata": {},
   "outputs": [],
   "source": []
  }
 ]
}