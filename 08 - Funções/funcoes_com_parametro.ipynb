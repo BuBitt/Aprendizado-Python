{
 "metadata": {
  "language_info": {
   "codemirror_mode": {
    "name": "ipython",
    "version": 3
   },
   "file_extension": ".py",
   "mimetype": "text/x-python",
   "name": "python",
   "nbconvert_exporter": "python",
   "pygments_lexer": "ipython3",
   "version": "3.9.5"
  },
  "orig_nbformat": 2,
  "kernelspec": {
   "name": "python395jvsc74a57bd0f5310287377959dd263704eae479e17bf8f9acf8e877e9e0ad4e0016078dcd4e",
   "display_name": "Python 3.9.5 64-bit"
  },
  "metadata": {
   "interpreter": {
    "hash": "f5310287377959dd263704eae479e17bf8f9acf8e877e9e0ad4e0016078dcd4e"
   }
  }
 },
 "nbformat": 4,
 "nbformat_minor": 2,
 "cells": [
  {
   "cell_type": "code",
   "execution_count": null,
   "metadata": {},
   "outputs": [],
   "source": [
    "\"\"\"\n",
    "Funções com parâmetros (de entrada):\n",
    "\n",
    "- Funções que recebem dados para serem processados dentro dela.\n",
    "\n",
    "Se a gente pensar em um program qualquer, geralemtne temos:\n",
    "\n",
    "entrada -> processamento -> saída\n",
    "\n",
    "se a gente pensar em uma função, já sabemos que temos funções que:\n",
    "- Não possuem entrada;\n",
    "- Não possuem saída;\n",
    "- Possuem entrada mas não possuem saída;\n",
    "- Não possuem entrada mas possuem saída;\n",
    "- possuem entrada e saída.\n",
    "\n",
    "\n",
    "\"\"\""
   ]
  },
  {
   "cell_type": "code",
   "execution_count": null,
   "metadata": {},
   "outputs": [],
   "source": [
    "# Refatorando uma função\n",
    "\n",
    "def quadrado(numero):\n",
    "    return numero ** 2\n",
    "\n",
    "for i in range(30):\n",
    "    print(quadrado(i), end=\" \")\n"
   ]
  },
  {
   "cell_type": "code",
   "execution_count": null,
   "metadata": {},
   "outputs": [],
   "source": [
    "# Refatorando uma função\n",
    "\n",
    "def canatar_parabnes(nome):\n",
    "    print('Parabéns pra você')\n",
    "    print('Nesta data querida')\n",
    "    print('Muitas felicidades')\n",
    "    print(f'Muitos anos de vida! {nome}!')\n",
    "\n",
    "\n",
    "canatar_parabnes('Bruno')\n"
   ]
  },
  {
   "cell_type": "code",
   "execution_count": null,
   "metadata": {},
   "outputs": [],
   "source": [
    "# Funções podem ter n parâmetros de entrada, ou seja, podemos receber como entrada\n",
    "# quantos parâmetros forem encessários, eles são separados por vírgula.\n",
    "\n",
    "def soma(a, b):\n",
    "    return a + b\n",
    "\n",
    "\n",
    "def multiplca(num1, num2):\n",
    "    return num1 * num2\n",
    "\n",
    "\n",
    "def outra(num1, b, msg):\n",
    "    return (num1 + b) * msg\n",
    "\n",
    "print(soma(3, 4))\n",
    "print(multiplca(3, 4))\n",
    "outra(1, 5, 'OI! ')\n"
   ]
  },
  {
   "cell_type": "code",
   "execution_count": null,
   "metadata": {},
   "outputs": [],
   "source": [
    "# Nomeando parâmetros:\n",
    "\n",
    "def nome_completo(nome, sobrenome):\n",
    "    return f'Seu nome completo é {nome} {sobrenome}.'\n",
    "\n",
    "nome_completo('Angelina', 'Jolie')\n"
   ]
  },
  {
   "cell_type": "code",
   "execution_count": null,
   "metadata": {},
   "outputs": [],
   "source": [
    "# A diferença entra parâmetros e argumentos:\n",
    "#\n",
    "# - Parâmetros são variáveis declaradas na definição de uma função;\n",
    "# - São os dados passados durante a execução de uma função;\n"
   ]
  },
  {
   "cell_type": "code",
   "execution_count": null,
   "metadata": {},
   "outputs": [],
   "source": [
    "# Argumentos nomeados (keywords Arguments)\n",
    "\n",
    "# Caso utilizemos nomes dos parâmeros nos argumentos para informá-los, podemos\n",
    "# utilizar qualquer ordem.\n",
    "nome = 'Arara'\n",
    "sobrenome = 'quara'\n",
    "\n",
    "\n",
    "print(nome_completo(nome='Angelina', sobrenome='Jolie'))\n",
    "print(nome_completo(nome=nome, sobrenome=sobrenome))\n",
    "print(nome_completo(sobrenome='Marques', nome='Marcia'))\n"
   ]
  },
  {
   "cell_type": "code",
   "execution_count": null,
   "metadata": {},
   "outputs": [],
   "source": [
    "# Erro comum na utilização do return\n",
    "\n",
    "def soma_impares(numeros):\n",
    "    total = 0\n",
    "    for num in numeros:\n",
    "        if num % 2 != 0:\n",
    "            total = total + num\n",
    "        return total                # Errado, o return deve estar fora do if, pois o return encessa o processo\n",
    "\n",
    "lista = [1, 2, 3, 4, 5, 6, 7]\n",
    "\n",
    "soma_impares(lista)\n",
    "\n",
    "\n",
    "\n",
    "def soma_impares(numeros):\n",
    "    total = 0\n",
    "    for num in numeros:\n",
    "        if num % 2 != 0:\n",
    "            total = total + num\n",
    "    return total                # Certo, o return finaliza a função\n",
    "\n",
    "lista = [1, 2, 3, 4, 5, 6, 7]\n",
    "\n",
    "soma_impares(lista)\n"
   ]
  },
  {
   "cell_type": "code",
   "execution_count": null,
   "metadata": {},
   "outputs": [],
   "source": []
  }
 ]
}