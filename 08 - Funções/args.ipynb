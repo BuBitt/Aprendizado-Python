{
 "metadata": {
  "language_info": {
   "codemirror_mode": {
    "name": "ipython",
    "version": 3
   },
   "file_extension": ".py",
   "mimetype": "text/x-python",
   "name": "python",
   "nbconvert_exporter": "python",
   "pygments_lexer": "ipython3",
   "version": "3.9.5"
  },
  "orig_nbformat": 4,
  "kernelspec": {
   "name": "python3",
   "display_name": "Python 3.9.5 64-bit"
  },
  "interpreter": {
   "hash": "da8713e953e5816d4ea986c651efa3a17939087c0876f0b6df41c80b4ea63db3"
  }
 },
 "nbformat": 4,
 "nbformat_minor": 2,
 "cells": [
  {
   "cell_type": "code",
   "execution_count": null,
   "metadata": {},
   "outputs": [],
   "source": [
    "\"\"\"\n",
    "Entendendo *args\n",
    "\n",
    "- O *args é um parâmetro, como outro qualquer. Isso significa que você poderá chamar de qualquer coisa,\n",
    "  desde que começe com asterico.\n",
    "\n",
    "Exemplo:\n",
    "*xis\n",
    "\n",
    "Mas por convenção, utilizaremos *args para defini-lo\n",
    "\n",
    "mas que é o *args?\n",
    "\n",
    "O parâmetro  *args utilizado em uma função, coloca os valores extras informados como\n",
    "entrada em uma tupla. Então desde já lembre-se que tuplas são imutáveis.\n",
    "\"\"\""
   ]
  },
  {
   "cell_type": "code",
   "execution_count": null,
   "metadata": {},
   "outputs": [],
   "source": [
    "# Entendendo o Args:\n",
    "def soma(*args):\n",
    "    return sum(args)\n",
    "\n",
    "soma(4, 5, 6)\n",
    "\n",
    "\n",
    "def soma(nome, email,*args):\n",
    "    return sum(args)\n",
    "\n",
    "soma('Nome', 'email', 4, 5, 6)\n"
   ]
  },
  {
   "cell_type": "code",
   "execution_count": null,
   "metadata": {},
   "outputs": [],
   "source": [
    "# Outro exemplo de utilização do *args\n",
    "def veri_info(*args):\n",
    "    if 'marilia' and 'carro' in args:\n",
    "        return 'Bem vinda, Marília!'\n",
    "    return 'Eu não tenho certeza quem você é, mas não é Marília...'\n",
    "\n",
    "print(veri_info('marilia', 'carro'))\n",
    "print(veri_info('Bruno', 5))\n"
   ]
  },
  {
   "cell_type": "code",
   "execution_count": null,
   "metadata": {},
   "outputs": [],
   "source": [
    "def soma(nome, email,*args):\n",
    "    return sum(args)\n",
    "\n",
    "soma('Nome', 'email', 4, 5, 6)\n",
    "\n",
    "# Desempacotador\n",
    "numeros = [1, 2, 3, 4, 5, 6, 7]\n",
    "soma(*numeros)\n",
    "\n",
    "# OBS: o asterico serve para informamos ao python que estamos passando como\n",
    "#      argumento uma coleção Python. Assim ele desempacota os dados sozinho.\n"
   ]
  }
 ]
}