{
 "metadata": {
  "language_info": {
   "codemirror_mode": {
    "name": "ipython",
    "version": 3
   },
   "file_extension": ".py",
   "mimetype": "text/x-python",
   "name": "python",
   "nbconvert_exporter": "python",
   "pygments_lexer": "ipython3",
   "version": "3.9.5"
  },
  "orig_nbformat": 4,
  "kernelspec": {
   "name": "python3",
   "display_name": "Python 3.9.5 64-bit"
  },
  "interpreter": {
   "hash": "f5310287377959dd263704eae479e17bf8f9acf8e877e9e0ad4e0016078dcd4e"
  }
 },
 "nbformat": 4,
 "nbformat_minor": 2,
 "cells": [
  {
   "cell_type": "code",
   "execution_count": null,
   "metadata": {},
   "outputs": [],
   "source": [
    "\"\"\"\n",
    "**kwargs\n",
    "\n",
    "Poderiamos chamar este parâmetr de **xis, mas por convensão chamamos de **kwargs\n",
    "\n",
    "Este é só mais um parâmetro, mas diferente do *args qu coloca os valores extras\n",
    "em uma tupla, o **kwargs exige que utilizemos parâmetros nomeados, e transforma esses\n",
    "parâmetros extras em um dicionário.\n",
    "\"\"\""
   ]
  },
  {
   "cell_type": "code",
   "execution_count": null,
   "metadata": {},
   "outputs": [],
   "source": [
    "# Exemplo\n",
    "\n",
    "def cores(**kwargs):\n",
    "    for coisa, defi in kwargs.items():\n",
    "        print(f'{coisa.title()} é {defi}.')\n",
    "\n",
    "cores(jaca='Fruta', maçã='Fruta', lula=\"Animal\")\n",
    "\n",
    "cores()\n"
   ]
  },
  {
   "cell_type": "code",
   "execution_count": null,
   "metadata": {},
   "outputs": [],
   "source": [
    "# Exemplo complexo:\n",
    "\n",
    "def cumprimento_especial(**kwargs):\n",
    "    if 'geek' in kwargs and kwargs['geek'] == 'python':\n",
    "        return 'Você recebeu um cumprimento pytônico!'\n",
    "    elif 'geek' in kwargs:\n",
    "        return f\"{kwargs['geek']} Geek!\"\n",
    "    return 'Não tenho certeza de quem você é'\n",
    "\n",
    "\n",
    "print(cumprimento_especial())\n",
    "print(cumprimento_especial(geek='python'))\n",
    "print(cumprimento_especial(geek='Oi'))\n",
    "print(cumprimento_especial(geek='especial'))\n"
   ]
  },
  {
   "cell_type": "code",
   "execution_count": null,
   "metadata": {},
   "outputs": [],
   "source": [
    "# Nas nossas funções, podemos ter:\n",
    "# - Parâmetros obrigatórios;\n",
    "# - *args\n",
    "# - Parãmetros default\n",
    "# - **kwargs\n",
    "\n",
    "def minha_funcao(idade, nome, *args, solteiro=False, **kwargs):\n",
    "    print(f'{nome} tem {idade} anos')\n",
    "    print(args)\n",
    "    if solteiro:\n",
    "        print('Solteiro')\n",
    "    else:\n",
    "        print('Casado')\n",
    "    print(kwargs)\n",
    "\n",
    "minha_funcao(18, 'Julia')\n",
    "minha_funcao(18, 'Felicity', 4, 5, 3, solteiro=True)\n",
    "minha_funcao(54, 'Felipe', eu='Não', voce='Vai')\n",
    "minha_funcao(19, 'Carla', 9, 4, 3, java=False, python=True)\n"
   ]
  }
 ]
}