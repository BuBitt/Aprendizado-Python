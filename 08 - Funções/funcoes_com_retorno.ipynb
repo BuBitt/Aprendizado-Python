{
 "metadata": {
  "language_info": {
   "codemirror_mode": {
    "name": "ipython",
    "version": 3
   },
   "file_extension": ".py",
   "mimetype": "text/x-python",
   "name": "python",
   "nbconvert_exporter": "python",
   "pygments_lexer": "ipython3",
   "version": "3.9.5"
  },
  "orig_nbformat": 2,
  "kernelspec": {
   "name": "python395jvsc74a57bd006582a16ede3f99221a1e5ed0e28cc4eafd5cde3f4a8f96769bd8bcacff734d9",
   "display_name": "Python 3.9.5 64-bit ('3.9.5')"
  },
  "metadata": {
   "interpreter": {
    "hash": "06582a16ede3f99221a1e5ed0e28cc4eafd5cde3f4a8f96769bd8bcacff734d9"
   }
  }
 },
 "nbformat": 4,
 "nbformat_minor": 2,
 "cells": [
  {
   "cell_type": "code",
   "execution_count": null,
   "metadata": {},
   "outputs": [],
   "source": [
    "\"\"\"\n",
    "OBS: Sobre a palavra reservada 'return':\n",
    "\n",
    "1 - Ela finaliza a função, ou seja, ela sai da execução da função;\n",
    "2 - Podemos ter, em uma função, diferentes returns;\n",
    "3 - Podemos, em uma função, retornar qualquer tipo de dado e até mesmo multiplos valores;\n",
    "\"\"\""
   ]
  },
  {
   "cell_type": "code",
   "execution_count": null,
   "metadata": {},
   "outputs": [],
   "source": [
    "# Exemplo 1\n",
    "\n",
    "def diz_oi():\n",
    "    print('Estou sendo executado antes do return.')\n",
    "    return 'oi'\n",
    "    print('Estou sendo executado após o retorno.')  # Não será executada\n",
    "\n",
    "print(diz_oi())\n"
   ]
  },
  {
   "cell_type": "code",
   "execution_count": null,
   "metadata": {},
   "outputs": [],
   "source": [
    "# Exemplo 2\n",
    "def nova_funcao():\n",
    "    variavel = True\n",
    "    if variavel:\n",
    "        return 4\n",
    "    elif variavel is None:\n",
    "        return 3.2\n",
    "    return 'b'\n",
    "\n",
    "print(nova_funcao())"
   ]
  },
  {
   "cell_type": "code",
   "execution_count": null,
   "metadata": {},
   "outputs": [],
   "source": [
    "def outra_funcao():\n",
    "    return 2, 3, 4, 5\n",
    "\n",
    "# num1, num2, num3, num4, = outra_funcao()\n",
    "# print(num1, num2, num3, num4)\n",
    "\n",
    "print(outra_funcao())\n",
    "print(type(outra_funcao()))\n"
   ]
  },
  {
   "cell_type": "code",
   "execution_count": null,
   "metadata": {},
   "outputs": [],
   "source": [
    "from random import random\n",
    "# Vamos criar uma função para jogar a moeda\n",
    "\n",
    "def joga_moeda():\n",
    "    # Gera um número pseudo randômico entre 0 e 1\n",
    "    valor = random()\n",
    "\n",
    "    if valor > 0.5:\n",
    "        return 'Cara'\n",
    "    return 'Coroa'\n",
    "\n",
    "joga_moeda()"
   ]
  },
  {
   "cell_type": "code",
   "execution_count": null,
   "metadata": {},
   "outputs": [],
   "source": [
    "# Erros comuns na utilização do retorno de uma função, que na verdade nem é erro, mas codificação desnecessária\n",
    "\n",
    "def eh_impar():\n",
    "    numer = 5\n",
    "    if numero % 2 != 0\n",
    "        return True\n",
    "    else:\n",
    "        return False  # Else desnecassário, o código não é executado após o primeiro 'return';\n",
    "    "
   ]
  },
  {
   "cell_type": "code",
   "execution_count": null,
   "metadata": {},
   "outputs": [],
   "source": [
    "from 2_funcoes_com_retorno import joga_moeda\n"
   ]
  }
 ]
}